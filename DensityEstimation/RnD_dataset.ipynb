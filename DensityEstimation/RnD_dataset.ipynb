{
 "cells": [
  {
   "cell_type": "code",
   "execution_count": 1,
   "metadata": {},
   "outputs": [],
   "source": [
    "import numpy as np\n",
    "import matplotlib.pyplot as plt\n",
    "import tensorflow as tf\n",
    "import tensorflow_probability as tfp\n",
    "from scipy.special import erf\n",
    "import pandas as pd\n",
    "\n",
    "from absl import app, flags\n",
    "\n",
    "from iflow.integration import integrator\n",
    "from iflow.integration import couplings\n",
    "\n",
    "tfd = tfp.distributions  # pylint: disable=invalid-name\n",
    "tfb = tfp.bijectors  # pylint: disable=invalid-name\n",
    "tf.keras.backend.set_floatx('float64')"
   ]
  },
  {
   "cell_type": "code",
   "execution_count": 35,
   "metadata": {},
   "outputs": [],
   "source": [
    "def prepare_mother_list(filepath, make_plot=True):\n",
    "    # read and add column names\n",
    "    data = pd.read_csv(filepath, header=None, sep=' ')\n",
    "    data.columns = ['Event', 'mJJ', 'mJ1', 'tau21J1', 'dmJ', 'tau21J2']\n",
    "    data.set_index('Event', inplace=True)\n",
    "    \n",
    "    # remove nans and 0s, sort\n",
    "    data = data[~np.any(np.isnan(data) | (data==0), axis=1)]\n",
    "    data.sort_values(by='mJJ', inplace=True)\n",
    "    \n",
    "    print('read array of shape {}'.format(data.shape))\n",
    "    print(data.head())\n",
    "    if make_plot:\n",
    "        div, mod = divmod(len(data.columns), 3)\n",
    "        if mod == 0:\n",
    "            rows = div\n",
    "        else:\n",
    "            rows = 1 + div\n",
    "        fig, axs = plt.subplots(rows, 3, figsize=(4*3, 4 * rows))\n",
    "        for i, feature in enumerate(data.columns):\n",
    "            axs[divmod(i, 3)].set_title(feature)\n",
    "            axs[divmod(i, 3)].hist(data.iloc[:, i], density=True)\n",
    "        if mod != 0:\n",
    "            for i in range(mod, 3):\n",
    "                axs[rows-1, i].remove()        \n",
    "        plt.tight_layout()\n",
    "        plt.show()\n",
    "\n",
    "    return data\n",
    "\n",
    "def prepare_data_train_signal(M,deltaM,list_by_minv):\n",
    "    # pick a window\n",
    "    listcp = np.copy(list_by_minv)\n",
    "    listcp[:,0]=np.where(listcp[:,0]>(M+deltaM),0,listcp[:,0])\n",
    "    listcp[:,0]=np.where(listcp[:,0]<(M-deltaM),0,listcp[:,0])\n",
    "    mask = np.any (np.equal(listcp, 0), axis=1)\n",
    "    sublist=listcp[~mask]\n",
    "    \n",
    "    # make it a unit hypercube\n",
    "    minimum=np.amin(list_by_minv,axis=0,keepdims=True)\n",
    "    maximum=np.amax(list_by_minv,axis=0,keepdims=True)\n",
    "    data_train=(sublist-minimum)*(1.0/(maximum-minimum))\n",
    "    data_train = tf.where(data_train > 1e-16, data_train, data_train+1e-16)\n",
    "    \n",
    "    return data_train[:,1:5],sublist[:,0]\n",
    "\n",
    "def prepare_data_train_bkg(list_by_minv):\n",
    "    \n",
    "    sublist=np.copy(list_by_minv)   \n",
    "    # make it a unit hypercube\n",
    "    minimum=np.amin(list_by_minv,axis=0,keepdims=True)\n",
    "    maximum=np.amax(list_by_minv,axis=0,keepdims=True)\n",
    "    data_train=(sublist-minimum)*(1.0/(maximum-minimum))\n",
    "    data_train = tf.where(data_train > 1e-16, data_train, data_train+1e-16)\n",
    "    data_train = tf.where(data_train <1.0, data_train, 1.0-1e-16)\n",
    "    return data_train[:,1:5]\n",
    "\n",
    "def prepare_data_train(M,deltaM,list_by_minv):\n",
    "    window = (list_by_minv.mJJ >= (M-3*deltaM)) & (list_by_minv.mJJ <= (M+3*deltaM))\n",
    "    window = list_by_minv[window]\n",
    "    SR = (window.mJJ > (M-deltaM)) & (window.mJJ < (M+deltaM))\n",
    "    SR_masses = window[SR].mJJ.values\n",
    "\n",
    "    #put the data on a unit hypercube and remove the edges\n",
    "    hypercubemargin = 1e-10\n",
    "    minmax = list_by_minv.agg(['min', 'max'])\n",
    "    # exact hypercube\n",
    "    window = (window - minmax.loc['min'])/(minmax.loc['max'] - minmax.loc['min'])\n",
    "    # shrink to margin\n",
    "    window = window * (1-2*hypercubemargin) + hypercubemargin\n",
    "    # window.where(window > hypercubemargin, window + 1e-16, inplace=True)\n",
    "    # window.where(window < 1 - hypercubemargin, window - 1e-16, inplace=True)\n",
    "    \n",
    "    SB = window[~SR].copy()\n",
    "    SR = window[SR].copy()\n",
    "    return tf.convert_to_tensor(SB.values), tf.convert_to_tensor(SR.values), SR_masses\n",
    "\n",
    "def combine_sig_bkg(sig, bkg, make_plot=True):\n",
    "    sig['signal'] = True\n",
    "    bkg['signal'] = False\n",
    "    \n",
    "    combined = pd.concat([sig, bkg])\n",
    "    if make_plot:\n",
    "        div, mod = divmod(len(combined.columns), 3)\n",
    "        if mod == 0:\n",
    "            rows = div\n",
    "        else:\n",
    "            rows = 1 + div\n",
    "        fig, axs = plt.subplots(rows, 3, figsize=(4*3, 4 * rows))\n",
    "        for i, feature in enumerate(combined.columns):\n",
    "            axs[divmod(i, 3)].set_title(feature)\n",
    "            if combined.iloc[:, i].dtype == 'bool':\n",
    "                axs[divmod(i, 3)].bar(['True', 'False'],\n",
    "                                      [len(combined[combined.signal]), 0],\n",
    "                                      label='signal')\n",
    "                axs[divmod(i, 3)].bar(['True', 'False'],\n",
    "                                      [0, len(combined[~combined.signal])],\n",
    "                                      label='background')\n",
    "            else:\n",
    "                axs[divmod(i, 3)].hist(combined[combined.signal].iloc[:, i],\n",
    "                                       density=False, histtype='barstacked',\n",
    "                                       label='signal')\n",
    "                axs[divmod(i, 3)].hist(combined[~combined.signal].iloc[:, i],\n",
    "                                       density=False, histtype='barstacked',\n",
    "                                       label='background')\n",
    "            if i == 0:\n",
    "                axs[divmod(i, 3)].legend()\n",
    "        plt.tight_layout()\n",
    "        plt.show()\n",
    "    \n",
    "    return combined"
   ]
  },
  {
   "cell_type": "code",
   "execution_count": 3,
   "metadata": {},
   "outputs": [],
   "source": [
    "def build(in_features, out_features, options):\n",
    "    \" Build the NN. \"\"\"\n",
    "    del options\n",
    "\n",
    "    invals = tf.keras.layers.Input(in_features, dtype=tf.float64)\n",
    "    hidden = tf.keras.layers.Dense(32, activation='relu')(invals)\n",
    "    hidden = tf.keras.layers.BatchNormalization(axis=-1)(hidden)\n",
    "    hidden = tf.keras.layers.Dense(32, activation='relu')(hidden)\n",
    "    hidden = tf.keras.layers.BatchNormalization(axis=-1)(hidden)\n",
    "    hidden = tf.keras.layers.Dense(32, activation='relu')(hidden)\n",
    "    hidden = tf.keras.layers.Dense(32, activation='relu')(hidden)\n",
    "    hidden = tf.keras.layers.BatchNormalization(axis=-1)(hidden)\n",
    "    hidden = tf.keras.layers.Dense(32, activation='relu')(hidden)\n",
    "    outputs = tf.keras.layers.Dense(out_features)(hidden)\n",
    "    model = tf.keras.models.Model(invals, outputs)\n",
    "    model.summary()\n",
    "    return model"
   ]
  },
  {
   "cell_type": "code",
   "execution_count": 4,
   "metadata": {},
   "outputs": [],
   "source": [
    "def mask_flip(mask):\n",
    "    \"\"\" Interchange 0 <-> 1 in the mask. \"\"\"\n",
    "    return 1-mask\n",
    "\n",
    "\n",
    "def binary_list(inval, length):\n",
    "    \"\"\" Convert x into a binary list of length l. \"\"\"\n",
    "    return np.array([int(i) for i in np.binary_repr(inval, length)])\n",
    "\n",
    "\n",
    "def binary_masks(ndims):\n",
    "    \"\"\" Create binary masks for to account for symmetries. \"\"\"\n",
    "    n_masks = int(np.ceil(np.log2(ndims)))\n",
    "    sub_masks = np.transpose(np.array(\n",
    "        [binary_list(i, n_masks)\n",
    "         for i in range(ndims)]))[::-1]\n",
    "    flip_masks = mask_flip(sub_masks)\n",
    "\n",
    "    # Combine masks\n",
    "    masks = np.empty((2*n_masks, ndims))\n",
    "    masks[0::2] = flip_masks\n",
    "    masks[1::2] = sub_masks\n",
    "\n",
    "    return masks"
   ]
  },
  {
   "cell_type": "code",
   "execution_count": 5,
   "metadata": {},
   "outputs": [
    {
     "name": "stdout",
     "output_type": "stream",
     "text": [
      "[[1. 0. 1. 0.]\n",
      " [0. 1. 0. 1.]\n",
      " [1. 1. 0. 0.]\n",
      " [0. 0. 1. 1.]]\n"
     ]
    },
    {
     "data": {
      "text/plain": [
       "array([[0., 1., 0., 1., 0.],\n",
       "       [0., 0., 1., 0., 1.],\n",
       "       [0., 1., 1., 0., 0.],\n",
       "       [0., 0., 0., 1., 1.]])"
      ]
     },
     "execution_count": 5,
     "metadata": {},
     "output_type": "execute_result"
    }
   ],
   "source": [
    "print(binary_masks(4))\n",
    "np.pad(binary_masks(4),((0,0),(1,0)),'constant',constant_values=(0,0))"
   ]
  },
  {
   "cell_type": "code",
   "execution_count": 6,
   "metadata": {},
   "outputs": [],
   "source": [
    "def build_iflow(ndims,lr):\n",
    "    masks = np.pad(binary_masks(4),((0,0),(1,0)),'constant',constant_values=(0,0))\n",
    "    bijector=[]\n",
    "    for mask in masks:\n",
    "        bijector.append(couplings.PiecewiseRationalQuadratic(mask,build,num_bins=16,blob=None,options=None))\n",
    "    \n",
    "    bijector=tfb.Chain(list(reversed(bijector)))\n",
    "    low = np.zeros(ndims, dtype=np.float64)\n",
    "    high = np.ones(ndims, dtype=np.float64)\n",
    "    dist = tfd.Uniform(low=low, high=high)\n",
    "    dist = tfd.Independent(distribution=dist,reinterpreted_batch_ndims=1)\n",
    "    dist = tfd.TransformedDistribution(distribution=dist,bijector=bijector)\n",
    "    \n",
    "    lr_schedule = tf.keras.optimizers.schedules.ExponentialDecay(lr, decay_steps=100, decay_rate=0.5)\n",
    "    optimizer = tf.keras.optimizers.Adam(lr, clipnorm=10.0#, amsgrad=True\n",
    "                                        )\n",
    "    return dist, optimizer"
   ]
  },
  {
   "cell_type": "code",
   "execution_count": 7,
   "metadata": {},
   "outputs": [],
   "source": [
    "@tf.function\n",
    "def train_one_step(dist,optimizer,samples):\n",
    "    #samples=data_train[epoch*nsamples:(epoch+1)*nsamples,:]\n",
    "    with tf.GradientTape() as tape:\n",
    "        test = dist.prob(samples)\n",
    "        #print(test)\n",
    "        #logq = dist.log_prob(samples)\n",
    "        #mean, var = tf.nn.moments(x=true/test, axes=[0])\n",
    "        #true = tf.stop_gradient(true/mean)\n",
    "        logq = tf.where(test > 1e-16, tf.math.log(test),tf.math.log(test+1e-16))\n",
    "        #print(logq)\n",
    "        loss = - tf.reduce_mean(logq)\n",
    "        \n",
    "    grads = tape.gradient(loss, dist.trainable_variables)\n",
    "    optimizer.apply_gradients(zip(grads, dist.trainable_variables))\n",
    "    return loss\n",
    "\n",
    "@tf.function\n",
    "def train_one_step_no2(dist,optimizer,samples):\n",
    "    #samples=data_train[epoch*nsamples:(epoch+1)*nsamples,:]\n",
    "    with tf.GradientTape() as tape:\n",
    "        test = dist.prob(samples)\n",
    "        #print(test)\n",
    "        #logq = dist.log_prob(samples)\n",
    "        #mean, var = tf.nn.moments(x=true/test, axes=[0])\n",
    "        #true = tf.stop_gradient(true/mean)\n",
    "        logq = tf.where(test > 1e-16, tf.math.log(test),tf.math.log(test+1e-16))\n",
    "        #print(logq)\n",
    "        loss = - tf.reduce_mean(logq)\n",
    "        \n",
    "    grads = tape.gradient(loss, dist.trainable_variables)\n",
    "    optimizer.apply_gradients(zip(grads, dist.trainable_variables))\n",
    "    return loss\n",
    "\n",
    "@tf.function\n",
    "def train_one_step_no3(dist,optimizer,samples):\n",
    "    #samples=data_train[epoch*nsamples:(epoch+1)*nsamples,:]\n",
    "    with tf.GradientTape() as tape:\n",
    "        test = dist.prob(samples)\n",
    "        #print(test)\n",
    "        #logq = dist.log_prob(samples)\n",
    "        #mean, var = tf.nn.moments(x=true/test, axes=[0])\n",
    "        #true = tf.stop_gradient(true/mean)\n",
    "        logq = tf.where(test > 1e-16, tf.math.log(test),tf.math.log(test+1e-16))\n",
    "        #print(logq)\n",
    "        loss = - tf.reduce_mean(logq)\n",
    "        \n",
    "    grads = tape.gradient(loss, dist.trainable_variables)\n",
    "    optimizer.apply_gradients(zip(grads, dist.trainable_variables))\n",
    "    return loss"
   ]
  },
  {
   "cell_type": "code",
   "execution_count": 8,
   "metadata": {},
   "outputs": [],
   "source": [
    "def save_weights(dist):\n",
    "    for j, bijector in enumerate(dist.bijector.bijectors):\n",
    "        bijector.transform_net.save_weights(\n",
    "                './models/model_layer_{:02d}'.format(j))\n",
    "\n",
    "def load_weights(dist):\n",
    "    for j, bijector in enumerate(dist.bijector.bijectors):\n",
    "        bijector.transform_net.load_weights(\n",
    "                './models/model_layer_{:02d}'.format(j))\n",
    "    print(\"Model loaded successfully\")"
   ]
  },
  {
   "cell_type": "code",
   "execution_count": 9,
   "metadata": {},
   "outputs": [],
   "source": [
    "def train_iflow(list_by_minv,M=3800, deltaM=100, issig=True, batchsize=200,lr=1e-3,epochs=10):\n",
    "    \n",
    "    bkg, sig, invM = prepare_data_train(M,deltaM,list_by_minv)\n",
    "   \n",
    "    if issig:\n",
    "        data_train = sig\n",
    "    else:\n",
    "        data_train = bkg\n",
    "        \n",
    "    (totalpts, ndims) = np.shape(data_train)\n",
    "    print(totalpts)\n",
    "    \n",
    "    dist, optimizer = build_iflow(ndims,lr) #ignore the dimension of invM_{j1,j2}\n",
    "       \n",
    "    batches = int(totalpts/batchsize)\n",
    "    print(batches)\n",
    "    \n",
    "    #try:\n",
    "        #load_weights(dist)\n",
    "    #except tf.errors.InvalidArgumentError:\n",
    "    for epoch in range(epochs+1):\n",
    "        data_train=tf.random.shuffle(data_train)\n",
    "        for batch in range(batches+1):\n",
    "            samples=data_train[batch*batchsize:(batch+1)*batchsize,:]\n",
    "                #print(samples)\n",
    "            try:\n",
    "                loss = train_one_step(dist,optimizer,samples)\n",
    "            except:\n",
    "                try:\n",
    "                    loss = train_one_step_no2(dist, optimizer, samples)\n",
    "                except:\n",
    "                    loss = train_one_step_no3(dist, optimizer, samples)\n",
    "            if batch % 10 ==0:\n",
    "                print('Batch: {:3d} Loss = {:8e}'.format(batch, loss))\n",
    "        if epoch % 1 == 0:\n",
    "            print('Epoch: {:3d} Loss = {:8e}'.format(epoch, loss))\n",
    "    save_weights(dist)\n",
    "    return dist"
   ]
  },
  {
   "cell_type": "markdown",
   "metadata": {},
   "source": [
    "Import Data"
   ]
  },
  {
   "cell_type": "code",
   "execution_count": 10,
   "metadata": {},
   "outputs": [
    {
     "name": "stdout",
     "output_type": "stream",
     "text": [
      "read array of shape (999668, 5)\n",
      "            mJJ       mJ1   tau21J1       dmJ   tau21J2\n",
      "Event                                                  \n",
      "450885  1132.28  256.4420  0.584751  122.0150  0.721372\n",
      "900271  1344.41  136.4530  0.656294   45.9379  0.778359\n",
      "606527  1356.00  221.5270  0.348195   17.9149  0.791087\n",
      "618345  1359.23   66.5476  0.586281  100.3800  0.413897\n",
      "602321  1369.24  153.4330  0.509714   16.0895  0.653790\n"
     ]
    },
    {
     "data": {
      "image/png": "[encoded data removed]",
      "text/plain": [
       "<Figure size 864x576 with 5 Axes>"
      ]
     },
     "metadata": {
      "needs_background": "light"
     },
     "output_type": "display_data"
    },
    {
     "name": "stdout",
     "output_type": "stream",
     "text": [
      "read array of shape (99948, 5)\n",
      "           mJJ       mJ1   tau21J1       dmJ   tau21J2\n",
      "Event                                                 \n",
      "61569  1640.86  231.3330  0.468651   61.7481  0.801618\n",
      "12978  1700.06  104.3390  0.156207   95.4028  0.565405\n",
      "845    1703.78  116.1400  0.318631   55.2056  0.430425\n",
      "69763  1718.81  113.0020  0.467825  102.3100  0.778852\n",
      "821    1748.70   94.0819  0.437161   39.1778  0.657479\n"
     ]
    },
    {
     "data": {
      "image/png": "[encoded data removed]",
      "text/plain": [
       "<Figure size 864x576 with 5 Axes>"
      ]
     },
     "metadata": {
      "needs_background": "light"
     },
     "output_type": "display_data"
    }
   ],
   "source": [
    "bkgname=\"rndbkgout.txt\"\n",
    "signame=\"rndsigout.txt\"\n",
    "bkglist=prepare_mother_list(bkgname)\n",
    "siglist=prepare_mother_list(signame)"
   ]
  },
  {
   "cell_type": "code",
   "execution_count": 11,
   "metadata": {},
   "outputs": [
    {
     "name": "stderr",
     "output_type": "stream",
     "text": [
      "<string>:6: RuntimeWarning: Converting input from bool to <class 'numpy.uint8'> for compatibility.\n"
     ]
    },
    {
     "data": {
      "image/png": "[encoded data removed]",
      "text/plain": [
       "<Figure size 864x576 with 6 Axes>"
      ]
     },
     "metadata": {
      "needs_background": "light"
     },
     "output_type": "display_data"
    }
   ],
   "source": [
    "combined = combine_sig_bkg(siglist, bkglist)"
   ]
  },
  {
   "cell_type": "markdown",
   "metadata": {},
   "source": [
    "Train on Signal Data"
   ]
  },
  {
   "cell_type": "code",
   "execution_count": null,
   "metadata": {
    "scrolled": true
   },
   "outputs": [
    {
     "name": "stdout",
     "output_type": "stream",
     "text": [
      "52856\n",
      "Model: \"model\"\n",
      "_________________________________________________________________\n",
      "Layer (type)                 Output Shape              Param #   \n",
      "=================================================================\n",
      "input_1 (InputLayer)         [(None, 3)]               0         \n",
      "_________________________________________________________________\n",
      "dense (Dense)                (None, 32)                128       \n",
      "_________________________________________________________________\n",
      "batch_normalization (BatchNo (None, 32)                128       \n",
      "_________________________________________________________________\n",
      "dense_1 (Dense)              (None, 32)                1056      \n",
      "_________________________________________________________________\n",
      "batch_normalization_1 (Batch (None, 32)                128       \n",
      "_________________________________________________________________\n",
      "dense_2 (Dense)              (None, 32)                1056      \n",
      "_________________________________________________________________\n",
      "dense_3 (Dense)              (None, 32)                1056      \n",
      "_________________________________________________________________\n",
      "batch_normalization_2 (Batch (None, 32)                128       \n",
      "_________________________________________________________________\n",
      "dense_4 (Dense)              (None, 32)                1056      \n",
      "_________________________________________________________________\n",
      "dense_5 (Dense)              (None, 98)                3234      \n",
      "=================================================================\n",
      "Total params: 7,970\n",
      "Trainable params: 7,778\n",
      "Non-trainable params: 192\n",
      "_________________________________________________________________\n",
      "Model: \"model_1\"\n",
      "_________________________________________________________________\n",
      "Layer (type)                 Output Shape              Param #   \n",
      "=================================================================\n",
      "input_2 (InputLayer)         [(None, 3)]               0         \n",
      "_________________________________________________________________\n",
      "dense_6 (Dense)              (None, 32)                128       \n",
      "_________________________________________________________________\n",
      "batch_normalization_3 (Batch (None, 32)                128       \n",
      "_________________________________________________________________\n",
      "dense_7 (Dense)              (None, 32)                1056      \n",
      "_________________________________________________________________\n",
      "batch_normalization_4 (Batch (None, 32)                128       \n",
      "_________________________________________________________________\n",
      "dense_8 (Dense)              (None, 32)                1056      \n",
      "_________________________________________________________________\n",
      "dense_9 (Dense)              (None, 32)                1056      \n",
      "_________________________________________________________________\n",
      "batch_normalization_5 (Batch (None, 32)                128       \n",
      "_________________________________________________________________\n",
      "dense_10 (Dense)             (None, 32)                1056      \n",
      "_________________________________________________________________\n",
      "dense_11 (Dense)             (None, 98)                3234      \n",
      "=================================================================\n",
      "Total params: 7,970\n",
      "Trainable params: 7,778\n",
      "Non-trainable params: 192\n",
      "_________________________________________________________________\n",
      "Model: \"model_2\"\n",
      "_________________________________________________________________\n",
      "Layer (type)                 Output Shape              Param #   \n",
      "=================================================================\n",
      "input_3 (InputLayer)         [(None, 3)]               0         \n",
      "_________________________________________________________________\n",
      "dense_12 (Dense)             (None, 32)                128       \n",
      "_________________________________________________________________\n",
      "batch_normalization_6 (Batch (None, 32)                128       \n",
      "_________________________________________________________________\n",
      "dense_13 (Dense)             (None, 32)                1056      \n",
      "_________________________________________________________________\n",
      "batch_normalization_7 (Batch (None, 32)                128       \n",
      "_________________________________________________________________\n",
      "dense_14 (Dense)             (None, 32)                1056      \n",
      "_________________________________________________________________\n",
      "dense_15 (Dense)             (None, 32)                1056      \n",
      "_________________________________________________________________\n",
      "batch_normalization_8 (Batch (None, 32)                128       \n",
      "_________________________________________________________________\n",
      "dense_16 (Dense)             (None, 32)                1056      \n",
      "_________________________________________________________________\n",
      "dense_17 (Dense)             (None, 98)                3234      \n",
      "=================================================================\n",
      "Total params: 7,970\n",
      "Trainable params: 7,778\n",
      "Non-trainable params: 192\n",
      "_________________________________________________________________\n",
      "Model: \"model_3\"\n",
      "_________________________________________________________________\n",
      "Layer (type)                 Output Shape              Param #   \n",
      "=================================================================\n",
      "input_4 (InputLayer)         [(None, 3)]               0         \n",
      "_________________________________________________________________\n",
      "dense_18 (Dense)             (None, 32)                128       \n",
      "_________________________________________________________________\n",
      "batch_normalization_9 (Batch (None, 32)                128       \n",
      "_________________________________________________________________\n",
      "dense_19 (Dense)             (None, 32)                1056      \n",
      "_________________________________________________________________\n",
      "batch_normalization_10 (Batc (None, 32)                128       \n",
      "_________________________________________________________________\n",
      "dense_20 (Dense)             (None, 32)                1056      \n",
      "_________________________________________________________________\n",
      "dense_21 (Dense)             (None, 32)                1056      \n",
      "_________________________________________________________________\n",
      "batch_normalization_11 (Batc (None, 32)                128       \n",
      "_________________________________________________________________\n",
      "dense_22 (Dense)             (None, 32)                1056      \n",
      "_________________________________________________________________\n",
      "dense_23 (Dense)             (None, 98)                3234      \n",
      "=================================================================\n",
      "Total params: 7,970\n",
      "Trainable params: 7,778\n",
      "Non-trainable params: 192\n",
      "_________________________________________________________________\n",
      "206\n",
      "Batch:   0 Loss = 7.245151e-02\n",
      "Batch:  10 Loss = -3.985421e-01\n",
      "Batch:  20 Loss = -1.027605e+00\n",
      "Batch:  30 Loss = -1.942565e+00\n",
      "Batch:  40 Loss = -2.466346e+00\n",
      "Batch:  50 Loss = -2.513750e+00\n",
      "Batch:  60 Loss = -2.833387e+00\n",
      "Batch:  70 Loss = -2.848328e+00\n",
      "Batch:  80 Loss = -2.967292e+00\n",
      "Batch:  90 Loss = -3.101706e+00\n",
      "Batch: 100 Loss = -3.073862e+00\n",
      "Batch: 110 Loss = -3.449788e+00\n",
      "Batch: 120 Loss = -3.311300e+00\n",
      "Batch: 130 Loss = -3.441374e+00\n",
      "Batch: 140 Loss = -3.541722e+00\n",
      "Batch: 150 Loss = -3.433978e+00\n",
      "Batch: 160 Loss = -3.496667e+00\n",
      "Batch: 170 Loss = -3.357714e+00\n",
      "Batch: 180 Loss = -3.533301e+00\n",
      "Batch: 190 Loss = -3.617622e+00\n",
      "Batch: 200 Loss = -3.462670e+00\n",
      "Epoch:   0 Loss = -3.412415e+00\n",
      "Batch:   0 Loss = -3.803562e+00\n",
      "Batch:  10 Loss = -3.694022e+00\n",
      "Batch:  20 Loss = -3.663749e+00\n",
      "Batch:  30 Loss = -3.864603e+00\n",
      "Batch:  40 Loss = -3.792786e+00\n",
      "Batch:  50 Loss = -3.541422e+00\n",
      "Batch:  60 Loss = -3.741823e+00\n",
      "Batch:  70 Loss = -3.933998e+00\n",
      "Batch:  80 Loss = -3.631037e+00\n",
      "Batch:  90 Loss = -3.614795e+00\n",
      "Batch: 100 Loss = -3.703769e+00\n",
      "Batch: 110 Loss = -3.864498e+00\n",
      "Batch: 120 Loss = -3.609972e+00\n",
      "Batch: 130 Loss = -3.750888e+00\n",
      "Batch: 140 Loss = -3.627833e+00\n",
      "Batch: 150 Loss = -3.558992e+00\n",
      "Batch: 160 Loss = -3.707031e+00\n",
      "Batch: 170 Loss = -3.707031e+00\n",
      "Batch: 180 Loss = -3.502231e+00\n",
      "Batch: 190 Loss = -3.738908e+00\n",
      "Batch: 200 Loss = -3.588637e+00\n",
      "Epoch:   1 Loss = -3.806054e+00\n",
      "Batch:   0 Loss = -3.625057e+00\n",
      "Batch:  10 Loss = -3.627595e+00\n",
      "Batch:  20 Loss = -3.697833e+00\n"
     ]
    },
    {
     "name": "stdout",
     "output_type": "stream",
     "text": [
      "Batch:  30 Loss = -3.832687e+00\n",
      "Batch:  40 Loss = -3.558501e+00\n",
      "Batch:  50 Loss = -3.887471e+00\n",
      "Batch:  60 Loss = -3.778839e+00\n",
      "Batch:  70 Loss = -3.860070e+00\n",
      "Batch:  80 Loss = -3.830804e+00\n",
      "Batch:  90 Loss = -3.856878e+00\n",
      "Batch: 100 Loss = -3.836820e+00\n",
      "Batch: 110 Loss = -3.844666e+00\n",
      "Batch: 120 Loss = -3.840928e+00\n",
      "Batch: 130 Loss = -3.596314e+00\n",
      "Batch: 140 Loss = -3.740465e+00\n",
      "Batch: 150 Loss = -3.773080e+00\n",
      "Batch: 160 Loss = -3.738423e+00\n",
      "Batch: 170 Loss = -3.876286e+00\n",
      "Batch: 180 Loss = -3.796889e+00\n",
      "Batch: 190 Loss = -3.751970e+00\n",
      "Batch: 200 Loss = -3.736916e+00\n",
      "Epoch:   2 Loss = -3.674561e+00\n",
      "Batch:   0 Loss = -3.653451e+00\n",
      "Batch:  10 Loss = -3.793769e+00\n",
      "Batch:  20 Loss = -3.686456e+00\n",
      "Batch:  30 Loss = -3.895039e+00\n",
      "Batch:  40 Loss = -3.703396e+00\n",
      "Batch:  50 Loss = -3.724142e+00\n",
      "Batch:  60 Loss = -3.909502e+00\n",
      "Batch:  70 Loss = -3.926738e+00\n",
      "Batch:  80 Loss = -3.820380e+00\n",
      "Batch:  90 Loss = -3.785139e+00\n",
      "Batch: 100 Loss = -3.782230e+00\n",
      "Batch: 110 Loss = -3.746245e+00\n",
      "Batch: 120 Loss = -3.979691e+00\n",
      "Batch: 130 Loss = -3.773482e+00\n",
      "Batch: 140 Loss = -3.804926e+00\n",
      "Batch: 150 Loss = -3.757876e+00\n",
      "Batch: 160 Loss = -3.835337e+00\n",
      "Batch: 170 Loss = -3.665457e+00\n",
      "Batch: 180 Loss = -3.654989e+00\n",
      "Batch: 190 Loss = -3.739091e+00\n",
      "Batch: 200 Loss = -3.807986e+00\n",
      "Epoch:   3 Loss = -3.770756e+00\n",
      "Batch:   0 Loss = -3.755313e+00\n",
      "Batch:  10 Loss = -3.881310e+00\n",
      "Batch:  20 Loss = -4.015360e+00\n",
      "Batch:  30 Loss = -3.802261e+00\n",
      "Batch:  40 Loss = -3.863598e+00\n",
      "Batch:  50 Loss = -3.661666e+00\n",
      "Batch:  60 Loss = -3.657518e+00\n",
      "Batch:  70 Loss = -3.832035e+00\n",
      "Batch:  80 Loss = -3.885176e+00\n",
      "Batch:  90 Loss = -3.759812e+00\n",
      "Batch: 100 Loss = -3.784308e+00\n",
      "Batch: 110 Loss = -3.853358e+00\n",
      "Batch: 120 Loss = -3.954447e+00\n",
      "Batch: 130 Loss = -3.790783e+00\n",
      "Batch: 140 Loss = -3.907057e+00\n",
      "Batch: 150 Loss = -3.895333e+00\n",
      "Batch: 160 Loss = -3.688024e+00\n",
      "Batch: 170 Loss = -3.727252e+00\n",
      "Batch: 180 Loss = -3.663790e+00\n",
      "Batch: 190 Loss = -3.754419e+00\n",
      "Batch: 200 Loss = -3.848005e+00\n",
      "Epoch:   4 Loss = -3.505869e+00\n",
      "Batch:   0 Loss = -3.953354e+00\n",
      "Batch:  10 Loss = -3.676336e+00\n",
      "Batch:  20 Loss = -3.909908e+00\n",
      "Batch:  30 Loss = -3.785673e+00\n",
      "Batch:  40 Loss = -3.602261e+00\n",
      "Batch:  50 Loss = -3.855504e+00\n",
      "Batch:  60 Loss = -3.796379e+00\n",
      "Batch:  70 Loss = -3.989314e+00\n",
      "Batch:  80 Loss = -3.682087e+00\n",
      "Batch:  90 Loss = -3.781315e+00\n",
      "Batch: 100 Loss = -3.903571e+00\n",
      "Batch: 110 Loss = -3.876093e+00\n",
      "Batch: 120 Loss = -3.920179e+00\n",
      "Batch: 130 Loss = -3.791400e+00\n",
      "Batch: 140 Loss = -3.922605e+00\n",
      "Batch: 150 Loss = -3.768619e+00\n",
      "Batch: 160 Loss = -3.772907e+00\n",
      "Batch: 170 Loss = -3.798111e+00\n",
      "Batch: 180 Loss = -3.790896e+00\n",
      "Batch: 190 Loss = -3.891383e+00\n",
      "Batch: 200 Loss = -3.745016e+00\n",
      "Epoch:   5 Loss = -3.899852e+00\n",
      "Batch:   0 Loss = -3.961947e+00\n",
      "Batch:  10 Loss = -3.880996e+00\n",
      "Batch:  20 Loss = -3.949774e+00\n",
      "Batch:  30 Loss = -3.664670e+00\n",
      "Batch:  40 Loss = -3.725451e+00\n",
      "Batch:  50 Loss = -3.868367e+00\n",
      "Batch:  60 Loss = -3.747041e+00\n",
      "Batch:  70 Loss = -3.681211e+00\n",
      "Batch:  80 Loss = -3.899942e+00\n",
      "Batch:  90 Loss = -3.636803e+00\n",
      "Batch: 100 Loss = -3.783032e+00\n",
      "Batch: 110 Loss = -3.672774e+00\n",
      "Batch: 120 Loss = -3.693055e+00\n",
      "Batch: 130 Loss = -3.880164e+00\n",
      "Batch: 140 Loss = -3.722800e+00\n",
      "Batch: 150 Loss = -3.691992e+00\n",
      "Batch: 160 Loss = -3.895483e+00\n",
      "Batch: 170 Loss = -3.867887e+00\n",
      "Batch: 180 Loss = -3.795706e+00\n",
      "Batch: 190 Loss = -3.907435e+00\n",
      "Batch: 200 Loss = -3.825222e+00\n",
      "Epoch:   6 Loss = -3.828746e+00\n",
      "Batch:   0 Loss = -3.790838e+00\n",
      "Batch:  10 Loss = -3.847264e+00\n",
      "Batch:  20 Loss = -3.821432e+00\n",
      "Batch:  30 Loss = -3.782004e+00\n",
      "Batch:  40 Loss = -3.834487e+00\n",
      "Batch:  50 Loss = -3.792727e+00\n",
      "Batch:  60 Loss = -3.900891e+00\n",
      "Batch:  70 Loss = -3.839919e+00\n",
      "Batch:  80 Loss = -3.757228e+00\n",
      "Batch:  90 Loss = -3.951991e+00\n",
      "Batch: 100 Loss = -3.930212e+00\n",
      "Batch: 110 Loss = -3.784643e+00\n",
      "Batch: 120 Loss = -3.967656e+00\n",
      "Batch: 130 Loss = -3.850904e+00\n",
      "Batch: 140 Loss = -3.689954e+00\n",
      "Batch: 150 Loss = -3.885194e+00\n",
      "Batch: 160 Loss = -3.864666e+00\n",
      "Batch: 170 Loss = -3.756108e+00\n",
      "Batch: 180 Loss = -3.882839e+00\n",
      "Batch: 190 Loss = -3.747618e+00\n",
      "Batch: 200 Loss = -3.852265e+00\n",
      "Epoch:   7 Loss = -3.986304e+00\n",
      "Batch:   0 Loss = -3.893610e+00\n",
      "Batch:  10 Loss = -3.902882e+00\n",
      "Batch:  20 Loss = -3.972423e+00\n",
      "Batch:  30 Loss = -3.929885e+00\n",
      "Batch:  40 Loss = -3.612470e+00\n",
      "Batch:  50 Loss = -3.940803e+00\n",
      "Batch:  60 Loss = -3.741033e+00\n",
      "Batch:  70 Loss = -3.776574e+00\n",
      "Batch:  80 Loss = -3.767400e+00\n",
      "Batch:  90 Loss = -3.702739e+00\n",
      "Batch: 100 Loss = -3.890283e+00\n",
      "Batch: 110 Loss = -3.721293e+00\n",
      "Batch: 120 Loss = -3.746842e+00\n",
      "Batch: 130 Loss = -3.915676e+00\n",
      "Batch: 140 Loss = -3.808066e+00\n",
      "Batch: 150 Loss = -3.958860e+00\n",
      "Batch: 160 Loss = -3.956910e+00\n",
      "Batch: 170 Loss = -3.898876e+00\n",
      "Batch: 180 Loss = -3.866270e+00\n",
      "Batch: 190 Loss = -3.767642e+00\n",
      "Batch: 200 Loss = -3.866299e+00\n",
      "Epoch:   8 Loss = -3.934689e+00\n",
      "Batch:   0 Loss = -3.849339e+00\n",
      "Batch:  10 Loss = -3.889013e+00\n",
      "Batch:  20 Loss = -3.813972e+00\n",
      "Batch:  30 Loss = -3.916993e+00\n",
      "Batch:  40 Loss = -3.717160e+00\n",
      "Batch:  50 Loss = -3.911720e+00\n",
      "Batch:  60 Loss = -3.877514e+00\n",
      "Batch:  70 Loss = -3.910718e+00\n",
      "Batch:  80 Loss = -3.723487e+00\n",
      "Batch:  90 Loss = -3.876595e+00\n",
      "Batch: 100 Loss = -3.802904e+00\n",
      "Batch: 110 Loss = -3.867823e+00\n",
      "Batch: 120 Loss = -3.749607e+00\n",
      "Batch: 130 Loss = -3.841113e+00\n",
      "Batch: 140 Loss = -3.843937e+00\n",
      "Batch: 150 Loss = -3.819191e+00\n",
      "Batch: 160 Loss = -3.831265e+00\n",
      "Batch: 170 Loss = -3.886955e+00\n",
      "Batch: 180 Loss = -3.661101e+00\n",
      "Batch: 190 Loss = -3.882783e+00\n",
      "Batch: 200 Loss = -3.751028e+00\n",
      "Epoch:   9 Loss = -3.815831e+00\n",
      "Batch:   0 Loss = -3.903718e+00\n",
      "Batch:  10 Loss = -3.764237e+00\n",
      "Batch:  20 Loss = -3.737283e+00\n",
      "Batch:  30 Loss = -3.848186e+00\n",
      "Batch:  40 Loss = -3.810085e+00\n",
      "Batch:  50 Loss = -3.843754e+00\n",
      "Batch:  60 Loss = -3.803101e+00\n",
      "Batch:  70 Loss = -3.585393e+00\n",
      "Batch:  80 Loss = -3.799691e+00\n",
      "Batch:  90 Loss = -3.634724e+00\n",
      "Batch: 100 Loss = -3.828901e+00\n",
      "Batch: 110 Loss = -3.801948e+00\n",
      "Batch: 120 Loss = -3.676454e+00\n",
      "Batch: 130 Loss = -3.644882e+00\n",
      "Batch: 140 Loss = -3.878683e+00\n",
      "Batch: 150 Loss = -3.742227e+00\n",
      "Batch: 160 Loss = -3.899753e+00\n",
      "Batch: 170 Loss = -3.858362e+00\n",
      "Batch: 180 Loss = -3.873664e+00\n",
      "Batch: 190 Loss = -3.713934e+00\n",
      "Batch: 200 Loss = -3.815113e+00\n",
      "Epoch:  10 Loss = -4.030412e+00\n",
      "Batch:   0 Loss = -3.826374e+00\n",
      "Batch:  10 Loss = -3.874937e+00\n",
      "Batch:  20 Loss = -3.900664e+00\n",
      "Batch:  30 Loss = -3.892207e+00\n",
      "Batch:  40 Loss = -3.906797e+00\n",
      "Batch:  50 Loss = -3.971930e+00\n",
      "Batch:  60 Loss = -3.898401e+00\n",
      "Batch:  70 Loss = -3.845001e+00\n",
      "Batch:  80 Loss = -3.803403e+00\n",
      "Batch:  90 Loss = -3.826314e+00\n",
      "Batch: 100 Loss = -3.817850e+00\n",
      "Batch: 110 Loss = -3.975349e+00\n",
      "Batch: 120 Loss = -3.904921e+00\n",
      "Batch: 130 Loss = -4.002403e+00\n",
      "Batch: 140 Loss = -3.777637e+00\n",
      "Batch: 150 Loss = -3.992877e+00\n",
      "Batch: 160 Loss = -3.738084e+00\n",
      "Batch: 170 Loss = -3.780838e+00\n",
      "Batch: 180 Loss = -3.807719e+00\n",
      "Batch: 190 Loss = -3.959541e+00\n",
      "Batch: 200 Loss = -3.781608e+00\n",
      "Epoch:  11 Loss = -3.970332e+00\n",
      "Batch:   0 Loss = -3.794511e+00\n",
      "Batch:  10 Loss = -3.747525e+00\n",
      "Batch:  20 Loss = -3.899404e+00\n",
      "Batch:  30 Loss = -3.915727e+00\n",
      "Batch:  40 Loss = -3.865510e+00\n",
      "Batch:  50 Loss = -3.899971e+00\n",
      "Batch:  60 Loss = -3.840357e+00\n",
      "Batch:  70 Loss = -3.799103e+00\n",
      "Batch:  80 Loss = -3.841466e+00\n",
      "Batch:  90 Loss = -3.883494e+00\n",
      "Batch: 100 Loss = -3.736558e+00\n",
      "Batch: 110 Loss = -3.912431e+00\n",
      "Batch: 120 Loss = -3.875953e+00\n",
      "Batch: 130 Loss = -3.703246e+00\n",
      "Batch: 140 Loss = -3.888839e+00\n",
      "Batch: 150 Loss = -3.831623e+00\n",
      "Batch: 160 Loss = -3.898594e+00\n",
      "Batch: 170 Loss = -3.877016e+00\n",
      "Batch: 180 Loss = -3.811429e+00\n",
      "Batch: 190 Loss = -4.134983e+00\n",
      "Batch: 200 Loss = -3.889156e+00\n",
      "Epoch:  12 Loss = -3.921740e+00\n",
      "Batch:   0 Loss = -3.919396e+00\n",
      "Batch:  10 Loss = -3.782862e+00\n",
      "Batch:  20 Loss = -3.792821e+00\n",
      "Batch:  30 Loss = -3.832003e+00\n",
      "Batch:  40 Loss = -3.936493e+00\n",
      "Batch:  50 Loss = -3.778142e+00\n",
      "Batch:  60 Loss = -3.899877e+00\n",
      "Batch:  70 Loss = -3.964858e+00\n",
      "Batch:  80 Loss = -3.878488e+00\n",
      "Batch:  90 Loss = -3.855763e+00\n",
      "Batch: 100 Loss = -3.787419e+00\n",
      "Batch: 110 Loss = -3.888026e+00\n",
      "Batch: 120 Loss = -3.770176e+00\n",
      "Batch: 130 Loss = -3.930469e+00\n",
      "Batch: 140 Loss = -3.870647e+00\n",
      "Batch: 150 Loss = -3.817397e+00\n",
      "Batch: 160 Loss = -3.810391e+00\n",
      "Batch: 170 Loss = -3.849385e+00\n"
     ]
    },
    {
     "name": "stdout",
     "output_type": "stream",
     "text": [
      "Batch: 180 Loss = -3.963778e+00\n",
      "Batch: 190 Loss = -3.843461e+00\n",
      "Batch: 200 Loss = -3.913529e+00\n",
      "Epoch:  13 Loss = -3.579695e+00\n",
      "Batch:   0 Loss = -3.967966e+00\n",
      "Batch:  10 Loss = -3.777589e+00\n",
      "Batch:  20 Loss = -3.799096e+00\n",
      "Batch:  30 Loss = -3.890258e+00\n",
      "Batch:  40 Loss = -3.857911e+00\n",
      "Batch:  50 Loss = -3.952249e+00\n",
      "Batch:  60 Loss = -3.724516e+00\n",
      "Batch:  70 Loss = -3.798931e+00\n",
      "Batch:  80 Loss = -3.861651e+00\n",
      "Batch:  90 Loss = -3.768733e+00\n",
      "Batch: 100 Loss = -3.803096e+00\n",
      "Batch: 110 Loss = -3.769617e+00\n",
      "Batch: 120 Loss = -4.013269e+00\n",
      "Batch: 130 Loss = -3.935318e+00\n",
      "Batch: 140 Loss = -3.895555e+00\n",
      "Batch: 150 Loss = -3.764868e+00\n",
      "Batch: 160 Loss = -3.903961e+00\n",
      "Batch: 170 Loss = -3.930740e+00\n",
      "Batch: 180 Loss = -3.942831e+00\n",
      "Batch: 190 Loss = -3.847974e+00\n",
      "Batch: 200 Loss = -3.797173e+00\n",
      "Epoch:  14 Loss = -3.793003e+00\n",
      "Batch:   0 Loss = -3.856458e+00\n",
      "Batch:  10 Loss = -3.922992e+00\n",
      "Batch:  20 Loss = -3.802578e+00\n",
      "Batch:  30 Loss = -3.805944e+00\n",
      "Batch:  40 Loss = -3.992269e+00\n",
      "Batch:  50 Loss = -3.915068e+00\n",
      "Batch:  60 Loss = -3.783086e+00\n",
      "Batch:  70 Loss = -3.932471e+00\n",
      "Batch:  80 Loss = -3.727213e+00\n",
      "Batch:  90 Loss = -3.875623e+00\n",
      "Batch: 100 Loss = -3.734406e+00\n",
      "Batch: 110 Loss = -3.984730e+00\n",
      "Batch: 120 Loss = -3.814738e+00\n",
      "Batch: 130 Loss = -3.743161e+00\n",
      "Batch: 140 Loss = -3.949443e+00\n",
      "Batch: 150 Loss = -3.877757e+00\n",
      "Batch: 160 Loss = -4.029991e+00\n",
      "Batch: 170 Loss = -3.652523e+00\n",
      "Batch: 180 Loss = -3.934679e+00\n",
      "Batch: 190 Loss = -3.810110e+00\n",
      "Batch: 200 Loss = -3.814423e+00\n",
      "Epoch:  15 Loss = -4.158811e+00\n",
      "Batch:   0 Loss = -3.841456e+00\n",
      "Batch:  10 Loss = -3.849682e+00\n",
      "Batch:  20 Loss = -3.936088e+00\n",
      "Batch:  30 Loss = -3.906333e+00\n",
      "Batch:  40 Loss = -3.770845e+00\n",
      "Batch:  50 Loss = -3.748982e+00\n",
      "Batch:  60 Loss = -3.762645e+00\n",
      "Batch:  70 Loss = -3.906958e+00\n",
      "Batch:  80 Loss = -3.814359e+00\n",
      "Batch:  90 Loss = -3.736591e+00\n",
      "Batch: 100 Loss = -3.883466e+00\n",
      "Batch: 110 Loss = -3.770020e+00\n",
      "Batch: 120 Loss = -3.687123e+00\n",
      "Batch: 130 Loss = -3.932728e+00\n",
      "Batch: 140 Loss = -3.836734e+00\n",
      "Batch: 150 Loss = -3.834221e+00\n",
      "Batch: 160 Loss = -3.578566e+00\n"
     ]
    }
   ],
   "source": [
    "sigdist =train_iflow(combined.drop(columns='signal') ,M=3800, deltaM=100,\n",
    "                     issig=True, batchsize=256,lr=1e-3,epochs=50)"
   ]
  },
  {
   "cell_type": "markdown",
   "metadata": {},
   "source": [
    "Train on Background Data"
   ]
  },
  {
   "cell_type": "code",
   "execution_count": null,
   "metadata": {
    "scrolled": true
   },
   "outputs": [],
   "source": [
    "bkgdist = train_iflow(combined.drop(columns='signal') ,M=3800, deltaM=100,\n",
    "                      issig=False, batchsize=256,lr=1e-3,epochs=50) #do not use learning rate schedule"
   ]
  },
  {
   "cell_type": "markdown",
   "metadata": {},
   "source": [
    "Calculating R"
   ]
  },
  {
   "cell_type": "code",
   "execution_count": 30,
   "metadata": {},
   "outputs": [],
   "source": [
    "data_train_bkg, data_train_sig, invM= prepare_data_train(3800,100,bblist)"
   ]
  },
  {
   "cell_type": "code",
   "execution_count": 15,
   "metadata": {},
   "outputs": [],
   "source": [
    "bkgprob=bkgdist.prob(data_train_sig)\n",
    "sigprob=sigdist.prob(data_train_sig)\n",
    "bkglogprob=np.log(bkgprob)"
   ]
  },
  {
   "cell_type": "code",
   "execution_count": 19,
   "metadata": {},
   "outputs": [
    {
     "name": "stderr",
     "output_type": "stream",
     "text": [
      "/home/matthias/Codes/miniconda3/lib/python3.7/site-packages/numpy/lib/histograms.py:839: RuntimeWarning: invalid value encountered in greater_equal\n",
      "  keep = (tmp_a >= first_edge)\n",
      "/home/matthias/Codes/miniconda3/lib/python3.7/site-packages/numpy/lib/histograms.py:840: RuntimeWarning: invalid value encountered in less_equal\n",
      "  keep &= (tmp_a <= last_edge)\n"
     ]
    },
    {
     "data": {
      "text/plain": [
       "(array([0., 0., 0., 0., 0., 0., 0., 0., 0., 0., 0., 0., 0., 0., 0.]),\n",
       " array([ 0.,  1.,  2.,  3.,  4.,  5.,  6.,  7.,  8.,  9., 10., 11., 12.,\n",
       "        13., 14., 15.]),\n",
       " <a list of 15 Patch objects>)"
      ]
     },
     "execution_count": 19,
     "metadata": {},
     "output_type": "execute_result"
    },
    {
     "data": {
      "image/png": "[encoded data removed]",
      "text/plain": [
       "<Figure size 432x288 with 1 Axes>"
      ]
     },
     "metadata": {
      "needs_background": "light"
     },
     "output_type": "display_data"
    }
   ],
   "source": [
    "plt.hist(sigprob*(1.0/bkgprob),bins=15,range=(0,15))"
   ]
  },
  {
   "cell_type": "code",
   "execution_count": 20,
   "metadata": {},
   "outputs": [
    {
     "data": {
      "text/plain": [
       "TensorShape([7327])"
      ]
     },
     "execution_count": 20,
     "metadata": {},
     "output_type": "execute_result"
    }
   ],
   "source": [
    "R=sigprob*(1.0/bkgprob)\n",
    "np.shape(R)"
   ]
  },
  {
   "cell_type": "code",
   "execution_count": 21,
   "metadata": {},
   "outputs": [
    {
     "data": {
      "text/plain": [
       "(-2.5, 7.5)"
      ]
     },
     "execution_count": 21,
     "metadata": {},
     "output_type": "execute_result"
    },
    {
     "data": {
      "image/png": "[encoded data removed]",
      "text/plain": [
       "<Figure size 432x288 with 1 Axes>"
      ]
     },
     "metadata": {
      "needs_background": "light"
     },
     "output_type": "display_data"
    }
   ],
   "source": [
    "plt.scatter(bkglogprob,R,s=0.1)\n",
    "plt.ylim(0,2)\n",
    "plt.xlim(-2.5,7.5)"
   ]
  },
  {
   "cell_type": "code",
   "execution_count": 88,
   "metadata": {},
   "outputs": [
    {
     "data": {
      "text/plain": [
       "(array([10.,  6.,  6.,  9.,  4.,  4.,  6.,  6.,  9.,  6.]),\n",
       " array([3603.13 , 3641.773, 3680.416, 3719.059, 3757.702, 3796.345,\n",
       "        3834.988, 3873.631, 3912.274, 3950.917, 3989.56 ]),\n",
       " <a list of 10 Patch objects>)"
      ]
     },
     "execution_count": 88,
     "metadata": {},
     "output_type": "execute_result"
    },
    {
     "data": {
      "image/png": "[encoded data removed]",
      "text/plain": [
       "<Figure size 432x288 with 1 Axes>"
      ]
     },
     "metadata": {
      "needs_background": "light"
     },
     "output_type": "display_data"
    }
   ],
   "source": [
    "#cut on R\n",
    "print\n",
    "plt.hist(invM[~np.less(R,10)])"
   ]
  },
  {
   "cell_type": "code",
   "execution_count": 71,
   "metadata": {},
   "outputs": [],
   "source": [
    "nsamples=1000\n",
    "#training_data_sampled=data_train_sig[:nsamples,:]\n",
    "dist_sampled_data_bkg=bkgdist.sample(nsamples)\n",
    "dist_sampled_data_sig=sigdist.sample(nsamples)"
   ]
  },
  {
   "cell_type": "code",
   "execution_count": 74,
   "metadata": {},
   "outputs": [
    {
     "data": {
      "text/plain": [
       "<matplotlib.collections.PathCollection at 0x7f1db47e8198>"
      ]
     },
     "execution_count": 74,
     "metadata": {},
     "output_type": "execute_result"
    },
    {
     "data": {
      "image/png": "[encoded data removed]",
      "text/plain": [
       "<Figure size 432x288 with 1 Axes>"
      ]
     },
     "metadata": {
      "needs_background": "light"
     },
     "output_type": "display_data"
    }
   ],
   "source": [
    "plt.scatter(dist_sampled_data_sig[:,0],dist_sampled_data_sig[:,2])\n",
    "plt.scatter(dist_sampled_data_bkg[:,0],dist_sampled_data_bkg[:,2])"
   ]
  },
  {
   "cell_type": "code",
   "execution_count": 36,
   "metadata": {},
   "outputs": [
    {
     "ename": "NameError",
     "evalue": "name 'training_data_sampled' is not defined",
     "output_type": "error",
     "traceback": [
      "\u001b[0;31m---------------------------------------------------------------------------\u001b[0m",
      "\u001b[0;31mNameError\u001b[0m                                 Traceback (most recent call last)",
      "\u001b[0;32m<ipython-input-36-2d16c2cbddea>\u001b[0m in \u001b[0;36m<module>\u001b[0;34m\u001b[0m\n\u001b[1;32m      1\u001b[0m \u001b[0;32mimport\u001b[0m \u001b[0mcorner\u001b[0m\u001b[0;34m\u001b[0m\u001b[0;34m\u001b[0m\u001b[0m\n\u001b[0;32m----> 2\u001b[0;31m \u001b[0mcorner\u001b[0m\u001b[0;34m.\u001b[0m\u001b[0mcorner\u001b[0m\u001b[0;34m(\u001b[0m\u001b[0mtraining_data_sampled\u001b[0m\u001b[0;34m)\u001b[0m\u001b[0;34m\u001b[0m\u001b[0;34m\u001b[0m\u001b[0m\n\u001b[0m\u001b[1;32m      3\u001b[0m \u001b[0mplt\u001b[0m\u001b[0;34m.\u001b[0m\u001b[0mshow\u001b[0m\u001b[0;34m(\u001b[0m\u001b[0;34m)\u001b[0m\u001b[0;34m\u001b[0m\u001b[0;34m\u001b[0m\u001b[0m\n\u001b[1;32m      4\u001b[0m \u001b[0mcorner\u001b[0m\u001b[0;34m.\u001b[0m\u001b[0mcorner\u001b[0m\u001b[0;34m(\u001b[0m\u001b[0mdist_sampled_data_sig\u001b[0m\u001b[0;34m)\u001b[0m\u001b[0;34m\u001b[0m\u001b[0;34m\u001b[0m\u001b[0m\n\u001b[1;32m      5\u001b[0m \u001b[0mplt\u001b[0m\u001b[0;34m.\u001b[0m\u001b[0mshow\u001b[0m\u001b[0;34m(\u001b[0m\u001b[0;34m)\u001b[0m\u001b[0;34m\u001b[0m\u001b[0;34m\u001b[0m\u001b[0m\n",
      "\u001b[0;31mNameError\u001b[0m: name 'training_data_sampled' is not defined"
     ]
    }
   ],
   "source": [
    "import corner\n",
    "corner.corner(training_data_sampled)\n",
    "plt.show()\n",
    "corner.corner(dist_sampled_data_sig)\n",
    "plt.show()"
   ]
  },
  {
   "cell_type": "code",
   "execution_count": null,
   "metadata": {},
   "outputs": [],
   "source": []
  }
 ],
 "metadata": {
  "kernelspec": {
   "display_name": "Python 3",
   "language": "python",
   "name": "python3"
  },
  "language_info": {
   "codemirror_mode": {
    "name": "ipython",
    "version": 3
   },
   "file_extension": ".py",
   "mimetype": "text/x-python",
   "name": "python",
   "nbconvert_exporter": "python",
   "pygments_lexer": "ipython3",
   "version": "3.7.4"
  }
 },
 "nbformat": 4,
 "nbformat_minor": 2
}
