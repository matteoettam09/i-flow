{
 "cells": [
  {
   "cell_type": "code",
   "execution_count": 151,
   "metadata": {},
   "outputs": [],
   "source": [
    "import numpy as np\n",
    "import matplotlib.pyplot as plt\n",
    "%matplotlib inline\n",
    "import tensorflow as tf\n",
    "tfd = tf.contrib.distributions\n",
    "tfb = tfd.bijectors\n",
    "from tensorflow.keras import layers, models"
   ]
  },
  {
   "cell_type": "code",
   "execution_count": 2,
   "metadata": {},
   "outputs": [],
   "source": [
    "tf.enable_eager_execution()"
   ]
  },
  {
   "cell_type": "markdown",
   "metadata": {},
   "source": [
    "## Settings"
   ]
  },
  {
   "cell_type": "code",
   "execution_count": 1092,
   "metadata": {},
   "outputs": [],
   "source": [
    "DTYPE=tf.float32\n",
    "NP_DTYPE=np.float32\n",
    "BATCH_SIZE=3"
   ]
  },
  {
   "cell_type": "code",
   "execution_count": 1093,
   "metadata": {},
   "outputs": [
    {
     "data": {
      "text/plain": [
       "array([[0.        , 0.1612276 , 0.28718038, 0.19235418, 0.24624781,\n",
       "        0.11299003]])"
      ]
     },
     "execution_count": 1093,
     "metadata": {},
     "output_type": "execute_result"
    }
   ],
   "source": [
    "# randomly assign unnormalized values to piecewise PDF, here we will be using a total of 6 dimensions (|B|=3)\n",
    "QMat = np.random.rand(1,5)\n",
    "# normalize the piecewise PDF such that the integral is 1\n",
    "QMat = tf.nn.softmax(QMat)\n",
    "# Insert a 0 to the beginning to match the size to the bin array\n",
    "QMat = np.insert(QMat,0,0,axis=1)\n",
    "# Print out values of Q for testing purposes\n",
    "QMat"
   ]
  },
  {
   "cell_type": "code",
   "execution_count": 1122,
   "metadata": {},
   "outputs": [],
   "source": [
    "# network in the coupling layer\n",
    "def net(x, outsize, nbins):\n",
    "    inval = layers.Input(shape=(3,))\n",
    "    h1 = layers.Dense(64,activation='relu')(inval)\n",
    "    h2 = layers.Dense(64,activation='relu')(h1)\n",
    "    out = layers.Dense(outsize*nbins,activation='relu')(h2)\n",
    "    out = layers.Reshape((outsize,nbins))(out)\n",
    "    model = models.Model(inval,out)\n",
    "    return model\n",
    "\n",
    "class PiecewiseLinear(tfb.Bijector):\n",
    "    \"\"\"\n",
    "    Piecewise Linear: based on 1808.03856\n",
    "    \"\"\"\n",
    "    def __init__(self, D, d, nbins, layer_id=0, validate_args=False, name=\"PiecewiseLinear\"):\n",
    "        \"\"\"\n",
    "        Args:\n",
    "            D: number of dimensions\n",
    "            d: First d units are pass-thru units.\n",
    "        \"\"\"\n",
    "        super(PiecewiseLinear, self).__init__(\n",
    "            forward_min_event_ndims=1, validate_args=validate_args, name=name\n",
    "        )\n",
    "        self.D, self.d = D, d\n",
    "        self.id = layer_id\n",
    "        self.nbins = nbins\n",
    "        self.width = 1.0/self.nbins\n",
    "        self.range = np.arange(self.d)\n",
    "        self.QMat = self.buildQ(self.d, self.nbins)\n",
    "        \n",
    "    def buildQ(self, d, nbins):\n",
    "        inval = layers.Input(shape=(d,))\n",
    "        h1 = layers.Dense(64,activation='relu')(inval)\n",
    "        h2 = layers.Dense(64,activation='relu')(h1)\n",
    "        out = layers.Dense(d*nbins,activation='relu')(h2)\n",
    "        out = layers.Reshape((d,nbins))(out)\n",
    "        model = models.Model(inval,out)\n",
    "        return model\n",
    "        \n",
    "    def Q(self, xd):\n",
    "        QMat = tf.nn.softmax(self.QMat(xd),axis=2)\n",
    "        QMat = np.insert(QMat,0,0,axis=2)\n",
    "        return QMat\n",
    "        \n",
    "    def pdf(self,x):\n",
    "        xd, xD = x[:, :self.d], x[:, self.d:]\n",
    "        Q = self.Q(xd)\n",
    "        ibins = np.array(np.floor(xD*self.nbins),dtype=np.int32)+1\n",
    "        grid = np.array(np.meshgrid(np.arange(len(xD)),self.range)).T\n",
    "        bins = tf.concat([grid,ibins[np.arange(len(xD)),:,np.newaxis]],axis=2)\n",
    "        return tf.concat([xd, tf.gather_nd(Q,bins)/self.width], axis=1)\n",
    "        \n",
    "    def _forward(self, x):\n",
    "        \"Calculate forward coupling layer\"\n",
    "        xd, xD = x[:, :self.d], x[:, self.d:]\n",
    "        Q = self.Q(xd)\n",
    "        ibins = np.array(np.floor(xD*self.nbins),dtype=np.int32)\n",
    "        ibinsp1 = ibins+1\n",
    "        grid = np.array(np.meshgrid(np.arange(len(xD)),self.range)).T\n",
    "        bins = tf.concat([grid,ibinsp1[np.arange(len(xD)),:,np.newaxis]],axis=2)\n",
    "        binsSum = tf.concat([grid,ibins[np.arange(len(xD)),:,np.newaxis]],axis=2)\n",
    "        yD = (xD*self.nbins-ibins)*tf.gather_nd(Q,bins)+tf.gather_nd(np.cumsum(Q,axis=2),binsSum)\n",
    "        return tf.concat([xd, yD], axis=1)\n",
    "        \n",
    "    def _inverse(self, y):\n",
    "        \"Calculate inverse coupling layer\"\n",
    "        yd, yD = y[:, :self.d], y[:, self.d:]\n",
    "        Q = self.Q(yd)\n",
    "        ibins = tf.transpose(tf.searchsorted(np.cumsum(Q,axis=2),tf.transpose(yD)[...,np.newaxis],side='right'))\n",
    "        ibins = ibins.numpy().reshape(len(yD),self.d)\n",
    "        ibins = ibins-1\n",
    "        ibinsp1 = ibins+1\n",
    "        grid = np.array(np.meshgrid(np.arange(len(yD)),self.range)).T\n",
    "        bins = tf.concat([grid,ibinsp1[np.arange(len(yD)),:,np.newaxis]],axis=2)\n",
    "        binsSum = tf.concat([grid,ibins[np.arange(len(yD)),:,np.newaxis]],axis=2)\n",
    "        xD = ((yD-tf.gather_nd(np.cumsum(Q,axis=2),binsSum))*tf.reciprocal(tf.gather_nd(Q,bins))\\\n",
    "              +np.array(ibins,dtype=np.float32))*self.width\n",
    "        return tf.concat([yd, xD], axis=1)\n",
    "    \n",
    "    def _forward_log_det_jacobian(self, x):\n",
    "        \"Calculate log determinant of Coupling Layer\"\n",
    "        return tf.reduce_sum(tf.log(self.pdf(x)[:,self.d:]),axis=-1)\n",
    "    \n",
    "    def _inverse_log_det_jacobian(self, y):\n",
    "        \"Calculate log determinant of Coupling Layer\"\n",
    "        yd, yD = y[:, :self.d], y[:, self.d:]\n",
    "        Q = self.Q(yd)\n",
    "        ibins = tf.transpose(tf.searchsorted(np.cumsum(Q,axis=2),tf.transpose(yD)[...,np.newaxis],side='right'))\n",
    "        ibins = ibins.numpy().reshape(len(yD),self.d)\n",
    "        ibins = ibins-1\n",
    "        ibinsp1 = ibins+1\n",
    "        grid = np.array(np.meshgrid(np.arange(len(yD)),self.range)).T\n",
    "        bins = tf.concat([grid,ibinsp1[np.arange(len(yD)),:,np.newaxis]],axis=2)\n",
    "        return -tf.reduce_sum(tf.log(tf.gather_nd(Q,bins)/self.width),axis=-1)"
   ]
  },
  {
   "cell_type": "code",
   "execution_count": 1123,
   "metadata": {},
   "outputs": [],
   "source": [
    "test = PiecewiseLinear(6,3,5)"
   ]
  },
  {
   "cell_type": "code",
   "execution_count": 1154,
   "metadata": {},
   "outputs": [
    {
     "name": "stdout",
     "output_type": "stream",
     "text": [
      "[[8.80860388e-01 8.49325955e-01 9.26614404e-01 5.54870546e-01\n",
      "  5.05484700e-01 3.51909161e-01]\n",
      " [3.07151526e-01 8.87601614e-01 8.53209972e-01 4.17751461e-01\n",
      "  6.59942627e-01 9.67313647e-02]\n",
      " [1.50513440e-01 3.74333918e-01 7.56450117e-01 1.19568214e-01\n",
      "  6.57405376e-01 2.44591042e-01]\n",
      " [9.49892104e-01 3.87360334e-01 3.86523634e-01 7.15804577e-01\n",
      "  4.47666645e-01 5.41512787e-01]\n",
      " [6.06869340e-01 8.70747328e-01 6.91438839e-03 5.89761913e-01\n",
      "  8.34955096e-01 6.29099598e-03]\n",
      " [8.10652256e-01 8.22016478e-01 7.58432746e-02 1.91163182e-01\n",
      "  7.39876568e-01 4.34547931e-01]\n",
      " [4.32776064e-02 2.08143219e-01 9.94212106e-02 5.29038727e-01\n",
      "  8.67500082e-02 7.47795582e-01]\n",
      " [6.85989738e-01 4.59896863e-01 4.53065872e-01 6.42777920e-01\n",
      "  4.66162413e-01 3.30227733e-01]\n",
      " [9.37827006e-02 7.63982952e-01 6.93837643e-01 3.04220438e-01\n",
      "  8.00813496e-01 9.86395121e-01]\n",
      " [1.79826036e-01 9.21786904e-01 1.39460474e-01 3.51521522e-01\n",
      "  4.49769288e-01 9.79073048e-01]\n",
      " [5.27420402e-01 7.53543079e-01 4.37513500e-01 2.59075642e-01\n",
      "  5.14323771e-01 4.83361818e-02]\n",
      " [8.92059445e-01 2.11017564e-01 6.62361324e-01 7.92328715e-01\n",
      "  5.59839189e-01 3.05393964e-01]\n",
      " [8.65394056e-01 6.95547163e-01 8.99623752e-01 2.86861509e-01\n",
      "  4.80129033e-01 9.97674167e-02]\n",
      " [7.48072267e-01 2.18468249e-01 9.55704541e-04 2.67952502e-01\n",
      "  3.94999772e-01 8.33256304e-01]\n",
      " [5.78312218e-01 5.58930874e-01 4.90060031e-01 7.71453738e-01\n",
      "  5.69371507e-02 5.18978775e-01]\n",
      " [9.64142680e-01 9.82565939e-01 5.42092443e-01 1.36907056e-01\n",
      "  6.72874093e-01 8.56618345e-01]\n",
      " [4.47018772e-01 4.48965967e-01 5.43520510e-01 6.27780139e-01\n",
      "  7.84798682e-01 6.46640360e-01]\n",
      " [8.21982265e-01 8.39875281e-01 4.46286708e-01 9.61811364e-01\n",
      "  7.83039927e-02 4.20727544e-02]\n",
      " [1.81182008e-02 7.98140466e-02 3.87479603e-01 6.05394185e-01\n",
      "  4.02224571e-01 1.12987496e-01]\n",
      " [8.78359377e-01 5.82996964e-01 2.53946066e-01 7.59776115e-01\n",
      "  2.44387001e-01 2.73320854e-01]\n",
      " [6.62095249e-01 8.88067484e-01 5.33976972e-01 8.81255269e-01\n",
      "  1.23996876e-01 2.61983671e-03]\n",
      " [7.53355265e-01 4.73100273e-03 6.64349079e-01 4.80279833e-01\n",
      "  2.58025080e-01 1.58559725e-01]\n",
      " [8.18735123e-01 6.70128584e-01 5.44520132e-02 3.38210136e-01\n",
      "  7.61234403e-01 5.06632686e-01]\n",
      " [3.58155072e-01 7.18633056e-01 4.52954739e-01 8.84264946e-01\n",
      "  9.03729796e-01 7.22357869e-01]\n",
      " [1.34040967e-01 4.84575629e-01 5.42256415e-01 8.85297731e-02\n",
      "  2.22939461e-01 8.66049767e-01]\n",
      " [5.03348172e-01 7.13021815e-01 6.39313579e-01 1.07379109e-01\n",
      "  9.60666299e-01 9.10922408e-01]\n",
      " [2.62243390e-01 5.32169998e-01 2.75674582e-01 9.13364470e-01\n",
      "  4.08576936e-01 6.64492846e-01]\n",
      " [3.18783462e-01 3.64331037e-01 3.74997616e-01 7.80079842e-01\n",
      "  3.48503627e-02 8.03341210e-01]\n",
      " [3.03217739e-01 3.76183152e-01 4.02897865e-01 6.97368057e-03\n",
      "  8.28795075e-01 6.92927301e-01]\n",
      " [2.31560916e-01 9.52074885e-01 6.78619862e-01 8.70758533e-01\n",
      "  2.78161377e-01 6.37486339e-01]]\n",
      "[[8.80860388e-01 8.49325955e-01 9.26614404e-01 5.54870605e-01\n",
      "  5.05484700e-01 3.51909161e-01]\n",
      " [3.07151526e-01 8.87601614e-01 8.53209972e-01 4.17751461e-01\n",
      "  6.59942627e-01 9.67313647e-02]\n",
      " [1.50513440e-01 3.74333918e-01 7.56450117e-01 1.19568221e-01\n",
      "  6.57405376e-01 2.44591042e-01]\n",
      " [9.49892104e-01 3.87360334e-01 3.86523634e-01 7.15804577e-01\n",
      "  4.47666645e-01 5.41512787e-01]\n",
      " [6.06869340e-01 8.70747328e-01 6.91438839e-03 5.89761913e-01\n",
      "  8.34955156e-01 6.29099598e-03]\n",
      " [8.10652256e-01 8.22016478e-01 7.58432746e-02 1.89949572e-01\n",
      "  7.39876568e-01 4.34547961e-01]\n",
      " [4.32776064e-02 2.08143219e-01 9.94212106e-02 5.29038727e-01\n",
      "  8.67500082e-02 7.47795582e-01]\n",
      " [6.85989738e-01 4.59896863e-01 4.53065872e-01 6.42777920e-01\n",
      "  4.66162413e-01 3.30227733e-01]\n",
      " [9.37827006e-02 7.63982952e-01 6.93837643e-01 3.04220438e-01\n",
      "  8.00912499e-01 9.86395061e-01]\n",
      " [1.79826036e-01 9.21786904e-01 1.39460474e-01 3.51521522e-01\n",
      "  4.49769318e-01 9.79073048e-01]\n",
      " [5.27420402e-01 7.53543079e-01 4.37513500e-01 2.59075642e-01\n",
      "  5.14323711e-01 4.83361818e-02]\n",
      " [8.92059445e-01 2.11017564e-01 6.62361324e-01 7.92328775e-01\n",
      "  5.59839189e-01 3.05393964e-01]\n",
      " [8.65394056e-01 6.95547163e-01 8.99623752e-01 2.86861509e-01\n",
      "  4.80129063e-01 9.97674167e-02]\n",
      " [7.48072267e-01 2.18468249e-01 9.55704541e-04 2.67952502e-01\n",
      "  3.94999802e-01 8.33256364e-01]\n",
      " [5.78312218e-01 5.58930874e-01 4.90060031e-01 7.71453798e-01\n",
      "  5.69371544e-02 5.18978775e-01]\n",
      " [9.64142680e-01 9.82565939e-01 5.42092443e-01 1.36907056e-01\n",
      "  6.72874093e-01 8.56618345e-01]\n",
      " [4.47018772e-01 4.48965967e-01 5.43520510e-01 6.27780199e-01\n",
      "  7.84798682e-01 6.46640360e-01]\n",
      " [8.21982265e-01 8.39875281e-01 4.46286708e-01 9.61811364e-01\n",
      "  7.83040002e-02 4.20727544e-02]\n",
      " [1.81182008e-02 7.98140466e-02 3.87479603e-01 6.05394185e-01\n",
      "  4.02224600e-01 1.12987496e-01]\n",
      " [8.78359377e-01 5.82996964e-01 2.53946066e-01 7.59776175e-01\n",
      "  2.44387016e-01 2.73320884e-01]\n",
      " [6.62095249e-01 8.88067484e-01 5.33976972e-01 8.81255269e-01\n",
      "  1.23996876e-01 2.61983671e-03]\n",
      " [7.53355265e-01 4.73100273e-03 6.64349079e-01 4.80279833e-01\n",
      "  2.58025080e-01 1.58559725e-01]\n",
      " [8.18735123e-01 6.70128584e-01 5.44520132e-02 3.38210106e-01\n",
      "  7.61234403e-01 5.06632745e-01]\n",
      " [3.58155072e-01 7.18633056e-01 4.52954739e-01 8.84264946e-01\n",
      "  9.03729856e-01 7.22357869e-01]\n",
      " [1.34040967e-01 4.84575629e-01 5.42256415e-01 8.85297656e-02\n",
      "  2.22939476e-01 8.66049767e-01]\n",
      " [5.03348172e-01 7.13021815e-01 6.39313579e-01 1.07379101e-01\n",
      "  9.60666299e-01 9.10922468e-01]\n",
      " [2.62243390e-01 5.32169998e-01 2.75674582e-01 9.13364530e-01\n",
      "  4.08576936e-01 6.64492786e-01]\n",
      " [3.18783462e-01 3.64331037e-01 3.74997616e-01 7.80079842e-01\n",
      "  3.48503627e-02 8.03341210e-01]\n",
      " [3.03217739e-01 3.76183152e-01 4.02897865e-01 6.97368104e-03\n",
      "  8.28795075e-01 6.92927361e-01]\n",
      " [2.31560916e-01 9.52074885e-01 6.78619862e-01 8.70758533e-01\n",
      "  2.78161377e-01 6.37486398e-01]]\n",
      "[[ 0.0000000e+00  0.0000000e+00  0.0000000e+00 -5.9604645e-08\n",
      "   0.0000000e+00  0.0000000e+00]\n",
      " [ 0.0000000e+00  0.0000000e+00  0.0000000e+00  0.0000000e+00\n",
      "   0.0000000e+00  0.0000000e+00]\n",
      " [ 0.0000000e+00  0.0000000e+00  0.0000000e+00 -7.4505806e-09\n",
      "   0.0000000e+00  0.0000000e+00]\n",
      " [ 0.0000000e+00  0.0000000e+00  0.0000000e+00  0.0000000e+00\n",
      "   0.0000000e+00  0.0000000e+00]\n",
      " [ 0.0000000e+00  0.0000000e+00  0.0000000e+00  0.0000000e+00\n",
      "  -5.9604645e-08  0.0000000e+00]\n",
      " [ 0.0000000e+00  0.0000000e+00  0.0000000e+00  1.2136102e-03\n",
      "   0.0000000e+00 -2.9802322e-08]\n",
      " [ 0.0000000e+00  0.0000000e+00  0.0000000e+00  0.0000000e+00\n",
      "   0.0000000e+00  0.0000000e+00]\n",
      " [ 0.0000000e+00  0.0000000e+00  0.0000000e+00  0.0000000e+00\n",
      "   0.0000000e+00  0.0000000e+00]\n",
      " [ 0.0000000e+00  0.0000000e+00  0.0000000e+00  0.0000000e+00\n",
      "  -9.9003315e-05  5.9604645e-08]\n",
      " [ 0.0000000e+00  0.0000000e+00  0.0000000e+00  0.0000000e+00\n",
      "  -2.9802322e-08  0.0000000e+00]\n",
      " [ 0.0000000e+00  0.0000000e+00  0.0000000e+00  0.0000000e+00\n",
      "   5.9604645e-08  0.0000000e+00]\n",
      " [ 0.0000000e+00  0.0000000e+00  0.0000000e+00 -5.9604645e-08\n",
      "   0.0000000e+00  0.0000000e+00]\n",
      " [ 0.0000000e+00  0.0000000e+00  0.0000000e+00  0.0000000e+00\n",
      "  -2.9802322e-08  0.0000000e+00]\n",
      " [ 0.0000000e+00  0.0000000e+00  0.0000000e+00  0.0000000e+00\n",
      "  -2.9802322e-08 -5.9604645e-08]\n",
      " [ 0.0000000e+00  0.0000000e+00  0.0000000e+00 -5.9604645e-08\n",
      "  -3.7252903e-09  0.0000000e+00]\n",
      " [ 0.0000000e+00  0.0000000e+00  0.0000000e+00  0.0000000e+00\n",
      "   0.0000000e+00  0.0000000e+00]\n",
      " [ 0.0000000e+00  0.0000000e+00  0.0000000e+00 -5.9604645e-08\n",
      "   0.0000000e+00  0.0000000e+00]\n",
      " [ 0.0000000e+00  0.0000000e+00  0.0000000e+00  0.0000000e+00\n",
      "  -7.4505806e-09  0.0000000e+00]\n",
      " [ 0.0000000e+00  0.0000000e+00  0.0000000e+00  0.0000000e+00\n",
      "  -2.9802322e-08  0.0000000e+00]\n",
      " [ 0.0000000e+00  0.0000000e+00  0.0000000e+00 -5.9604645e-08\n",
      "  -1.4901161e-08 -2.9802322e-08]\n",
      " [ 0.0000000e+00  0.0000000e+00  0.0000000e+00  0.0000000e+00\n",
      "   0.0000000e+00  0.0000000e+00]\n",
      " [ 0.0000000e+00  0.0000000e+00  0.0000000e+00  0.0000000e+00\n",
      "   0.0000000e+00  0.0000000e+00]\n",
      " [ 0.0000000e+00  0.0000000e+00  0.0000000e+00  2.9802322e-08\n",
      "   0.0000000e+00 -5.9604645e-08]\n",
      " [ 0.0000000e+00  0.0000000e+00  0.0000000e+00  0.0000000e+00\n",
      "  -5.9604645e-08  0.0000000e+00]\n",
      " [ 0.0000000e+00  0.0000000e+00  0.0000000e+00  7.4505806e-09\n",
      "  -1.4901161e-08  0.0000000e+00]\n",
      " [ 0.0000000e+00  0.0000000e+00  0.0000000e+00  7.4505806e-09\n",
      "   0.0000000e+00 -5.9604645e-08]\n",
      " [ 0.0000000e+00  0.0000000e+00  0.0000000e+00 -5.9604645e-08\n",
      "   0.0000000e+00  5.9604645e-08]\n",
      " [ 0.0000000e+00  0.0000000e+00  0.0000000e+00  0.0000000e+00\n",
      "   0.0000000e+00  0.0000000e+00]\n",
      " [ 0.0000000e+00  0.0000000e+00  0.0000000e+00 -4.6566129e-10\n",
      "   0.0000000e+00 -5.9604645e-08]\n",
      " [ 0.0000000e+00  0.0000000e+00  0.0000000e+00  0.0000000e+00\n",
      "   0.0000000e+00 -5.9604645e-08]]\n",
      "False\n"
     ]
    }
   ],
   "source": [
    "val = np.array(np.random.rand(30,6),dtype=NP_DTYPE)\n",
    "forward = test._forward(val)\n",
    "inverse = test._inverse(forward)\n",
    "print(val)\n",
    "print(inverse.numpy())\n",
    "print(val-inverse.numpy())\n",
    "print(np.allclose(val,inverse.numpy()))"
   ]
  },
  {
   "cell_type": "code",
   "execution_count": 1155,
   "metadata": {},
   "outputs": [
    {
     "name": "stdout",
     "output_type": "stream",
     "text": [
      "[[[0.         0.23270062 0.4373021  0.62259704 0.80789196 1.0000001 ]\n",
      "  [0.         0.19513991 0.3986833  0.5938232  0.795971   0.99999994]\n",
      "  [0.         0.2        0.4        0.6        0.8        1.        ]]]\n",
      "[[0 3 2]]\n",
      "tf.Tensor([[0.22241895 0.73520184 0.43454796]], shape=(1, 3), dtype=float32)\n",
      "tf.Tensor([[0.19116317 0.73987657 0.43454796]], shape=(1, 3), dtype=float32)\n"
     ]
    }
   ],
   "source": [
    "val = np.array( [8.10652256e-01, 8.22016478e-01, 7.58432746e-02, 1.91163182e-01,\n",
    "  7.39876568e-01, 4.34547931e-01],dtype=NP_DTYPE).reshape(1,6)\n",
    "xd, xD = val[:,:3], val[:,3:]\n",
    "Q = test.Q(xd)\n",
    "print(np.cumsum(Q,axis=2))\n",
    "ibins = np.array(np.floor(xD*5),dtype=np.int32)\n",
    "print(ibins)\n",
    "ibinsp1 = ibins+1\n",
    "grid = np.array(np.meshgrid(np.arange(len(xD)),np.arange(3))).T\n",
    "bins = tf.concat([grid,ibinsp1[np.arange(len(xD)),:,np.newaxis]],axis=2)\n",
    "binsSum = tf.concat([grid,ibins[np.arange(len(xD)),:,np.newaxis]],axis=2)\n",
    "yD = (xD*5-ibins)*tf.gather_nd(Q,bins)+tf.gather_nd(np.cumsum(Q,axis=2),binsSum)\n",
    "print(yD)\n",
    "\n",
    "ibins = tf.transpose(tf.searchsorted(np.cumsum(Q,axis=2),tf.transpose(yD)[...,np.newaxis],side='right'))\n",
    "ibins = ibins.numpy().reshape(len(yD),3)\n",
    "ibins = ibins-1\n",
    "ibinsp1 = ibins+1\n",
    "grid = np.array(np.meshgrid(np.arange(len(yD)),np.arange(3))).T\n",
    "bins = tf.concat([grid,ibinsp1[np.arange(len(yD)),:,np.newaxis]],axis=2)\n",
    "binsSum = tf.concat([grid,ibins[np.arange(len(yD)),:,np.newaxis]],axis=2)\n",
    "xD = ((yD-tf.gather_nd(np.cumsum(Q,axis=2),binsSum))*tf.reciprocal(tf.gather_nd(Q,bins))\\\n",
    "    +np.array(ibins,dtype=np.float32))*1.0/5.0\n",
    "print(xD)"
   ]
  },
  {
   "cell_type": "code",
   "execution_count": 1103,
   "metadata": {},
   "outputs": [
    {
     "name": "stdout",
     "output_type": "stream",
     "text": [
      "[[0.2021813  0.03576337 0.5313644  0.5320196  0.08145879 0.7312259 ]\n",
      " [0.13148211 0.75587213 0.23479632 0.27195933 0.10980704 0.46130064]\n",
      " [0.90117234 0.6509491  0.6936079  0.12929271 0.85813844 0.41585872]\n",
      " [0.3199885  0.22268386 0.00243364 0.33351058 0.07508121 0.87907135]\n",
      " [0.52473366 0.53115153 0.28557226 0.2281765  0.3316707  0.43843856]\n",
      " [0.3348522  0.8159493  0.34986547 0.30808282 0.17486049 0.23184223]\n",
      " [0.1107848  0.12786147 0.5886585  0.04959815 0.35392615 0.31863275]\n",
      " [0.66095674 0.53667104 0.6798415  0.986358   0.5066573  0.4427375 ]\n",
      " [0.37392473 0.6897842  0.28462696 0.48530576 0.5745977  0.30718154]\n",
      " [0.6914486  0.3225084  0.10036863 0.1166758  0.730092   0.8123526 ]]\n"
     ]
    },
    {
     "data": {
      "text/plain": [
       "<tf.Tensor: id=46689, shape=(10, 6), dtype=float32, numpy=\n",
       "array([[0.2021813 , 0.03576337, 0.5313644 , 0.5352533 , 0.08586214,\n",
       "        0.7347421 ],\n",
       "       [0.13148211, 0.75587213, 0.23479632, 0.27428645, 0.12685826,\n",
       "        0.45453927],\n",
       "       [0.90117234, 0.6509491 , 0.6936079 , 0.13851225, 0.8746792 ,\n",
       "        0.4299972 ],\n",
       "       [0.3199885 , 0.22268386, 0.00243364, 0.33938676, 0.07973186,\n",
       "        0.8800296 ],\n",
       "       [0.52473366, 0.53115153, 0.28557226, 0.2360161 , 0.36504057,\n",
       "        0.44451612],\n",
       "       [0.3348522 , 0.8159493 , 0.34986547, 0.31011438, 0.21396051,\n",
       "        0.23723252],\n",
       "       [0.1107848 , 0.12786147, 0.5886585 , 0.0506426 , 0.3592996 ,\n",
       "        0.3254376 ],\n",
       "       [0.66095674, 0.53667104, 0.6798415 , 0.98651624, 0.5334825 ,\n",
       "        0.45356882],\n",
       "       [0.37392473, 0.6897842 , 0.28462696, 0.48793954, 0.6002239 ,\n",
       "        0.31140113],\n",
       "       [0.6914486 , 0.3225084 , 0.10036863, 0.12446239, 0.7453977 ,\n",
       "        0.81552625]], dtype=float32)>"
      ]
     },
     "execution_count": 1103,
     "metadata": {},
     "output_type": "execute_result"
    }
   ],
   "source": [
    "val = np.array(np.random.rand(10,6),dtype=NP_DTYPE)\n",
    "forward = test._forward(val)\n",
    "print(val)\n",
    "forward"
   ]
  },
  {
   "cell_type": "code",
   "execution_count": 1104,
   "metadata": {
    "scrolled": true
   },
   "outputs": [
    {
     "data": {
      "text/plain": [
       "<tf.Tensor: id=46775, shape=(10, 6), dtype=float32, numpy=\n",
       "array([[0.2021813 , 0.03576337, 0.5313644 , 0.53201956, 0.0814588 ,\n",
       "        0.7312259 ],\n",
       "       [0.13148211, 0.75587213, 0.23479632, 0.27195936, 0.10980704,\n",
       "        0.46130067],\n",
       "       [0.90117234, 0.6509491 , 0.6936079 , 0.12929271, 0.8581385 ,\n",
       "        0.41585875],\n",
       "       [0.3199885 , 0.22268386, 0.00243364, 0.3335106 , 0.07508122,\n",
       "        0.87907135],\n",
       "       [0.52473366, 0.53115153, 0.28557226, 0.2281765 , 0.33167073,\n",
       "        0.43843856],\n",
       "       [0.3348522 , 0.8159493 , 0.34986547, 0.30808282, 0.16714321,\n",
       "        0.22966866],\n",
       "       [0.1107848 , 0.12786147, 0.5886585 , 0.04959815, 0.35392615,\n",
       "        0.31863275],\n",
       "       [0.66095674, 0.53667104, 0.6798415 , 0.9863581 , 0.5066573 ,\n",
       "        0.4427375 ],\n",
       "       [0.37392473, 0.6897842 , 0.28462696, 0.48530576, 0.5745978 ,\n",
       "        0.30718154],\n",
       "       [0.6914486 , 0.3225084 , 0.10036863, 0.11667581, 0.730092  ,\n",
       "        0.8123526 ]], dtype=float32)>"
      ]
     },
     "execution_count": 1104,
     "metadata": {},
     "output_type": "execute_result"
    }
   ],
   "source": [
    "test._inverse(forward)"
   ]
  },
  {
   "cell_type": "code",
   "execution_count": 1105,
   "metadata": {},
   "outputs": [
    {
     "data": {
      "text/plain": [
       "<tf.Tensor: id=46857, shape=(1, 6), dtype=float32, numpy=\n",
       "array([[0.17224059, 0.17224059, 0.17224059, 0.17039506, 0.16034281,\n",
       "        0.1681989 ]], dtype=float32)>"
      ]
     },
     "execution_count": 1105,
     "metadata": {},
     "output_type": "execute_result"
    }
   ],
   "source": [
    "inverse = test._inverse(np.array([0.17224058,0.17224058,0.17224058,0.17224058,0.17224058,0.17224058],dtype=NP_DTYPE).reshape(1,6))\n",
    "inverse"
   ]
  },
  {
   "cell_type": "code",
   "execution_count": 1106,
   "metadata": {},
   "outputs": [
    {
     "data": {
      "text/plain": [
       "<tf.Tensor: id=46915, shape=(1, 6), dtype=float32, numpy=\n",
       "array([[0.17224059, 0.17224059, 0.17224059, 0.17224059, 0.17224059,\n",
       "        0.17224057]], dtype=float32)>"
      ]
     },
     "execution_count": 1106,
     "metadata": {},
     "output_type": "execute_result"
    }
   ],
   "source": [
    "test._forward(inverse)"
   ]
  },
  {
   "cell_type": "code",
   "execution_count": 1107,
   "metadata": {},
   "outputs": [
    {
     "data": {
      "text/plain": [
       "<tf.Tensor: id=46954, shape=(10, 6), dtype=float32, numpy=\n",
       "array([[0.2021813 , 0.03576337, 0.5313644 , 0.9899667 , 1.054056  ,\n",
       "        1.0075979 ],\n",
       "       [0.13148211, 0.75587213, 0.23479632, 0.99110305, 1.1552835 ,\n",
       "        0.9613859 ],\n",
       "       [0.90117234, 0.6509491 , 0.6936079 , 1.0713075 , 0.88340265,\n",
       "        0.9615619 ],\n",
       "       [0.3199885 , 0.22268386, 0.00243364, 0.986257  , 1.0619414 ,\n",
       "        0.99207544],\n",
       "       [0.52473366, 0.53115153, 0.28557226, 0.9898427 , 0.9289856 ,\n",
       "        0.97539246],\n",
       "       [0.3348522 , 0.8159493 , 0.34986547, 0.98845184, 1.223607  ,\n",
       "        0.962425  ],\n",
       "       [0.1107848 , 0.12786147, 0.5886585 , 1.0210582 , 0.96644104,\n",
       "        0.982037  ],\n",
       "       [0.66095674, 0.53667104, 0.6798415 , 0.9884037 , 0.9111128 ,\n",
       "        0.96948063],\n",
       "       [0.37392473, 0.6897842 , 0.28462696, 0.99035573, 0.97416204,\n",
       "        0.9686955 ],\n",
       "       [0.6914486 , 0.3225084 , 0.10036863, 1.0667368 , 0.9952635 ,\n",
       "        0.9830869 ]], dtype=float32)>"
      ]
     },
     "execution_count": 1107,
     "metadata": {},
     "output_type": "execute_result"
    }
   ],
   "source": [
    "test.pdf(val)"
   ]
  },
  {
   "cell_type": "code",
   "execution_count": 1126,
   "metadata": {},
   "outputs": [
    {
     "data": {
      "text/plain": [
       "<tf.Tensor: id=48334, shape=(100,), dtype=float32, numpy=\n",
       "array([ 0.00632932, -0.00709246, -0.04750286,  0.08141908,  0.01596706,\n",
       "       -0.03636243,  0.08731308,  0.00625651, -0.04503758,  0.02553115,\n",
       "       -0.02967222, -0.09630316,  0.07626872, -0.05171432,  0.06468388,\n",
       "        0.03295818,  0.041876  , -0.05051575, -0.09988263,  0.01386925,\n",
       "        0.2115372 , -0.07696038, -0.03649826, -0.03942494, -0.01169794,\n",
       "       -0.09450945,  0.0929753 ,  0.09559617, -0.03761554, -0.02957133,\n",
       "       -0.0357556 , -0.07349487, -0.03000475,  0.04936047, -0.07245566,\n",
       "       -0.02837289, -0.06445684, -0.05137795, -0.00752544,  0.10886821,\n",
       "        0.03308509,  0.0537953 , -0.02989781,  0.01895023,  0.09278223,\n",
       "        0.03969814,  0.05438328, -0.0852765 , -0.07601593, -0.04693712,\n",
       "        0.09828227, -0.10651581,  0.0231818 , -0.01290105,  0.12760371,\n",
       "       -0.02521316,  0.00228314, -0.07525112,  0.02657662, -0.05481453,\n",
       "        0.22558033,  0.09642132, -0.0194814 , -0.08113185,  0.10672277,\n",
       "        0.03386961, -0.01499689,  0.05289327, -0.07188758, -0.06323841,\n",
       "       -0.06779401, -0.07977716, -0.0198342 , -0.09232691,  0.01584991,\n",
       "       -0.04034367,  0.05515512, -0.02408644, -0.07395682,  0.09718154,\n",
       "       -0.06473039, -0.02397845,  0.1110466 ,  0.0465    , -0.08165424,\n",
       "        0.04464895, -0.02913163,  0.02986724,  0.08836704,  0.18107519,\n",
       "       -0.01291903, -0.03708063, -0.0624212 , -0.08375261,  0.13461837,\n",
       "        0.0837094 , -0.01910171,  0.07090867,  0.01526324, -0.0753732 ],\n",
       "      dtype=float32)>"
      ]
     },
     "execution_count": 1126,
     "metadata": {},
     "output_type": "execute_result"
    }
   ],
   "source": [
    "test._forward_log_det_jacobian(val)"
   ]
  },
  {
   "cell_type": "code",
   "execution_count": 1127,
   "metadata": {
    "scrolled": true
   },
   "outputs": [
    {
     "data": {
      "text/plain": [
       "<tf.Tensor: id=48411, shape=(100,), dtype=float32, numpy=\n",
       "array([-0.00632932,  0.00709246,  0.04750286, -0.08141908, -0.01596706,\n",
       "        0.03636243, -0.08731308, -0.00625651,  0.02071825, -0.02553115,\n",
       "        0.02967222,  0.09630316, -0.07626872,  0.05171432, -0.06468388,\n",
       "       -0.03295818, -0.041876  ,  0.05051575,  0.09988263, -0.01386925,\n",
       "       -0.2115372 ,  0.07696038,  0.03649826,  0.03942494,  0.01169794,\n",
       "        0.09450945, -0.0929753 , -0.09559617,  0.03761554,  0.02957133,\n",
       "        0.0357556 ,  0.07349487,  0.03000475, -0.04936047,  0.07245566,\n",
       "        0.02837289,  0.06445684,  0.05137795,  0.03986746, -0.10886821,\n",
       "       -0.03308509, -0.0537953 ,  0.02989781, -0.01895023, -0.09278223,\n",
       "       -0.03969814,  0.09643349,  0.0852765 ,  0.07601593,  0.04693712,\n",
       "       -0.09828227,  0.10651581, -0.0231818 ,  0.01290105, -0.12760371,\n",
       "        0.02521316,  0.05843198,  0.07525112, -0.02657662,  0.05481453,\n",
       "       -0.22558033, -0.09642132,  0.0194814 ,  0.08113185, -0.10672277,\n",
       "       -0.07105039,  0.01499689, -0.05289327,  0.07188758,  0.06323841,\n",
       "        0.06779401,  0.07977716,  0.0198342 ,  0.09232691, -0.01584991,\n",
       "        0.04034367, -0.05515512,  0.02408644,  0.07395682, -0.09718154,\n",
       "        0.06473039,  0.02397845, -0.1110466 , -0.0465    ,  0.08165424,\n",
       "       -0.04464895,  0.02913163, -0.02986724,  0.04853793, -0.18107519,\n",
       "        0.01291903,  0.03708063,  0.0624212 ,  0.08375261, -0.13461837,\n",
       "       -0.0837094 ,  0.01910171,  0.10684236, -0.01526324,  0.0753732 ],\n",
       "      dtype=float32)>"
      ]
     },
     "execution_count": 1127,
     "metadata": {},
     "output_type": "execute_result"
    }
   ],
   "source": [
    "test._inverse_log_det_jacobian(forward)"
   ]
  },
  {
   "cell_type": "code",
   "execution_count": 70,
   "metadata": {},
   "outputs": [
    {
     "data": {
      "text/plain": [
       "array([[0.        , 0.17456913, 0.22694462, 0.2429675 , 0.15324998,\n",
       "        0.20226877],\n",
       "       [0.        , 0.24679232, 0.24172327, 0.26217076, 0.13979937,\n",
       "        0.10951428],\n",
       "       [0.        , 0.21056773, 0.1838972 , 0.15401986, 0.24073882,\n",
       "        0.21077639]])"
      ]
     },
     "execution_count": 70,
     "metadata": {},
     "output_type": "execute_result"
    }
   ],
   "source": [
    "WMat = np.random.rand(3,5)\n",
    "WMat = tf.nn.softmax(WMat)\n",
    "WMat = np.insert(WMat,0,0,axis=1)\n",
    "WMat"
   ]
  },
  {
   "cell_type": "code",
   "execution_count": 71,
   "metadata": {},
   "outputs": [
    {
     "name": "stdout",
     "output_type": "stream",
     "text": [
      "[[0.         0.20387799 0.3962557  0.60170353 0.76497245 1.        ]\n",
      " [0.         0.21190974 0.47732211 0.72869396 0.86163553 1.        ]\n",
      " [0.         0.249873   0.4628639  0.61603303 0.81612674 1.        ]]\n"
     ]
    },
    {
     "data": {
      "text/plain": [
       "array([[0.        , 1.31495238, 1.02083272, 0.67453863, 1.01661622,\n",
       "        1.1141367 , 1.20977673],\n",
       "       [0.        , 0.77589487, 0.94141741, 1.25458438, 0.66303494,\n",
       "        1.23885577, 1.28801967],\n",
       "       [0.        , 1.21681733, 1.15650936, 1.15990323, 0.82904978,\n",
       "        0.83328048, 0.91144297]])"
      ]
     },
     "execution_count": 71,
     "metadata": {},
     "output_type": "execute_result"
    }
   ],
   "source": [
    "# randomly assign unnormalized values to piecewise PDF, here we will be using a total of 6 dimensions (|B|=3)\n",
    "VMat = np.random.rand(3,6)\n",
    "expV = tf.exp(VMat)\n",
    "VDenom = np.sum(0.5*(expV[:,0:5]+expV[:,1:6])*WMat[:,1:6],axis=1,keepdims=True)\n",
    "# normalize the piecewise PDF such that the integral is 1\n",
    "VMat = np.true_divide(expV,VDenom)\n",
    "VMat = np.insert(VMat,0,0,axis=1)\n",
    "# Print out values of Q for testing purposes\n",
    "print(np.cumsum((VMat[:,1:7]+VMat[:,0:6])*WMat/2.0,axis=1))\n",
    "VMat"
   ]
  },
  {
   "cell_type": "code",
   "execution_count": 119,
   "metadata": {},
   "outputs": [],
   "source": [
    "# network in the coupling layer\n",
    "def netV(x, outsize, nbins):\n",
    "    # Note: Need to put in actual matrix, this is just to test\n",
    "    return VMat\n",
    "\n",
    "# network in the coupling layer\n",
    "def netW(x, outsize, nbins):\n",
    "    # Note: Need to put in actual matrix, this is just to test\n",
    "    return WMat\n",
    "\n",
    "class PiecewiseQuadratic(tfb.Bijector):\n",
    "    \"\"\"\n",
    "    Piecewise Quadratic: based on 1808.03856\n",
    "    \"\"\"\n",
    "    def __init__(self, D, d, nbins, layer_id=0, validate_args=False, name=\"PiecewiseLinear\"):\n",
    "        \"\"\"\n",
    "        Args:\n",
    "            D: number of dimensions\n",
    "            d: First d units are pass-thru units.\n",
    "        \"\"\"\n",
    "        super(PiecewiseQuadratic, self).__init__(\n",
    "            forward_min_event_ndims=1, validate_args=validate_args, name=name\n",
    "        )\n",
    "        self.D, self.d = D, d\n",
    "        self.id = layer_id\n",
    "        self.nbins = nbins\n",
    "        self.range = np.arange(self.d)\n",
    "        \n",
    "    def W(self, xd):\n",
    "        with tf.variable_scope('W%d' % self.id, reuse=tf.AUTO_REUSE):\n",
    "            return netW(xd, self.D - self.d, self.nbins)\n",
    "              \n",
    "    def V(self, xd):\n",
    "        with tf.variable_scope('V%d' % self.id, reuse=tf.AUTO_REUSE):\n",
    "            return netV(xd, self.D - self.d, self.nbins)\n",
    "        \n",
    "    def pdf(self,x):\n",
    "        xd, xD = x[:, :self.d], x[:, self.d:]\n",
    "        W = self.W(xd)\n",
    "        V = self.V(xd)\n",
    "        WSum = np.cumsum(W,axis=1)\n",
    "        ibins = tf.transpose(tf.searchsorted(WSum,tf.transpose(xD),side='right'))\n",
    "        alpha = (xD-WSum[self.range,ibins-1])*tf.reciprocal(W[self.range,ibins])\n",
    "        result = np.diff(V)[self.range,ibins]*alpha+V[self.range,ibins]\n",
    "        return tf.concat([xd, result], axis=1) \n",
    "        \n",
    "    def _forward(self, x):\n",
    "        \"Calculate forward coupling layer\"\n",
    "        xd, xD = x[:, :self.d], x[:, self.d:]\n",
    "        W = self.W(xd)\n",
    "        V = self.V(xd)\n",
    "        WSum = np.cumsum(W,axis=1)\n",
    "        VSum = np.cumsum((V[:,1:]+V[:,0:-1])*W/2.0,axis=1)\n",
    "        ibins = tf.transpose(tf.searchsorted(WSum,tf.transpose(xD),side='right'))\n",
    "        alpha = (xD-WSum[self.range,ibins-1])*tf.reciprocal(W[self.range,ibins])\n",
    "        yD = alpha**2/2.0*np.diff(V)[self.range,ibins]*W[self.range,ibins] \\\n",
    "           + alpha*V[self.range,ibins]*W[self.range,ibins] \\\n",
    "           + VSum[self.range,ibins-1]\n",
    "        return tf.concat([xd, yD], axis=1)\n",
    "    \n",
    "    def _inverse(self, y):\n",
    "        \"Calculate inverse coupling layer\"\n",
    "        yd, yD = y[:, :self.d], y[:, self.d:]\n",
    "        W = self.W(yd)\n",
    "        V = self.V(yd)\n",
    "        WSum = np.cumsum(W,axis=1)\n",
    "        VSum = np.cumsum((V[:,1:]+V[:,0:-1])*W/2.0,axis=1)\n",
    "        ibins = tf.transpose(tf.searchsorted(VSum,tf.transpose(yD),side='right'))\n",
    "        denom = np.diff(V)[self.range,ibins]\n",
    "        beta = (yD - VSum[self.range,ibins-1])/(W[self.range,ibins])\n",
    "        xD = W[self.range,ibins]/denom*(-V[self.range,ibins]+tf.sqrt(V[self.range,ibins]**2+2*beta*denom))+WSum[self.range,ibins-1]\n",
    "        return tf.concat([yd, xD], axis=1)\n",
    "    \n",
    "    def _forward_log_det_jacobian(self, x):\n",
    "        \"Calculate log determinant of Coupling Layer\"\n",
    "        return tf.reduce_sum(tf.log(self.pdf(x)[:,self.d:]),axis=-1)\n",
    "    \n",
    "    def _inverse_log_det_jacobian(self, y):\n",
    "        \"Calculate log determinant of Coupling Layer\"\n",
    "        yd, yD = y[:, :self.d], y[:, self.d:]\n",
    "        W = self.W(yd)\n",
    "        V = self.V(yd)\n",
    "        WSum = np.cumsum(W,axis=1)\n",
    "        VSum = np.cumsum((V[:,1:]+V[:,0:-1])*W/2.0,axis=1)\n",
    "        ibins = tf.transpose(tf.searchsorted(VSum,tf.transpose(yD),side='right'))\n",
    "        denom = np.diff(V)[self.range,ibins]\n",
    "        beta = (yD - VSum[self.range,ibins-1])/(W[self.range,ibins])\n",
    "        alpha = 1.0/denom*(-V[self.range,ibins]+tf.sqrt(V[self.range,ibins]**2+2*beta*denom))\n",
    "        result = np.diff(V)[self.range,ibins]*alpha+V[self.range,ibins]\n",
    "        return -tf.reduce_sum(tf.log(result),axis=-1)\n",
    "        "
   ]
  },
  {
   "cell_type": "code",
   "execution_count": 120,
   "metadata": {},
   "outputs": [],
   "source": [
    "test = PiecewiseQuadratic(6,3,5)"
   ]
  },
  {
   "cell_type": "code",
   "execution_count": 121,
   "metadata": {
    "scrolled": false
   },
   "outputs": [
    {
     "data": {
      "text/plain": [
       "<tf.Tensor: id=3521, shape=(2, 6), dtype=float64, numpy=\n",
       "array([[0.1       , 0.2       , 0.3       , 0.39523286, 0.49158147,\n",
       "        0.65876502],\n",
       "       [0.6       , 0.5       , 0.4       , 0.31991853, 0.16859289,\n",
       "        0.1202497 ]])>"
      ]
     },
     "execution_count": 121,
     "metadata": {},
     "output_type": "execute_result"
    }
   ],
   "source": [
    "forward=test._forward(np.array([[0.1,0.2,0.3,0.4,0.5,0.6],[0.6,0.5,0.4,0.3,0.2,0.1]]).reshape(2,6))\n",
    "forward"
   ]
  },
  {
   "cell_type": "code",
   "execution_count": 122,
   "metadata": {},
   "outputs": [
    {
     "data": {
      "text/plain": [
       "<tf.Tensor: id=3592, shape=(2, 6), dtype=float64, numpy=\n",
       "array([[0.1, 0.2, 0.3, 0.4, 0.5, 0.6],\n",
       "       [0.6, 0.5, 0.4, 0.3, 0.2, 0.1]])>"
      ]
     },
     "execution_count": 122,
     "metadata": {},
     "output_type": "execute_result"
    }
   ],
   "source": [
    "test._inverse(forward)"
   ]
  },
  {
   "cell_type": "code",
   "execution_count": 123,
   "metadata": {},
   "outputs": [
    {
     "data": {
      "text/plain": [
       "<tf.Tensor: id=3640, shape=(2, 6), dtype=float64, numpy=\n",
       "array([[0.1       , 0.2       , 0.3       , 0.67684846, 1.22867151,\n",
       "        0.8299551 ],\n",
       "       [0.6       , 0.5       , 0.4       , 0.82943815, 0.91003401,\n",
       "        1.18817668]])>"
      ]
     },
     "execution_count": 123,
     "metadata": {},
     "output_type": "execute_result"
    }
   ],
   "source": [
    "test.pdf(np.array([[0.1,0.2,0.3,0.4,0.5,0.6],[0.6,0.5,0.4,0.3,0.2,0.1]]).reshape(2,6))"
   ]
  },
  {
   "cell_type": "code",
   "execution_count": 124,
   "metadata": {},
   "outputs": [
    {
     "data": {
      "text/plain": [
       "<tf.Tensor: id=3695, shape=(2,), dtype=float64, numpy=array([-0.37075804, -0.10886011])>"
      ]
     },
     "execution_count": 124,
     "metadata": {},
     "output_type": "execute_result"
    }
   ],
   "source": [
    "test._forward_log_det_jacobian(np.array([[0.1,0.2,0.3,0.4,0.5,0.6],[0.6,0.5,0.4,0.3,0.2,0.1]]).reshape(2,6))"
   ]
  },
  {
   "cell_type": "code",
   "execution_count": 125,
   "metadata": {},
   "outputs": [
    {
     "data": {
      "text/plain": [
       "<tf.Tensor: id=3768, shape=(2,), dtype=float64, numpy=array([0.37075804, 0.10886011])>"
      ]
     },
     "execution_count": 125,
     "metadata": {},
     "output_type": "execute_result"
    }
   ],
   "source": [
    "test._inverse_log_det_jacobian(forward)"
   ]
  },
  {
   "cell_type": "code",
   "execution_count": 418,
   "metadata": {},
   "outputs": [],
   "source": [
    "bijectors = []\n",
    "\n",
    "for i in range(4):\n",
    "    bijectors.append(PiecewiseLinear(2,1,5,layer_id=i))\n",
    "    bijectors.append(tfb.Permute(permutation=[1,0]))\n",
    "\n",
    "# Discard the last Permute layer\n",
    "test_bijector = tfb.Chain(list(reversed(bijectors[:-1])))"
   ]
  },
  {
   "cell_type": "code",
   "execution_count": 419,
   "metadata": {},
   "outputs": [],
   "source": [
    "base_dist = tfd.Uniform(low=[0.0,0.0],high=[1.0,1.0])\n",
    "dist = tfd.TransformedDistribution(\n",
    "    distribution=base_dist,\n",
    "    bijector=test_bijector,\n",
    ")"
   ]
  },
  {
   "cell_type": "code",
   "execution_count": 420,
   "metadata": {},
   "outputs": [],
   "source": [
    "x = base_dist.sample(1000)\n",
    "samples = [x]\n",
    "names = [base_dist.name]\n",
    "for bijector in reversed(dist.bijector.bijectors):\n",
    "    x = bijector.forward(x)\n",
    "    samples.append(x)\n",
    "    names.append(bijector.name)"
   ]
  },
  {
   "cell_type": "code",
   "execution_count": 421,
   "metadata": {},
   "outputs": [
    {
     "data": {
      "image/png": "[encoded data removed]",
      "text/plain": [
       "<Figure size 2304x288 with 8 Axes>"
      ]
     },
     "metadata": {
      "needs_background": "light"
     },
     "output_type": "display_data"
    }
   ],
   "source": [
    "f, arr = plt.subplots(1, len(samples), figsize=(4*len(samples),4))\n",
    "X0 = samples[0].numpy()\n",
    "for i in range(len(samples)):\n",
    "    X1 = samples[i].numpy()\n",
    "    idx = np.logical_and(X0[:,0] < 0.5, X0[:,1] < 0.5)\n",
    "    arr[i].scatter(X1[idx, 0], X1[idx, 1], s=10, color='red')\n",
    "    idx = np.logical_and(X0[:, 0] > 0.5, X0[:, 1] < 0.5)\n",
    "    arr[i].scatter(X1[idx, 0], X1[idx, 1], s=10, color='green')\n",
    "    idx = np.logical_and(X0[:, 0] < 0.5, X0[:, 1] > 0.5)\n",
    "    arr[i].scatter(X1[idx, 0], X1[idx, 1], s=10, color='blue')\n",
    "    idx = np.logical_and(X0[:, 0] > 0.5, X0[:, 1] > 0.5)\n",
    "    arr[i].scatter(X1[idx, 0], X1[idx, 1], s=10, color='black')\n",
    "    arr[i].set_xlim([0, 1])\n",
    "    arr[i].set_ylim([0, 1])\n",
    "    arr[i].set_title(names[i])"
   ]
  }
 ],
 "metadata": {
  "kernelspec": {
   "display_name": "Python 3",
   "language": "python",
   "name": "python3"
  },
  "language_info": {
   "codemirror_mode": {
    "name": "ipython",
    "version": 3
   },
   "file_extension": ".py",
   "mimetype": "text/x-python",
   "name": "python",
   "nbconvert_exporter": "python",
   "pygments_lexer": "ipython3",
   "version": "3.6.8"
  }
 },
 "nbformat": 4,
 "nbformat_minor": 2
}
