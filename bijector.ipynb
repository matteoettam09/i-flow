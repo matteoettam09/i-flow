{
 "cells": [
  {
   "cell_type": "code",
   "execution_count": 3,
   "metadata": {},
   "outputs": [],
   "source": [
    "import numpy as np\n",
    "import matplotlib.pyplot as plt\n",
    "%matplotlib inline\n",
    "import tensorflow as tf\n",
    "tfd = tf.contrib.distributions\n",
    "tfb = tfd.bijectors\n",
    "from tensorflow.keras import layers"
   ]
  },
  {
   "cell_type": "code",
   "execution_count": 4,
   "metadata": {},
   "outputs": [],
   "source": [
    "tf.enable_eager_execution()"
   ]
  },
  {
   "cell_type": "markdown",
   "metadata": {},
   "source": [
    "## Settings"
   ]
  },
  {
   "cell_type": "code",
   "execution_count": 11,
   "metadata": {},
   "outputs": [],
   "source": [
    "DTYPE=tf.float32\n",
    "NP_DTYPE=np.float32"
   ]
  },
  {
   "cell_type": "code",
   "execution_count": 164,
   "metadata": {},
   "outputs": [
    {
     "data": {
      "text/plain": [
       "array([[0.        , 0.17151878, 0.156443  , 0.14940676, 0.30440095,\n",
       "        0.21823051],\n",
       "       [0.        , 0.23376845, 0.23709049, 0.12783502, 0.16175796,\n",
       "        0.23954808],\n",
       "       [0.        , 0.27275054, 0.23519319, 0.12784552, 0.15184621,\n",
       "        0.21236454]])"
      ]
     },
     "execution_count": 164,
     "metadata": {},
     "output_type": "execute_result"
    }
   ],
   "source": [
    "# randomly assign unnormalized values to piecewise PDF, here we will be using a total of 6 dimensions (|B|=3)\n",
    "QMat = np.random.rand(3,5)\n",
    "# normalize the piecewise PDF such that the integral is 1\n",
    "QMat = tf.nn.softmax(QMat)\n",
    "# Insert a 0 to the beginning to match the size to the bin array\n",
    "QMat = np.insert(QMat,0,0,axis=1)\n",
    "# Print out values of Q for testing purposes\n",
    "QMat"
   ]
  },
  {
   "cell_type": "code",
   "execution_count": 216,
   "metadata": {},
   "outputs": [],
   "source": [
    "# network in the coupling layer\n",
    "def net(x, outsize, nbins):\n",
    "    # Note: Need to put in actual matrix, this is just to test\n",
    "    return QMat\n",
    "    return tf.softmax(layers.stack(x, layers.full_connected, [512, 512, out_size]))\n",
    "\n",
    "class PiecewiseLinear(tfb.Bijector):\n",
    "    \"\"\"\n",
    "    Piecewise Linear: based on 1808.03856\n",
    "    \"\"\"\n",
    "    def __init__(self, D, d, nbins, layer_id=0, validate_args=False, name=\"PiecewiseLinear\"):\n",
    "        \"\"\"\n",
    "        Args:\n",
    "            D: number of dimensions\n",
    "            d: First d units are pass-thru units.\n",
    "        \"\"\"\n",
    "        super(PiecewiseLinear, self).__init__(\n",
    "            forward_min_event_ndims=1, validate_args=validate_args, name=name\n",
    "        )\n",
    "        self.D, self.d = D, d\n",
    "        self.id = layer_id\n",
    "        self.nbins = nbins\n",
    "        self.width = 1.0/self.nbins\n",
    "        \n",
    "    def Q(self, xd):\n",
    "        with tf.variable_scope('Q%d' % self.id, reuse=tf.AUTO_REUSE):\n",
    "            return net(xd, self.D - self.d, self.nbins)\n",
    "        \n",
    "    def pdf(self,x):\n",
    "        xd, xD = x[:, :self.d], x[:, self.d:]\n",
    "        Q = self.Q(xd)\n",
    "        ibins = np.array(np.floor(xD*self.nbins),dtype=np.int32)\n",
    "        return tf.concat([xd, Q[np.arange(len(Q)),ibins]], axis=1)\n",
    "        \n",
    "    def _forward(self, x):\n",
    "        \"Calculate forward coupling layer\"\n",
    "        xd, xD = x[:, :self.d], x[:, self.d:]\n",
    "        Q = self.Q(xd)\n",
    "        ibins = np.array(np.floor(xD*self.nbins),dtype=np.int32)\n",
    "        yD = (xD*self.nbins-ibins)*Q[np.arange(len(Q)),ibins]+np.cumsum(Q,axis=1)[np.arange(len(Q)),ibins]\n",
    "        return tf.concat([xd, yD], axis=1)\n",
    "        \n",
    "    def _inverse(self, y):\n",
    "        \"Calculate inverse coupling layer\"\n",
    "        yd, yD = y[:, :self.d], y[:, self.d:]\n",
    "        Q = self.Q(yd)\n",
    "        ibins = tf.transpose(tf.searchsorted(np.cumsum(Q,axis=1),tf.transpose(yD),side='right')-1)\n",
    "        xD = ((yD-np.cumsum(Q,axis=1)[np.arange(len(Q)),ibins])*tf.reciprocal(Q[np.arange(len(Q)),ibins])+np.array(ibins,dtype=np.float32))*self.width\n",
    "        return tf.concat([yd, xD], axis=1)\n",
    "    \n",
    "    def _forward_log_det_jacobian(self, x):\n",
    "        \"Calculate log determinant of Coupling Layer\"\n",
    "        xd, xD = x[:, :self.d], x[:, self.d:]\n",
    "        Q = self.Q(xd)\n",
    "        ibins = np.array(np.floor(xD*self.nbins),dtype=np.int32)\n",
    "        return tf.reduce_sum(tf.log(Q[np.arange(len(Q)),ibins]/self.width),axis=-1)\n",
    "    \n",
    "    def _inverse_log_det_jacobian(self, y):\n",
    "        \"Calculate log determinant of Coupling Layer\"\n",
    "        yd, yD = y[:, :self.d], y[:, self.d:]\n",
    "        Q = self.Q(yd)\n",
    "        ibins = np.array(np.floor(yD*self.nbins),dtype=np.int32)\n",
    "        return -tf.reduce_sum(tf.log(Q[np.arange(len(Q)),ibins]/self.width),axis=-1)"
   ]
  },
  {
   "cell_type": "code",
   "execution_count": 217,
   "metadata": {},
   "outputs": [],
   "source": [
    "test = PiecewiseLinear(6,3,5)"
   ]
  },
  {
   "cell_type": "code",
   "execution_count": 218,
   "metadata": {},
   "outputs": [
    {
     "data": {
      "text/plain": [
       "<tf.Tensor: id=1925, shape=(1, 6), dtype=float64, numpy=\n",
       "array([[0.1       , 0.2       , 0.3       , 0.32796178, 0.5894042 ,\n",
       "        0.63578925]])>"
      ]
     },
     "execution_count": 218,
     "metadata": {},
     "output_type": "execute_result"
    }
   ],
   "source": [
    "forward = test._forward(np.array([[0.1,0.2,0.3,0.4,0.5,0.6]]).reshape(1,6))\n",
    "forward"
   ]
  },
  {
   "cell_type": "code",
   "execution_count": 219,
   "metadata": {},
   "outputs": [
    {
     "data": {
      "text/plain": [
       "<tf.Tensor: id=1977, shape=(1, 6), dtype=float64, numpy=array([[0.1, 0.2, 0.3, 0.4, 0.5, 0.6]])>"
      ]
     },
     "execution_count": 219,
     "metadata": {},
     "output_type": "execute_result"
    }
   ],
   "source": [
    "test._inverse(forward)"
   ]
  },
  {
   "cell_type": "code",
   "execution_count": 220,
   "metadata": {},
   "outputs": [
    {
     "data": {
      "text/plain": [
       "<tf.Tensor: id=1982, shape=(1, 6), dtype=float64, numpy=\n",
       "array([[0.1       , 0.2       , 0.3       , 0.156443  , 0.23709049,\n",
       "        0.12784552]])>"
      ]
     },
     "execution_count": 220,
     "metadata": {},
     "output_type": "execute_result"
    }
   ],
   "source": [
    "test.pdf(np.array([[0.1,0.2,0.3,0.4,0.5,0.6]]).reshape(1,6))"
   ]
  },
  {
   "cell_type": "code",
   "execution_count": 221,
   "metadata": {},
   "outputs": [
    {
     "data": {
      "text/plain": [
       "<tf.Tensor: id=1987, shape=(1,), dtype=float64, numpy=array([-0.5229958])>"
      ]
     },
     "execution_count": 221,
     "metadata": {},
     "output_type": "execute_result"
    }
   ],
   "source": [
    "test._forward_log_det_jacobian(np.array([[0.1,0.2,0.3,0.4,0.5,0.6]]).reshape(1,6))"
   ]
  },
  {
   "cell_type": "code",
   "execution_count": 222,
   "metadata": {},
   "outputs": [
    {
     "data": {
      "text/plain": [
       "<tf.Tensor: id=1993, shape=(1,), dtype=float64, numpy=array([0.5229958])>"
      ]
     },
     "execution_count": 222,
     "metadata": {},
     "output_type": "execute_result"
    }
   ],
   "source": [
    "test._inverse_log_det_jacobian(np.array([[0.1,0.2,0.3,0.4,0.5,0.6]]).reshape(1,6))"
   ]
  },
  {
   "cell_type": "code",
   "execution_count": 223,
   "metadata": {},
   "outputs": [],
   "source": [
    "# network in the coupling layer\n",
    "def netV(x, outsize, nbins):\n",
    "    # Note: Need to put in actual matrix, this is just to test\n",
    "    return VMat\n",
    "\n",
    "# network in the coupling layer\n",
    "def netW(x, outsize, nbins):\n",
    "    # Note: Need to put in actual matrix, this is just to test\n",
    "    return WMat\n",
    "\n",
    "class PiecewiseQuadratic(tfb.Bijector):\n",
    "    \"\"\"\n",
    "    Piecewise Quadratic: based on 1808.03856\n",
    "    \"\"\"\n",
    "    def __init__(self, D, d, nbins, layer_id=0, validate_args=False, name=\"PiecewiseLinear\"):\n",
    "        \"\"\"\n",
    "        Args:\n",
    "            D: number of dimensions\n",
    "            d: First d units are pass-thru units.\n",
    "        \"\"\"\n",
    "        super(PiecewiseQuadratic, self).__init__(\n",
    "            forward_min_event_ndims=1, validate_args=validate_args, name=name\n",
    "        )\n",
    "        self.D, self.d = D, d\n",
    "        self.id = layer_id\n",
    "        self.nbins = nbins\n",
    "        \n",
    "    def W(self, xd):\n",
    "        with tf.variable_scope('W%d' % self.id, reuse=tf.AUTO_REUSE):\n",
    "            return netW(xd, self.D - self.d, self.nbins)\n",
    "    \n",
    "            \n",
    "    def V(self, xd):\n",
    "        with tf.variable_scope('V%d' % self.id, reuse=tf.AUTO_REUSE):\n",
    "            return netV(xd, self.D - self.d, self.nbins)\n",
    "           \n",
    "    def pdf(self,x):\n",
    "        xd, xD = x[:, :self.d], x[:, self.d:]\n",
    "        W = self.W(xd)\n",
    "        V = self.V(xd)\n",
    "        ibins = tf.transpose(tf.searchsorted(np.cumsum(W,axis=1),tf.transpose(xD),side='right')-1)\n",
    "        ibinsp1 = ibins+1\n",
    "        alpha = (xd-np.cumcum(W,axis=1)[np.arange(len(W)),ibins])/W[np.arange(len(W)),ibins]\n",
    "        result = (V[np.arange(len(V)),ibinsp1]-V[np.arange(len(V)),ibins])*alpha+V[np.arange(len(V)),ibins]\n",
    "        return tf.concat([xd, result], axis=1)\n",
    "        \n",
    "    def _forward(self, x):\n",
    "        \"Calculate forward coupling layer\"\n",
    "        xd, xD = x[:, :self.d], x[:, self.d:]\n",
    "        W = self.W(xd)\n",
    "        V = self.V(xd)\n",
    "        WSum = np.cumsum(W,axis=1)\n",
    "        VSum = np.cumsum(V,axis=1)\n",
    "        ibins = tf.transpose(tf.searchsorted(WSum,tf.transpose(xD),side='right')-1)\n",
    "        ibinsp1 = ibins+1\n",
    "        alpha = (xd-WSum[np.arange(len(W)),ibins])/W[np.arange(len(W)),ibins]\n",
    "        yD = alpha**2/2.0*(V[np.arange(len(V)),ibinsp1]-V[np.arange(len(V)),ibins]) \\\n",
    "           + alpha*V[np.arange(len(V)),ibinsp1] \\\n",
    "           + (VSum[np.arange(len(V)),ibinsp1]+V[np.arange(len(V)),ibins])*WSum[np.arange(len(W)),ibins]/2.0\n",
    "        return tf.concat([xd, yD], axis=1)\n",
    "        \n",
    "    def _inverse(self, y):\n",
    "        \"Calculate inverse coupling layer\"\n",
    "        yd, yD = y[:, :self.d], y[:, self.d:]\n",
    "        Q = self.Q(yd)\n",
    "        ibins = tf.transpose(tf.searchsorted(np.cumsum(Q,axis=1),tf.transpose(yD),side='right')-1)\n",
    "        xD = ((yD-np.cumsum(Q,axis=1)[np.arange(len(Q)),ibins])*tf.reciprocal(Q[np.arange(len(Q)),ibins])+np.array(ibins,dtype=np.float32))*self.width\n",
    "        return tf.concat([yd, xD], axis=1)\n",
    "    \n",
    "    def _forward_log_det_jacobian(self, x):\n",
    "        \"Calculate log determinant of Coupling Layer\"\n",
    "        xd, xD = x[:, :self.d], x[:, self.d:]\n",
    "        Q = self.Q(xd)\n",
    "        ibins = np.array(np.floor(xD*self.nbins),dtype=np.int32)\n",
    "        return tf.reduce_sum(tf.log(Q[np.arange(len(Q)),ibins]/self.width),axis=-1)\n",
    "    \n",
    "    def _inverse_log_det_jacobian(self, y):\n",
    "        \"Calculate log determinant of Coupling Layer\"\n",
    "        yd, yD = y[:, :self.d], y[:, self.d:]\n",
    "        Q = self.Q(yd)\n",
    "        ibins = np.array(np.floor(yD*self.nbins),dtype=np.int32)\n",
    "        return -tf.reduce_sum(tf.log(Q[np.arange(len(Q)),ibins]/self.width),axis=-1)"
   ]
  },
  {
   "cell_type": "code",
   "execution_count": 224,
   "metadata": {},
   "outputs": [],
   "source": [
    "test = PiecewiseQuadratic(6,3,5)"
   ]
  },
  {
   "cell_type": "code",
   "execution_count": 225,
   "metadata": {},
   "outputs": [
    {
     "ename": "NameError",
     "evalue": "name 'WMat' is not defined",
     "output_type": "error",
     "traceback": [
      "\u001b[0;31m---------------------------------------------------------------------------\u001b[0m",
      "\u001b[0;31mNameError\u001b[0m                                 Traceback (most recent call last)",
      "\u001b[0;32m<ipython-input-225-e472417ae1ee>\u001b[0m in \u001b[0;36m<module>\u001b[0;34m\u001b[0m\n\u001b[0;32m----> 1\u001b[0;31m \u001b[0mtest\u001b[0m\u001b[0;34m.\u001b[0m\u001b[0m_forward\u001b[0m\u001b[0;34m(\u001b[0m\u001b[0mnp\u001b[0m\u001b[0;34m.\u001b[0m\u001b[0marray\u001b[0m\u001b[0;34m(\u001b[0m\u001b[0;34m[\u001b[0m\u001b[0;36m0.1\u001b[0m\u001b[0;34m,\u001b[0m\u001b[0;36m0.2\u001b[0m\u001b[0;34m,\u001b[0m\u001b[0;36m0.3\u001b[0m\u001b[0;34m,\u001b[0m\u001b[0;36m0.4\u001b[0m\u001b[0;34m,\u001b[0m\u001b[0;36m0.5\u001b[0m\u001b[0;34m,\u001b[0m\u001b[0;36m0.6\u001b[0m\u001b[0;34m]\u001b[0m\u001b[0;34m)\u001b[0m\u001b[0;34m.\u001b[0m\u001b[0mreshape\u001b[0m\u001b[0;34m(\u001b[0m\u001b[0;36m1\u001b[0m\u001b[0;34m,\u001b[0m\u001b[0;36m6\u001b[0m\u001b[0;34m)\u001b[0m\u001b[0;34m)\u001b[0m\u001b[0;34m\u001b[0m\u001b[0;34m\u001b[0m\u001b[0m\n\u001b[0m",
      "\u001b[0;32m<ipython-input-223-9dfaa17070ae>\u001b[0m in \u001b[0;36m_forward\u001b[0;34m(self, x)\u001b[0m\n\u001b[1;32m     48\u001b[0m         \u001b[0;34m\"Calculate forward coupling layer\"\u001b[0m\u001b[0;34m\u001b[0m\u001b[0;34m\u001b[0m\u001b[0m\n\u001b[1;32m     49\u001b[0m         \u001b[0mxd\u001b[0m\u001b[0;34m,\u001b[0m \u001b[0mxD\u001b[0m \u001b[0;34m=\u001b[0m \u001b[0mx\u001b[0m\u001b[0;34m[\u001b[0m\u001b[0;34m:\u001b[0m\u001b[0;34m,\u001b[0m \u001b[0;34m:\u001b[0m\u001b[0mself\u001b[0m\u001b[0;34m.\u001b[0m\u001b[0md\u001b[0m\u001b[0;34m]\u001b[0m\u001b[0;34m,\u001b[0m \u001b[0mx\u001b[0m\u001b[0;34m[\u001b[0m\u001b[0;34m:\u001b[0m\u001b[0;34m,\u001b[0m \u001b[0mself\u001b[0m\u001b[0;34m.\u001b[0m\u001b[0md\u001b[0m\u001b[0;34m:\u001b[0m\u001b[0;34m]\u001b[0m\u001b[0;34m\u001b[0m\u001b[0;34m\u001b[0m\u001b[0m\n\u001b[0;32m---> 50\u001b[0;31m         \u001b[0mW\u001b[0m \u001b[0;34m=\u001b[0m \u001b[0mself\u001b[0m\u001b[0;34m.\u001b[0m\u001b[0mW\u001b[0m\u001b[0;34m(\u001b[0m\u001b[0mxd\u001b[0m\u001b[0;34m)\u001b[0m\u001b[0;34m\u001b[0m\u001b[0;34m\u001b[0m\u001b[0m\n\u001b[0m\u001b[1;32m     51\u001b[0m         \u001b[0mV\u001b[0m \u001b[0;34m=\u001b[0m \u001b[0mself\u001b[0m\u001b[0;34m.\u001b[0m\u001b[0mV\u001b[0m\u001b[0;34m(\u001b[0m\u001b[0mxd\u001b[0m\u001b[0;34m)\u001b[0m\u001b[0;34m\u001b[0m\u001b[0;34m\u001b[0m\u001b[0m\n\u001b[1;32m     52\u001b[0m         \u001b[0mWSum\u001b[0m \u001b[0;34m=\u001b[0m \u001b[0mnp\u001b[0m\u001b[0;34m.\u001b[0m\u001b[0mcumsum\u001b[0m\u001b[0;34m(\u001b[0m\u001b[0mW\u001b[0m\u001b[0;34m,\u001b[0m\u001b[0maxis\u001b[0m\u001b[0;34m=\u001b[0m\u001b[0;36m1\u001b[0m\u001b[0;34m)\u001b[0m\u001b[0;34m\u001b[0m\u001b[0;34m\u001b[0m\u001b[0m\n",
      "\u001b[0;32m<ipython-input-223-9dfaa17070ae>\u001b[0m in \u001b[0;36mW\u001b[0;34m(self, xd)\u001b[0m\n\u001b[1;32m     28\u001b[0m     \u001b[0;32mdef\u001b[0m \u001b[0mW\u001b[0m\u001b[0;34m(\u001b[0m\u001b[0mself\u001b[0m\u001b[0;34m,\u001b[0m \u001b[0mxd\u001b[0m\u001b[0;34m)\u001b[0m\u001b[0;34m:\u001b[0m\u001b[0;34m\u001b[0m\u001b[0;34m\u001b[0m\u001b[0m\n\u001b[1;32m     29\u001b[0m         \u001b[0;32mwith\u001b[0m \u001b[0mtf\u001b[0m\u001b[0;34m.\u001b[0m\u001b[0mvariable_scope\u001b[0m\u001b[0;34m(\u001b[0m\u001b[0;34m'W%d'\u001b[0m \u001b[0;34m%\u001b[0m \u001b[0mself\u001b[0m\u001b[0;34m.\u001b[0m\u001b[0mid\u001b[0m\u001b[0;34m,\u001b[0m \u001b[0mreuse\u001b[0m\u001b[0;34m=\u001b[0m\u001b[0mtf\u001b[0m\u001b[0;34m.\u001b[0m\u001b[0mAUTO_REUSE\u001b[0m\u001b[0;34m)\u001b[0m\u001b[0;34m:\u001b[0m\u001b[0;34m\u001b[0m\u001b[0;34m\u001b[0m\u001b[0m\n\u001b[0;32m---> 30\u001b[0;31m             \u001b[0;32mreturn\u001b[0m \u001b[0mnetW\u001b[0m\u001b[0;34m(\u001b[0m\u001b[0mxd\u001b[0m\u001b[0;34m,\u001b[0m \u001b[0mself\u001b[0m\u001b[0;34m.\u001b[0m\u001b[0mD\u001b[0m \u001b[0;34m-\u001b[0m \u001b[0mself\u001b[0m\u001b[0;34m.\u001b[0m\u001b[0md\u001b[0m\u001b[0;34m,\u001b[0m \u001b[0mself\u001b[0m\u001b[0;34m.\u001b[0m\u001b[0mnbins\u001b[0m\u001b[0;34m)\u001b[0m\u001b[0;34m\u001b[0m\u001b[0;34m\u001b[0m\u001b[0m\n\u001b[0m\u001b[1;32m     31\u001b[0m \u001b[0;34m\u001b[0m\u001b[0m\n\u001b[1;32m     32\u001b[0m \u001b[0;34m\u001b[0m\u001b[0m\n",
      "\u001b[0;32m<ipython-input-223-9dfaa17070ae>\u001b[0m in \u001b[0;36mnetW\u001b[0;34m(x, outsize, nbins)\u001b[0m\n\u001b[1;32m      7\u001b[0m \u001b[0;32mdef\u001b[0m \u001b[0mnetW\u001b[0m\u001b[0;34m(\u001b[0m\u001b[0mx\u001b[0m\u001b[0;34m,\u001b[0m \u001b[0moutsize\u001b[0m\u001b[0;34m,\u001b[0m \u001b[0mnbins\u001b[0m\u001b[0;34m)\u001b[0m\u001b[0;34m:\u001b[0m\u001b[0;34m\u001b[0m\u001b[0;34m\u001b[0m\u001b[0m\n\u001b[1;32m      8\u001b[0m     \u001b[0;31m# Note: Need to put in actual matrix, this is just to test\u001b[0m\u001b[0;34m\u001b[0m\u001b[0;34m\u001b[0m\u001b[0;34m\u001b[0m\u001b[0m\n\u001b[0;32m----> 9\u001b[0;31m     \u001b[0;32mreturn\u001b[0m \u001b[0mWMat\u001b[0m\u001b[0;34m\u001b[0m\u001b[0;34m\u001b[0m\u001b[0m\n\u001b[0m\u001b[1;32m     10\u001b[0m \u001b[0;34m\u001b[0m\u001b[0m\n\u001b[1;32m     11\u001b[0m \u001b[0;32mclass\u001b[0m \u001b[0mPiecewiseQuadratic\u001b[0m\u001b[0;34m(\u001b[0m\u001b[0mtfb\u001b[0m\u001b[0;34m.\u001b[0m\u001b[0mBijector\u001b[0m\u001b[0;34m)\u001b[0m\u001b[0;34m:\u001b[0m\u001b[0;34m\u001b[0m\u001b[0;34m\u001b[0m\u001b[0m\n",
      "\u001b[0;31mNameError\u001b[0m: name 'WMat' is not defined"
     ]
    }
   ],
   "source": [
    "test._forward(np.array([0.1,0.2,0.3,0.4,0.5,0.6]).reshape(1,6))"
   ]
  },
  {
   "cell_type": "code",
   "execution_count": null,
   "metadata": {},
   "outputs": [],
   "source": []
  }
 ],
 "metadata": {
  "kernelspec": {
   "display_name": "Python 3",
   "language": "python",
   "name": "python3"
  },
  "language_info": {
   "codemirror_mode": {
    "name": "ipython",
    "version": 3
   },
   "file_extension": ".py",
   "mimetype": "text/x-python",
   "name": "python",
   "nbconvert_exporter": "python",
   "pygments_lexer": "ipython3",
   "version": "3.6.8"
  }
 },
 "nbformat": 4,
 "nbformat_minor": 2
}
