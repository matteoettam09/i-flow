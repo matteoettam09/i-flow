{
 "cells": [
  {
   "cell_type": "code",
   "execution_count": 1,
   "metadata": {},
   "outputs": [
    {
     "name": "stdout",
     "output_type": "stream",
     "text": [
      "\n",
      "WARNING: The TensorFlow contrib module will not be included in TensorFlow 2.0.\n",
      "For more information, please see:\n",
      "  * https://github.com/tensorflow/community/blob/master/rfcs/20180907-contrib-sunset.md\n",
      "  * https://github.com/tensorflow/addons\n",
      "If you depend on functionality not listed there, please file an issue.\n",
      "\n"
     ]
    }
   ],
   "source": [
    "import matplotlib.pyplot as plt\n",
    "%matplotlib inline\n",
    "from piecewise import *"
   ]
  },
  {
   "cell_type": "code",
   "execution_count": 5,
   "metadata": {},
   "outputs": [],
   "source": [
    "tf.enable_eager_execution()"
   ]
  },
  {
   "cell_type": "markdown",
   "metadata": {},
   "source": [
    "## Settings"
   ]
  },
  {
   "cell_type": "code",
   "execution_count": 2,
   "metadata": {},
   "outputs": [],
   "source": [
    "NP_DTYPE = np.float32"
   ]
  },
  {
   "cell_type": "markdown",
   "metadata": {},
   "source": [
    "## Testing"
   ]
  },
  {
   "cell_type": "code",
   "execution_count": 6,
   "metadata": {},
   "outputs": [
    {
     "name": "stdout",
     "output_type": "stream",
     "text": [
      "WARNING:tensorflow:From /home/isaacson/Programs/anaconda3/envs/tensorflow/lib/python3.6/site-packages/tensorflow/python/ops/resource_variable_ops.py:642: colocate_with (from tensorflow.python.framework.ops) is deprecated and will be removed in a future version.\n",
      "Instructions for updating:\n",
      "Colocations handled automatically by placer.\n",
      "_________________________________________________________________\n",
      "Layer (type)                 Output Shape              Param #   \n",
      "=================================================================\n",
      "input_1 (InputLayer)         (None, 3)                 0         \n",
      "_________________________________________________________________\n",
      "dense (Dense)                (None, 64)                256       \n",
      "_________________________________________________________________\n",
      "dense_1 (Dense)              (None, 64)                4160      \n",
      "_________________________________________________________________\n",
      "dense_2 (Dense)              (None, 15)                975       \n",
      "_________________________________________________________________\n",
      "reshape (Reshape)            (None, 3, 5)              0         \n",
      "=================================================================\n",
      "Total params: 5,391\n",
      "Trainable params: 5,391\n",
      "Non-trainable params: 0\n",
      "_________________________________________________________________\n"
     ]
    }
   ],
   "source": [
    "test = PiecewiseLinear(6,3,5)"
   ]
  },
  {
   "cell_type": "code",
   "execution_count": 21,
   "metadata": {},
   "outputs": [
    {
     "name": "stdout",
     "output_type": "stream",
     "text": [
      "True\n"
     ]
    }
   ],
   "source": [
    "val = np.array(np.random.rand(1000000,6),dtype=NP_DTYPE)\n",
    "forward = test.forward(val)\n",
    "inverse = test.inverse(forward)\n",
    "print(np.allclose(val,inverse.numpy()))"
   ]
  },
  {
   "cell_type": "code",
   "execution_count": 26,
   "metadata": {},
   "outputs": [
    {
     "data": {
      "text/plain": [
       "False"
      ]
     },
     "execution_count": 26,
     "metadata": {},
     "output_type": "execute_result"
    }
   ],
   "source": [
    "np.allclose(test.forward_log_det_jacobian(val,event_ndims=1),-test.inverse_log_det_jacobian(forward,event_ndims=1))"
   ]
  },
  {
   "cell_type": "code",
   "execution_count": 11,
   "metadata": {},
   "outputs": [],
   "source": [
    "test = PiecewiseQuadratic(6,3,5)"
   ]
  },
  {
   "cell_type": "code",
   "execution_count": 20,
   "metadata": {
    "scrolled": false
   },
   "outputs": [
    {
     "name": "stdout",
     "output_type": "stream",
     "text": [
      "True\n",
      "[]\n"
     ]
    }
   ],
   "source": [
    "val = np.array(np.random.rand(1000,6),dtype=NP_DTYPE)\n",
    "forward = test.forward(val)\n",
    "inverse = test.inverse(forward)\n",
    "print(np.allclose(val,inverse.numpy()))\n",
    "print(((val-inverse.numpy())/val)[np.logical_not(np.isclose(val,inverse.numpy()))])"
   ]
  },
  {
   "cell_type": "markdown",
   "metadata": {},
   "source": [
    "## Training"
   ]
  },
  {
   "cell_type": "code",
   "execution_count": 27,
   "metadata": {},
   "outputs": [],
   "source": [
    "tf.disable_eager_execution()"
   ]
  },
  {
   "cell_type": "code",
   "execution_count": 2,
   "metadata": {},
   "outputs": [
    {
     "name": "stdout",
     "output_type": "stream",
     "text": [
      "WARNING:tensorflow:From /home/isaacson/Programs/anaconda3/envs/tensorflow/lib/python3.6/site-packages/tensorflow/python/ops/resource_variable_ops.py:435: colocate_with (from tensorflow.python.framework.ops) is deprecated and will be removed in a future version.\n",
      "Instructions for updating:\n",
      "Colocations handled automatically by placer.\n",
      "_________________________________________________________________\n",
      "Layer (type)                 Output Shape              Param #   \n",
      "=================================================================\n",
      "input_1 (InputLayer)         (None, 1)                 0         \n",
      "_________________________________________________________________\n",
      "dense (Dense)                (None, 64)                128       \n",
      "_________________________________________________________________\n",
      "dense_1 (Dense)              (None, 64)                4160      \n",
      "_________________________________________________________________\n",
      "dense_2 (Dense)              (None, 5)                 325       \n",
      "_________________________________________________________________\n",
      "reshape (Reshape)            (None, 1, 5)              0         \n",
      "=================================================================\n",
      "Total params: 4,613\n",
      "Trainable params: 4,613\n",
      "Non-trainable params: 0\n",
      "_________________________________________________________________\n",
      "WARNING:tensorflow:From <ipython-input-2-982f4dbe6947>:5: Permute.__init__ (from tensorflow.contrib.distributions.python.ops.bijectors.permute) is deprecated and will be removed after 2018-10-01.\n",
      "Instructions for updating:\n",
      "The TensorFlow Distributions library has moved to TensorFlow Probability (https://github.com/tensorflow/probability). You should update all references to use `tfp.distributions` instead of `tf.contrib.distributions`.\n",
      "_________________________________________________________________\n",
      "Layer (type)                 Output Shape              Param #   \n",
      "=================================================================\n",
      "input_2 (InputLayer)         (None, 1)                 0         \n",
      "_________________________________________________________________\n",
      "dense_3 (Dense)              (None, 64)                128       \n",
      "_________________________________________________________________\n",
      "dense_4 (Dense)              (None, 64)                4160      \n",
      "_________________________________________________________________\n",
      "dense_5 (Dense)              (None, 5)                 325       \n",
      "_________________________________________________________________\n",
      "reshape_1 (Reshape)          (None, 1, 5)              0         \n",
      "=================================================================\n",
      "Total params: 4,613\n",
      "Trainable params: 4,613\n",
      "Non-trainable params: 0\n",
      "_________________________________________________________________\n",
      "WARNING:tensorflow:From <ipython-input-2-982f4dbe6947>:8: Chain.__init__ (from tensorflow.contrib.distributions.python.ops.bijectors.chain) is deprecated and will be removed after 2018-10-01.\n",
      "Instructions for updating:\n",
      "The TensorFlow Distributions library has moved to TensorFlow Probability (https://github.com/tensorflow/probability). You should update all references to use `tfp.distributions` instead of `tf.contrib.distributions`.\n",
      "WARNING:tensorflow:From /home/isaacson/Programs/anaconda3/envs/tensorflow/lib/python3.6/site-packages/tensorflow/contrib/distributions/python/ops/bijectors/chain.py:205: _compute_min_event_ndims (from tensorflow.contrib.distributions.python.ops.bijectors.chain) is deprecated and will be removed after 2018-10-01.\n",
      "Instructions for updating:\n",
      "The TensorFlow Distributions library has moved to TensorFlow Probability (https://github.com/tensorflow/probability). You should update all references to use `tfp.distributions` instead of `tf.contrib.distributions`.\n"
     ]
    }
   ],
   "source": [
    "bijectors = []\n",
    "\n",
    "for i in range(2):\n",
    "    bijectors.append(PiecewiseLinear(2,1,5,layer_id=i))\n",
    "    bijectors.append(tfb.Permute(permutation=[1,0]))\n",
    "\n",
    "# Discard the last Permute layer\n",
    "test_bijector = tfb.Chain(list(reversed(bijectors[:-1])))"
   ]
  },
  {
   "cell_type": "code",
   "execution_count": 3,
   "metadata": {},
   "outputs": [
    {
     "name": "stdout",
     "output_type": "stream",
     "text": [
      "WARNING:tensorflow:From <ipython-input-3-7b1559b833c9>:1: Uniform.__init__ (from tensorflow.python.ops.distributions.uniform) is deprecated and will be removed after 2019-01-01.\n",
      "Instructions for updating:\n",
      "The TensorFlow Distributions library has moved to TensorFlow Probability (https://github.com/tensorflow/probability). You should update all references to use `tfp.distributions` instead of `tf.distributions`.\n",
      "WARNING:tensorflow:From /home/isaacson/Programs/anaconda3/envs/tensorflow/lib/python3.6/site-packages/tensorflow/python/ops/distributions/uniform.py:131: Distribution.__init__ (from tensorflow.python.ops.distributions.distribution) is deprecated and will be removed after 2019-01-01.\n",
      "Instructions for updating:\n",
      "The TensorFlow Distributions library has moved to TensorFlow Probability (https://github.com/tensorflow/probability). You should update all references to use `tfp.distributions` instead of `tf.distributions`.\n",
      "WARNING:tensorflow:From <ipython-input-3-7b1559b833c9>:4: TransformedDistribution.__init__ (from tensorflow.python.ops.distributions.transformed_distribution) is deprecated and will be removed after 2019-01-01.\n",
      "Instructions for updating:\n",
      "The TensorFlow Distributions library has moved to TensorFlow Probability (https://github.com/tensorflow/probability). You should update all references to use `tfp.distributions` instead of `tf.distributions`.\n"
     ]
    }
   ],
   "source": [
    "base_dist = tfd.Uniform(low=[0.0,0.0],high=[1.0,1.0])\n",
    "dist = tfd.TransformedDistribution(\n",
    "    distribution=base_dist,\n",
    "    bijector=test_bijector,\n",
    ")"
   ]
  },
  {
   "cell_type": "code",
   "execution_count": 4,
   "metadata": {
    "scrolled": false
   },
   "outputs": [
    {
     "name": "stdout",
     "output_type": "stream",
     "text": [
      "Tensor(\"PiecewiseLinear/forward/Pad:0\", shape=(1000, 1, 6), dtype=float32)\n",
      "Tensor(\"PiecewiseLinear_1/forward/Pad:0\", shape=(1000, 1, 6), dtype=float32)\n"
     ]
    }
   ],
   "source": [
    "x = base_dist.sample(1000)\n",
    "samples = [x]\n",
    "names = [base_dist.name]\n",
    "for bijector in reversed(dist.bijector.bijectors):\n",
    "    x = bijector.forward(x)\n",
    "    samples.append(x)\n",
    "    names.append(bijector.name)"
   ]
  },
  {
   "cell_type": "code",
   "execution_count": 6,
   "metadata": {},
   "outputs": [],
   "source": [
    "sess = tf.InteractiveSession()"
   ]
  },
  {
   "cell_type": "code",
   "execution_count": 7,
   "metadata": {
    "scrolled": false
   },
   "outputs": [
    {
     "data": {
      "image/png": "[encoded data removed]",
      "text/plain": [
       "<Figure size 1152x288 with 4 Axes>"
      ]
     },
     "metadata": {
      "needs_background": "light"
     },
     "output_type": "display_data"
    }
   ],
   "source": [
    "sess.run(tf.global_variables_initializer())\n",
    "results = sess.run(samples)\n",
    "f, arr = plt.subplots(1, len(results), figsize=(4*len(results),4))\n",
    "X0 = results[0]\n",
    "for i in range(len(results)):\n",
    "    X1 = results[i]\n",
    "    idx = np.logical_and(X0[:,0] < 0.5, X0[:,1] < 0.5)\n",
    "    arr[i].scatter(X1[idx, 0], X1[idx, 1], s=10, color='red')\n",
    "    idx = np.logical_and(X0[:, 0] > 0.5, X0[:, 1] < 0.5)\n",
    "    arr[i].scatter(X1[idx, 0], X1[idx, 1], s=10, color='green')\n",
    "    idx = np.logical_and(X0[:, 0] < 0.5, X0[:, 1] > 0.5)\n",
    "    arr[i].scatter(X1[idx, 0], X1[idx, 1], s=10, color='blue')\n",
    "    idx = np.logical_and(X0[:, 0] > 0.5, X0[:, 1] > 0.5)\n",
    "    arr[i].scatter(X1[idx, 0], X1[idx, 1], s=10, color='black')\n",
    "    arr[i].set_xlim([0, 1])\n",
    "    arr[i].set_ylim([0, 1])\n",
    "    arr[i].set_title(names[i])"
   ]
  },
  {
   "cell_type": "code",
   "execution_count": 164,
   "metadata": {},
   "outputs": [],
   "source": [
    "def dsigma(x):\n",
    "    return tf.where(np.logical_and(x[:,0] < np.ones_like(x[:,0])*0.9,x[:,1] < np.ones_like(x[:,0])*0.9), (x[:,0]**2 + x[:,1]**2)/((1-x[:,0])*(1-x[:,1])), np.zeros_like(x[:,0]))"
   ]
  },
  {
   "cell_type": "code",
   "execution_count": 165,
   "metadata": {},
   "outputs": [
    {
     "name": "stdout",
     "output_type": "stream",
     "text": [
      "tf.Tensor(\n",
      "[0.50868315 0.19002455 0.49499726 0.86940897 0.21817303 1.018231\n",
      " 0.71203685 0.9141156  0.9908575  0.40989432 0.17891505 0.47341225\n",
      " 0.33268487 0.7077338  0.41432306 0.4293134  0.14075835 0.51145977\n",
      " 0.6572349  0.3535929  0.22096866 0.38204247 0.09866763 0.8893694\n",
      " 0.5236993  0.35003617 1.0414289  0.72864205 0.08749794 0.6260667\n",
      " 0.36858416 0.291443   0.32017958 0.12808877 0.2878014  0.7098302\n",
      " 0.42491442 0.48026654 0.9829343  0.2582002  0.40324524 0.4209217\n",
      " 0.16988598 0.7116816  0.6376277  0.4961611  0.47989216 0.7791909\n",
      " 0.10361455 0.4311784  0.11911344 0.21295862 0.26741606 0.27136043\n",
      " 0.3005633  0.4877625  0.18803735 0.90323603 0.9123633  0.84592366\n",
      " 0.2194299  0.6663656  0.7441445  0.71527034 0.25496164 0.14595959\n",
      " 0.60809606 1.1275607  0.41164804 0.44395354 0.49920005 0.01852336\n",
      " 0.32914418 0.54958206 0.39660683 0.92276335 0.81712514 0.68254906\n",
      " 0.5952455  0.01790674 0.6290666  0.43368956 0.78958786 0.9950074\n",
      " 0.93268883 0.33662558 0.07431995 0.19993299 0.35225496 0.6086467\n",
      " 0.6639743  0.14069617 0.04386878 0.10594278 0.87246966 0.25289577\n",
      " 0.89468914 0.7285139  0.2951963  1.0505137  0.3499167  0.610153\n",
      " 0.26968732 0.9462576  0.89700484 0.23192151 0.12372648 0.43588808\n",
      " 0.16951871 0.49755397 1.1546825  0.28604403 1.046505   0.54961276\n",
      " 0.14036486 0.8357655  0.53004557 0.8374321  0.02510138 0.6125963\n",
      " 0.8297355  0.68501586 0.4113754  0.7464328  0.94822514 0.7940034\n",
      " 0.5103635  0.37275973 0.4357853  0.8383239  0.8680045  0.31781253\n",
      " 0.8166951  0.41582012 0.8693881  0.8698479  0.46060535 0.33764085\n",
      " 0.04525696 0.61125106 0.7692226  0.24386543 0.7674306  0.37250322\n",
      " 0.38499486 0.97037417 0.24578221 0.50226897 0.84841675 0.01880486\n",
      " 0.90388393 0.7760022  0.3474396  0.7420617  0.40564176 0.81545895\n",
      " 0.2391635  0.86198735 0.6416739  0.14690652 0.70502543 0.80701\n",
      " 0.04848079 0.7226834  0.8880838  0.77079874 0.5137186  0.62159187\n",
      " 0.23139147 0.42383826 0.22522277 0.03138709 0.33846036 1.1455357\n",
      " 0.18400791 0.15138653 0.33874586 0.38734788 0.31096858 0.53183514\n",
      " 0.62673604 0.81904626 0.00982673 0.8461016  0.23172426 0.03370766\n",
      " 0.04431433 0.09985661 0.62357706 0.37768644 0.3259062  0.0287944\n",
      " 0.2695418  0.3407433  0.13422602 0.6661253  0.10075315 0.6041132\n",
      " 0.88348114 0.3147877  0.0666028  0.6599993  0.690984   0.12379909\n",
      " 0.11627243 0.5710847  0.6072671  0.62985003 0.04416725 0.1037465\n",
      " 0.10440845 0.34819865 0.95987993 0.86695176 0.765501   0.11646152\n",
      " 0.6653917  0.42485064 0.6332329  0.27755162 0.96705323 0.09765857\n",
      " 0.77069086 0.54807013 0.04993671 0.5679259  0.86184186 0.41118562\n",
      " 0.06656606 0.46764764 0.6208995  0.08008263 0.5445194  0.42750907\n",
      " 0.4813791  1.0861119  0.5352674  0.53543437 0.52367765 0.54810995\n",
      " 0.9213726  0.03003598 0.31820738 0.9153255  0.09159612 0.38599813\n",
      " 0.16572566 0.47710857 0.1357715  0.8741617  0.35070992 0.06477259\n",
      " 0.02593951 0.12493736 0.11514628 0.3049538  0.23203489 0.48017916\n",
      " 0.33914062 0.39184597 0.61149544 0.7300564  0.10052151 0.01709385\n",
      " 0.9063912  1.047154   0.9011502  0.96421474 0.4434413  0.13014387\n",
      " 0.66847533 0.14856356 0.01993992 1.1449282  0.9587035  0.23604776\n",
      " 0.77756196 0.35058498 0.28239354 1.141794   0.5712914  0.46072307\n",
      " 0.43202883 0.51580995 0.8729233  0.09602465 0.83275515 0.65554065\n",
      " 0.0456636  0.6814521  0.55491424 0.56336135 0.4570107  0.12462792\n",
      " 0.74601483 0.36934274 1.0434676  0.6871     0.15324312 0.729194\n",
      " 0.5937038  0.9621517  0.2889695  0.09286287 0.49071327 0.7481826\n",
      " 0.8134419  0.60714805 0.24776445 0.05704517 1.0675414  1.0482827\n",
      " 0.6159705  0.23835915 1.0256228  0.71074194 0.37898934 0.7473183\n",
      " 0.8926081  0.43342605 0.15547241 0.58611    0.8645703  0.812354\n",
      " 0.6762102  0.505997   1.1329768  0.6795152  0.6792475  0.20212822\n",
      " 0.37451777 0.40619445 0.1141217  0.4423764  0.0106019  0.76448333\n",
      " 0.312513   0.590526   0.93243927 0.6734276  0.78154355 0.8210162\n",
      " 0.93204945 0.39054328 0.40606463 0.40540937 0.7429053  0.6185741\n",
      " 0.35723057 0.3295928  0.33168525 0.48068514 0.39709076 0.6812473\n",
      " 1.1170082  0.5856854  0.46644664 0.1585121  0.40989083 0.91722906\n",
      " 0.38775408 0.5769361  0.10907902 0.97619116 0.08576138 0.37743053\n",
      " 0.70714605 0.95842093 0.46527776 0.6141413  0.04246435 0.27598146\n",
      " 0.5774367  0.02792012 0.5828758  0.38309628 0.05585327 0.50334024\n",
      " 0.12375839 0.8167356  0.11240538 0.88163835 0.09551208 0.17759103\n",
      " 0.21961072 0.35174528 1.1003045  1.0241864  0.6179394  0.68397915\n",
      " 0.4355889  0.16412671 0.18331686 0.3379653  0.7598436  0.341467\n",
      " 0.9457046  0.6774998  0.27902734 0.7221398  0.09802094 0.8209412\n",
      " 0.16528738 0.07587516 0.44003153 0.18194832 0.9046086  0.35191405\n",
      " 0.64855945 0.19844623 1.1238853  0.11965252 0.13908644 0.28971255\n",
      " 0.8962683  0.8130076  0.7944551  0.429162   0.6435061  0.18788218\n",
      " 0.6331464  0.2885432  0.72904044 0.30735996 0.2399256  0.4162376\n",
      " 0.25899833 0.22892787 1.0246626  0.7306454  0.0192349  0.1788432\n",
      " 0.13412397 0.9314678  0.83980256 0.23398727 0.1212145  0.41089234\n",
      " 0.6289974  0.7571624  0.8626148  0.5414613  0.11454888 0.13790107\n",
      " 0.73123485 0.87679434 0.22040229 0.26356122 0.586311   0.4926508\n",
      " 0.20700875 0.01352687 0.467063   0.37633023 0.30123267 0.6090355\n",
      " 0.40964067 0.21128146 0.86497617 0.39281395 0.3126031  0.673153\n",
      " 0.72650963 0.08461569 0.74960655 0.4059754  0.01541905 0.7356036\n",
      " 0.9882132  0.00885965 0.8026901  0.5968478  0.06343138 0.80023926\n",
      " 0.1613662  0.67811406 0.0125015  0.3775406  0.8398025  0.06158519\n",
      " 0.64532965 0.06476712 0.9535595  0.8060915  1.0446489  0.04115754\n",
      " 0.19805315 0.90741557 0.05314792 0.63936025 0.7749406  0.20984466\n",
      " 0.18813023 0.42273572 0.71798414 0.10638129 0.32192454 0.31321013\n",
      " 0.07295794 0.9452222  0.03629355 0.06964321 0.2633535  0.05288855\n",
      " 0.5914663  1.1225535  0.65596753 0.7303093  0.42279565 0.30916238\n",
      " 0.5711716  0.0794422  0.26444557 0.5755153  0.34417176 0.73655474\n",
      " 0.84655744 0.66696846 0.8230049  0.5747879  0.5337663  0.17195989\n",
      " 1.1267105  0.66941905 0.01760826 0.4084186  0.34081256 0.26015583\n",
      " 0.14906585 0.54941064 0.20708948 0.4164696  0.65815425 0.5825316\n",
      " 0.43068305 0.10720477 0.22051248 0.06615523 0.05211775 0.46405348\n",
      " 0.28853956 0.687044   0.4629901  0.4885987  0.81433356 0.6761841\n",
      " 0.5539821  0.1788192  0.31791627 0.71150047 0.24614452 0.96204144\n",
      " 0.03456074 0.29618824 0.7157977  0.90973204 0.02265454 0.19458582\n",
      " 0.49281874 0.95793784 0.5591791  0.5046211  0.70339066 0.01628915\n",
      " 0.14907834 0.9024979  0.52298456 0.3560606  0.31810862 0.74108523\n",
      " 1.0940306  0.58555806 0.5167893  0.06666403 0.42471573 0.17798653\n",
      " 0.8208581  0.84687865 0.71209705 0.20867968 0.50165826 0.9624804\n",
      " 0.3654135  0.5265764  0.9056911  0.8087057  0.4365023  0.14080255\n",
      " 0.18412682 0.16830756 0.34620455 0.73993415 0.7114316  0.20779757\n",
      " 0.22330976 0.5829953  0.23003465 0.45437387 0.16689356 0.70493156\n",
      " 0.61157507 0.84944254 0.09708638 0.98892593 0.14274326 0.259161\n",
      " 0.47520396 0.05777516 0.9181743  0.7171317  0.37886482 0.1948651\n",
      " 0.44731143 0.7604175  0.0232326  0.02683923 0.35179472 0.00913484\n",
      " 0.82748634 0.8643916  0.30245045 0.6235105  0.03910803 0.06543387\n",
      " 0.54760075 0.8788786  0.73396903 0.26663962 0.67266446 0.05191177\n",
      " 0.13534735 0.25045878 0.8745014  0.06881343 0.79142666 0.17129268\n",
      " 0.05799354 1.1528996  0.50240505 0.17493473 0.20814522 0.57039577\n",
      " 0.90810406 0.9019594  0.19783545 0.46276546 0.4118729  0.7238249\n",
      " 0.38289052 0.8354787  0.36389616 0.5874555  0.8877333  0.599905\n",
      " 0.74505436 0.18896303 0.92984706 0.08550051 0.13057834 0.86430013\n",
      " 0.9361682  0.07283569 0.09843567 0.5881394  1.0054914  0.08762876\n",
      " 0.58948565 0.5315184  0.24981084 0.56011605 0.26069832 0.9410563\n",
      " 0.7870348  1.0059631  0.23775333 0.08907441 0.79105556 0.52288854\n",
      " 0.35074455 0.15921403 0.45137897 0.865156   0.584043   0.06736768\n",
      " 0.65626645 0.9925389  0.70869744 0.07821181 0.7345391  0.35266352\n",
      " 0.1291532  0.8959526  0.42761904 0.0424373  0.8467612  0.6435909\n",
      " 0.29575527 0.5491457  0.8222576  0.6002667  0.12689826 0.5486125\n",
      " 0.55726117 0.16731593 0.31124595 0.75819016 0.4608373  0.01421613\n",
      " 0.26678303 0.9394718  0.80522263 0.42993554 0.43459392 0.23768349\n",
      " 0.5321132  0.26254797 0.4047586  0.42199332 0.03893461 0.85338956\n",
      " 0.48872334 0.11013374 0.55192804 0.7429462  0.24510537 0.65315914\n",
      " 0.28083253 0.40318903 0.36587322 0.38790387 0.07392285 0.6601644\n",
      " 0.35681024 0.10079612 0.39843333 0.4779538  0.68526256 0.07591456\n",
      " 0.65727746 0.9459039  0.502898   0.06650139 0.00390346 0.7559575\n",
      " 0.50685424 0.5168614  0.78261423 0.08621325 0.03291929 0.75024813\n",
      " 0.7592514  0.89899945 0.7063058  0.47767463 0.94804114 0.26463857\n",
      " 0.06435399 0.34446445 0.75407106 0.5163584  0.53775257 0.19493526\n",
      " 0.8706384  0.84780884 0.45882937 0.04434846 0.53016317 1.0779061\n",
      " 0.565956   0.33493763 0.3975298  0.9325736  0.83099777 0.7326178\n",
      " 0.7642729  0.7562262  0.5296099  0.29966626 0.3060143  0.7764779\n",
      " 0.72254205 0.3563897  0.14466982 0.40090713 0.38963273 0.30067253\n",
      " 0.680598   0.88805044 0.90787536 0.09474252 0.82676417 0.80214477\n",
      " 0.4285717  0.92128044 0.41187897 0.61718965 0.02012117 1.1525832\n",
      " 0.4253602  0.58415765 0.12525253 0.65965825 0.49417657 0.8536495\n",
      " 0.5660859  0.6185478  0.1770118  0.9719018  0.8293272  0.52088046\n",
      " 0.27995235 0.71087974 0.06125583 0.00696971 0.4911483  0.81513846\n",
      " 0.31099218 0.41285452 0.47827217 0.16151713 0.05691088 0.8509555\n",
      " 0.9210673  0.9198488  0.5431632  0.50999117 0.09593029 0.79491335\n",
      " 0.6244766  0.04057062 1.0295768  1.0522627  1.1133584  0.75678957\n",
      " 0.1631726  0.5961516  0.09811115 0.43122315 0.50477606 0.7269787\n",
      " 0.9350885  0.73963284 0.56464696 0.7890116  0.3229377  0.04248764\n",
      " 0.9329111  0.87468183 0.8320773  0.18198639 0.5348702  0.90376383\n",
      " 0.22202928 0.5932847  0.8758527  0.8293588  0.79423386 0.3776705\n",
      " 0.06539713 0.21291819 0.6400125  0.6189243  0.7705151  0.27168116\n",
      " 0.40115628 0.34177828 0.08725099 0.17935036 0.14354467 0.04709383\n",
      " 0.62086874 0.7317899  0.20547616 0.02887437 0.7197259  0.96944475\n",
      " 0.8753131  0.90846026 0.2080199  0.3332744  0.31036603 0.9279617\n",
      " 0.44729936 0.48561874 0.5851207  0.17986545 0.07756697 0.74506015\n",
      " 0.822806   0.76190317 0.88604295 0.08016659 0.27060196 0.17782311\n",
      " 0.6093453  0.69892526 0.92308927 0.4225502  0.4213125  0.26297456\n",
      " 0.35603565 0.02802702 0.8781857  0.87643385 0.29496536 0.34510362\n",
      " 0.06014431 0.8285226  0.80483407 0.6839089  0.27663454 0.06845894\n",
      " 0.04066998 0.24440835 0.65039754 0.9220527  0.6303929  0.18703909\n",
      " 0.07739569 0.02684439 0.7404215  0.34190065 0.1971927  0.18673633\n",
      " 0.15355016 0.11030184 0.6020967  0.4773373  0.81620634 0.7804887\n",
      " 0.5090374  0.6812708  0.13861144 0.38944831 0.15593535 0.08643851\n",
      " 0.81784075 0.45199433 0.3841874  0.66877836 0.75445354 1.0995815\n",
      " 1.1205617  0.57088745 0.02313159 0.6814467  0.7222289  0.45001042\n",
      " 0.8252357  0.6140084  1.007284   0.09598469 0.2433604  0.6064532\n",
      " 0.6345965  0.30556387 0.48985308 0.528858   0.07233875 0.67199534\n",
      " 0.541716   0.24170904 1.1050354  0.22095062 0.33725122 0.3385476\n",
      " 0.02491633 0.8520582  0.4561695  0.27230048 0.6733439  0.857955\n",
      " 0.87849325 0.18385118 0.81855327 0.53398246 0.6430603  0.7076514\n",
      " 0.4179092  0.11532177 0.24473451 0.9314895  0.1133142  0.53254855\n",
      " 0.7259243  0.3290875  0.6372097  0.72909087 0.9212752  0.76185757\n",
      " 0.1036296  0.42735004 1.1436484  0.6448803  0.9152089  0.60826653\n",
      " 0.13532872 0.62422603 0.39280578 0.7765263 ], shape=(1000,), dtype=float32) \n",
      " tf.Tensor(\n",
      "[7.26591706e-01 2.23241258e+00 1.10855923e+01 1.23639984e+01\n",
      " 6.74485192e-02 1.63255863e+01 1.83811259e+00 7.72456455e+00\n",
      " 1.29296923e+01 0.00000000e+00 8.58826637e-02 1.07664280e+01\n",
      " 3.48082393e-01 1.66274815e+01 4.24893111e-01 5.20666718e-01\n",
      " 5.97350486e-02 0.00000000e+00 2.00042629e+00 0.00000000e+00\n",
      " 6.56711236e-02 3.30534577e+00 9.67475951e-01 0.00000000e+00\n",
      " 8.14162731e-01 0.00000000e+00 0.00000000e+00 4.42441368e+00\n",
      " 7.92469740e-01 2.18220973e+00 4.17580843e-01 5.41919410e-01\n",
      " 1.33276167e+01 2.02897321e-02 1.39989272e-01 1.80500901e+00\n",
      " 6.47260141e+00 6.09581470e-01 0.00000000e+00 9.39151272e-02\n",
      " 1.49327641e+01 8.30288219e+00 2.28346765e-01 1.88477552e+00\n",
      " 0.00000000e+00 1.33116889e+00 1.23302221e+01 3.67586899e+00\n",
      " 1.74824744e-01 4.08975172e+00 4.67475891e+00 7.78738916e-01\n",
      " 2.26359248e-01 7.11711228e-01 1.62781298e-01 3.60772038e+00\n",
      " 3.06339025e+00 0.00000000e+00 0.00000000e+00 9.46351147e+00\n",
      " 5.34788847e-01 1.72409153e+00 2.11917763e+01 2.01740837e+00\n",
      " 1.41425475e-01 5.63959599e-01 2.13456964e+00 0.00000000e+00\n",
      " 2.69504356e+00 3.29367828e+00 1.33088589e+00 4.07517314e-01\n",
      " 0.00000000e+00 6.59315777e+00 9.03664529e-01 0.00000000e+00\n",
      " 4.87578583e+00 3.09097338e+00 8.00768471e+00 3.24014330e+00\n",
      " 4.03283691e+00 4.52198774e-01 4.79550982e+00 1.40133924e+01\n",
      " 0.00000000e+00 7.40463114e+00 7.78789425e+00 6.29546165e+00\n",
      " 2.09761238e+00 1.12997723e+00 1.42386985e+00 2.98329264e-01\n",
      " 6.06501627e+00 3.39892626e-01 7.24759436e+00 9.84436348e-02\n",
      " 0.00000000e+00 2.91298580e+00 7.45436764e+00 0.00000000e+00\n",
      " 4.18675852e+00 1.18175392e+01 5.54598689e-01 0.00000000e+00\n",
      " 0.00000000e+00 7.11554512e-02 1.32928297e-01 1.19781475e+01\n",
      " 7.53007770e-01 1.24128494e+01 0.00000000e+00 0.00000000e+00\n",
      " 0.00000000e+00 6.99605167e-01 8.72522369e-02 3.09025440e+01\n",
      " 6.20455360e+00 8.56015682e+00 5.77782057e-02 1.14186363e+01\n",
      " 8.35737896e+00 2.62242222e+00 7.91387677e-01 5.88675156e+01\n",
      " 1.15187092e+01 2.95087185e+01 4.47378302e+00 3.76364022e-01\n",
      " 0.00000000e+00 6.61121750e+01 7.32067871e+00 2.56453896e+00\n",
      " 5.23843002e+00 1.00000010e+01 9.65989685e+00 0.00000000e+00\n",
      " 4.67865133e+00 2.65594053e+00 4.79379058e-01 2.20068932e+00\n",
      " 3.45463681e+00 7.61962295e-01 4.17331505e+01 1.20805874e+01\n",
      " 0.00000000e+00 0.00000000e+00 4.16551685e+00 2.03524704e+01\n",
      " 6.04255342e+00 3.79818410e-01 0.00000000e+00 2.81148458e+00\n",
      " 4.25638527e-01 2.25661206e+00 0.00000000e+00 2.09647923e+01\n",
      " 2.66350818e+00 6.25540113e+00 2.25374699e+00 6.56005740e-01\n",
      " 2.77832794e+00 4.35191488e+00 2.79445916e-01 3.07689214e+00\n",
      " 0.00000000e+00 2.43978577e+01 6.90788448e-01 2.62677841e+01\n",
      " 8.83469284e-02 2.15022206e+00 1.36878812e+00 5.79137230e+00\n",
      " 0.00000000e+00 0.00000000e+00 4.68505812e+00 1.81727612e+00\n",
      " 2.44663429e+00 6.62770152e-01 4.38774705e-01 6.33440316e-01\n",
      " 2.14027262e+00 1.05151772e+02 2.16578078e+00 0.00000000e+00\n",
      " 0.00000000e+00 2.30444118e-01 1.70942083e-01 5.55739284e-01\n",
      " 1.79322052e+00 7.95192361e-01 1.58264205e-01 8.18314962e-03\n",
      " 4.38873827e-01 1.96311846e-01 6.74786997e+00 2.66851878e+00\n",
      " 1.57254064e+00 1.55637312e+00 0.00000000e+00 4.60182816e-01\n",
      " 8.95977542e-02 2.48655930e+01 1.80919850e+00 2.69878459e+00\n",
      " 2.18143165e-02 0.00000000e+00 2.23116899e+00 1.08539352e+01\n",
      " 4.88187790e+00 1.61361217e-01 9.56563056e-02 4.89051014e-01\n",
      " 0.00000000e+00 9.33456898e+00 0.00000000e+00 0.00000000e+00\n",
      " 1.78418517e+00 1.11085832e+00 0.00000000e+00 7.53224790e-01\n",
      " 0.00000000e+00 4.93538797e-01 0.00000000e+00 2.43706989e+00\n",
      " 0.00000000e+00 2.58908534e+00 7.38233376e+00 3.51209140e+00\n",
      " 6.15928806e-02 0.00000000e+00 1.54966927e+00 3.31011534e-01\n",
      " 1.41106808e+00 0.00000000e+00 1.19104254e+00 0.00000000e+00\n",
      " 0.00000000e+00 1.69865549e+00 0.00000000e+00 9.85681820e+00\n",
      " 0.00000000e+00 1.36527298e-02 0.00000000e+00 0.00000000e+00\n",
      " 2.03974938e+00 2.49963596e-01 9.12146389e-01 1.27073431e+00\n",
      " 0.00000000e+00 0.00000000e+00 5.08989573e+00 5.37023842e-01\n",
      " 0.00000000e+00 4.59541231e-02 2.65834123e-01 2.88534045e+00\n",
      " 7.34640741e+00 0.00000000e+00 0.00000000e+00 5.01763105e-01\n",
      " 1.73248947e+00 3.29450488e+00 2.94817734e+00 2.57245690e-01\n",
      " 0.00000000e+00 0.00000000e+00 0.00000000e+00 0.00000000e+00\n",
      " 8.41434300e-01 7.38897562e-01 2.43297648e+00 3.35331559e+00\n",
      " 4.44729987e-04 0.00000000e+00 0.00000000e+00 3.18400741e+00\n",
      " 2.00898056e+01 5.72836304e+00 4.35144812e-01 0.00000000e+00\n",
      " 4.51492834e+00 1.05644059e+00 3.60467076e-01 1.23464842e+01\n",
      " 1.43548527e+01 3.52928638e+00 5.61758471e+00 2.03028774e+00\n",
      " 2.44079810e-02 2.92831397e+00 9.08942342e-01 1.86463475e+00\n",
      " 0.00000000e+00 3.79541063e+00 1.59067106e+01 3.82156825e+00\n",
      " 0.00000000e+00 3.84935036e+01 6.14596963e-01 2.98787451e+00\n",
      " 5.12859917e+00 0.00000000e+00 0.00000000e+00 7.67364025e-01\n",
      " 0.00000000e+00 3.41060948e+00 3.99698544e+00 9.69522119e-01\n",
      " 4.74601150e-01 2.80793160e-01 0.00000000e+00 0.00000000e+00\n",
      " 9.16978168e+00 1.90510780e-01 1.81058064e+01 2.19494963e+00\n",
      " 3.56524885e-01 2.30573583e+00 0.00000000e+00 3.92539412e-01\n",
      " 7.53251240e-02 1.23366010e+00 1.03170729e+01 4.08901834e+00\n",
      " 4.35177803e+01 6.86455846e-01 0.00000000e+00 2.69087362e+00\n",
      " 2.85228324e+00 0.00000000e+00 1.10294807e+00 0.00000000e+00\n",
      " 1.11683583e+00 4.40723896e+00 1.83584780e-01 0.00000000e+00\n",
      " 1.18109913e+01 1.58860362e+00 0.00000000e+00 3.67281556e+00\n",
      " 5.99192333e+00 6.61655712e+00 0.00000000e+00 6.38356507e-01\n",
      " 8.00134122e-01 9.58068430e-01 1.69705963e+01 3.13409042e+00\n",
      " 3.79055500e-01 1.70432717e-01 1.70712262e-01 4.60498720e-01\n",
      " 8.23284268e-01 4.26945400e+00 0.00000000e+00 2.63729038e+01\n",
      " 0.00000000e+00 7.13565528e-01 0.00000000e+00 0.00000000e+00\n",
      " 1.45244861e+00 1.19662035e+00 6.81686997e-02 0.00000000e+00\n",
      " 4.43470389e-01 1.22175419e+00 1.74416912e+00 0.00000000e+00\n",
      " 1.35172486e+00 0.00000000e+00 2.97025108e+00 0.00000000e+00\n",
      " 9.70021188e-01 2.21129030e-01 2.74788213e+00 0.00000000e+00\n",
      " 4.50545326e-02 7.06908941e-01 2.19370052e-01 6.71035995e+01\n",
      " 2.77760577e+00 0.00000000e+00 1.27112165e-01 3.06047797e-01\n",
      " 6.12779951e+00 0.00000000e+00 0.00000000e+00 2.19384098e+01\n",
      " 2.18409538e+00 0.00000000e+00 0.00000000e+00 5.53542256e-01\n",
      " 4.39452791e+00 2.47060609e+00 3.94256115e+00 0.00000000e+00\n",
      " 0.00000000e+00 2.10343790e+00 4.09284401e+00 2.12344341e+01\n",
      " 3.79252546e-02 0.00000000e+00 1.90541357e-01 8.43436122e-02\n",
      " 5.41118264e-01 4.78732109e+00 0.00000000e+00 1.60261571e+00\n",
      " 3.27690673e+00 1.20987129e+00 0.00000000e+00 6.89827651e-02\n",
      " 3.93821634e-02 0.00000000e+00 0.00000000e+00 0.00000000e+00\n",
      " 3.22359276e+00 1.08156574e+00 4.04248381e+00 5.21578252e-01\n",
      " 0.00000000e+00 5.56318521e-01 2.09348941e+00 3.57351422e+00\n",
      " 9.86519232e-02 7.33886480e-01 6.24177885e+00 2.56142080e-01\n",
      " 1.83500252e+01 1.06322212e+01 5.72248077e+00 2.57116765e-01\n",
      " 4.35391068e-01 9.93062496e+00 1.14001427e+02 6.68130827e+00\n",
      " 1.26473844e-01 0.00000000e+00 9.39941025e+00 2.03623734e+01\n",
      " 0.00000000e+00 4.34819841e+00 6.66646585e-02 4.39891279e-01\n",
      " 0.00000000e+00 1.21636276e+01 6.23671293e-01 9.70308408e-02\n",
      " 0.00000000e+00 0.00000000e+00 1.92824528e-01 6.27292204e+00\n",
      " 8.38930607e+00 3.09014112e-01 1.03114147e+01 1.77425790e+00\n",
      " 6.14814639e-01 4.45227528e+00 0.00000000e+00 3.17104578e-01\n",
      " 1.19952059e+01 1.75320911e+01 0.00000000e+00 7.16555357e-01\n",
      " 4.76803112e+00 1.02868497e+00 1.73699886e-01 2.71165466e+00\n",
      " 1.82106628e+01 1.66921115e+00 3.45357666e+01 2.01958585e+00\n",
      " 9.74130690e-01 0.00000000e+00 3.95939387e-02 2.11671162e+00\n",
      " 1.75018176e-01 0.00000000e+00 6.37821083e+01 2.55717725e-01\n",
      " 1.83899605e+00 1.84461117e+00 0.00000000e+00 3.97158408e+00\n",
      " 0.00000000e+00 1.96781218e+00 1.11359751e+00 0.00000000e+00\n",
      " 2.12199020e+00 2.57030344e+00 0.00000000e+00 5.19039929e-01\n",
      " 2.72316217e+00 4.17560637e-01 1.98412571e+01 1.56957224e-01\n",
      " 6.50313568e+00 1.78532481e+00 0.00000000e+00 1.09077692e+01\n",
      " 4.44468403e+00 0.00000000e+00 1.94510961e+00 8.33366454e-01\n",
      " 1.53522425e+01 0.00000000e+00 1.42075777e+00 2.64792767e+01\n",
      " 1.09964347e+00 1.46865296e+00 8.23836625e-01 6.00019169e+00\n",
      " 1.10450126e-01 2.58197823e+01 1.73252821e+00 2.23264551e+00\n",
      " 0.00000000e+00 7.45605946e+00 4.17842770e+00 1.16769533e+01\n",
      " 4.24328041e+00 5.40624082e-01 0.00000000e+00 1.58049500e+00\n",
      " 2.92452821e-03 1.45507264e+00 2.49354362e+00 1.16416740e+01\n",
      " 0.00000000e+00 6.93869233e-01 0.00000000e+00 1.04081881e+00\n",
      " 0.00000000e+00 1.33544559e+01 9.48992014e-01 2.87231177e-01\n",
      " 2.45936424e-01 7.75061697e-02 1.23387910e-01 4.77805346e-01\n",
      " 2.20263302e-01 2.61544180e+00 0.00000000e+00 0.00000000e+00\n",
      " 6.19179420e+01 0.00000000e+00 1.75541949e+00 1.30890501e+00\n",
      " 6.03662431e-01 2.33355546e+00 1.60065782e+00 0.00000000e+00\n",
      " 1.60788608e+00 5.68305492e-01 0.00000000e+00 1.05041828e+01\n",
      " 3.97451490e-01 2.35096321e-01 0.00000000e+00 0.00000000e+00\n",
      " 1.16134250e+00 9.19850886e-01 3.34943819e+00 1.77934423e-01\n",
      " 7.35888183e-02 0.00000000e+00 7.51890779e-01 7.88758397e-01\n",
      " 1.09773707e+00 3.56976151e+00 0.00000000e+00 6.31103230e+00\n",
      " 2.00235729e+01 6.04915153e-03 4.54411954e-01 3.75556469e-01\n",
      " 4.33114662e+01 5.25439072e+00 1.68552952e+01 2.43782997e+00\n",
      " 5.77877700e-01 0.00000000e+00 2.89931089e-01 1.43154726e+01\n",
      " 7.53022242e+00 0.00000000e+00 2.56570578e+00 1.87181711e+00\n",
      " 8.66999701e-02 2.41704702e+00 9.59225059e-01 1.42554207e+01\n",
      " 3.18241310e+00 7.93249160e-02 9.07352492e-02 1.71662104e+00\n",
      " 3.50174451e+00 1.07925916e+00 1.53174058e-01 3.38808870e+00\n",
      " 1.68145978e+00 0.00000000e+00 1.84362382e-01 1.41883440e+01\n",
      " 0.00000000e+00 4.76538330e-01 0.00000000e+00 2.32420534e-01\n",
      " 0.00000000e+00 2.02388430e+00 2.68763304e-01 8.02156162e+00\n",
      " 7.81547904e-01 1.54371548e+01 5.10494530e-01 1.75376385e-01\n",
      " 4.88881588e+00 2.29744005e+00 2.55822906e+01 1.28701677e+01\n",
      " 3.88761967e-01 1.06666100e+00 1.17450500e+00 3.08758378e+00\n",
      " 8.14248204e-01 0.00000000e+00 3.74361877e+01 2.11744666e+00\n",
      " 7.40917873e+00 1.03284311e+00 3.30273199e+00 1.59773633e-01\n",
      " 1.12994728e+01 1.36187482e+00 6.82014227e+00 6.44975305e-02\n",
      " 2.06439972e+00 0.00000000e+00 1.06672859e+01 1.10081875e+00\n",
      " 7.67725289e-01 9.81134355e-01 0.00000000e+00 0.00000000e+00\n",
      " 7.07860899e+00 3.45965385e+00 4.96077585e+00 3.55465865e+00\n",
      " 0.00000000e+00 6.87445450e+00 0.00000000e+00 2.46599555e+00\n",
      " 9.24016666e+00 2.54827619e+00 2.78533173e+00 5.77192008e-01\n",
      " 1.18699627e+01 5.05377710e-01 1.40497267e-01 8.63003922e+00\n",
      " 0.00000000e+00 3.34759355e+00 2.85317183e-01 1.63413925e+01\n",
      " 2.24010735e+01 7.36256421e-01 6.81605959e+00 1.08605242e+00\n",
      " 5.81348836e-01 0.00000000e+00 2.47881651e-01 0.00000000e+00\n",
      " 5.60676098e+00 1.47040834e+01 0.00000000e+00 6.22767389e-01\n",
      " 3.20182657e+00 1.35581551e+01 1.74791574e+00 1.03149235e+00\n",
      " 8.82235050e+00 1.01841536e+01 1.11094558e+00 0.00000000e+00\n",
      " 4.29086208e+00 0.00000000e+00 9.21441364e+00 5.91595590e-01\n",
      " 1.48583231e+01 2.01300114e-01 3.66562270e-02 0.00000000e+00\n",
      " 4.65368080e+00 5.22192195e-03 0.00000000e+00 1.47153568e+00\n",
      " 1.25926578e+00 0.00000000e+00 9.36413422e+01 1.57305241e+00\n",
      " 2.82750782e-02 2.39124131e+00 6.58758926e+00 4.99772817e-01\n",
      " 6.60858774e+00 5.01538086e+00 4.08922291e+00 2.24156976e-01\n",
      " 4.94910687e-01 1.19939499e+01 4.26138783e+00 5.34569442e-01\n",
      " 7.38778412e-01 7.79133886e-02 6.40785873e-01 0.00000000e+00\n",
      " 9.20166016e-01 4.11554098e+00 2.88582087e-01 0.00000000e+00\n",
      " 6.62380397e-01 1.11874831e+00 1.62226403e+00 2.34926438e+00\n",
      " 0.00000000e+00 1.35767186e+00 1.17408216e-01 1.56898565e+01\n",
      " 2.89562374e-01 3.47960162e+00 9.33111727e-01 0.00000000e+00\n",
      " 2.51811832e-01 7.90219232e-02 7.23379612e+00 4.07528496e+00\n",
      " 1.40381947e+01 2.75766879e-01 2.69650698e+00 0.00000000e+00\n",
      " 5.12878895e-01 0.00000000e+00 1.23407207e-01 4.17546225e+00\n",
      " 6.73187077e-01 0.00000000e+00 5.30130386e+00 1.41301956e-02\n",
      " 1.50969219e+00 1.79172382e+01 3.01398411e+01 0.00000000e+00\n",
      " 1.53768492e+01 3.42673802e+00 0.00000000e+00 0.00000000e+00\n",
      " 3.21964431e+00 4.85293776e-01 3.14085174e+00 0.00000000e+00\n",
      " 9.90370572e-01 1.37010252e+00 6.57961655e+00 0.00000000e+00\n",
      " 4.78494406e-01 3.79325604e+00 1.38947189e+00 0.00000000e+00\n",
      " 2.64072776e+00 2.47804299e-01 3.54613447e+00 0.00000000e+00\n",
      " 8.44320869e+00 3.79519105e+00 2.44166965e+01 4.62879524e+01\n",
      " 2.14338732e+00 7.51654243e+00 1.40532270e-01 8.06771851e+01\n",
      " 0.00000000e+00 3.97452056e-01 6.38982207e-02 0.00000000e+00\n",
      " 8.21792698e+00 6.20270789e-01 1.60999527e+01 7.22432470e+00\n",
      " 1.23626328e+01 2.81408787e-01 4.61475611e+00 7.67442703e+00\n",
      " 1.44688952e+00 0.00000000e+00 6.89793646e-01 3.09306049e+00\n",
      " 1.79795754e+00 0.00000000e+00 3.20449924e+00 8.75788271e-01\n",
      " 1.23870623e+00 1.11761923e+01 9.71424580e-01 0.00000000e+00\n",
      " 0.00000000e+00 8.64097786e+00 1.45054623e-01 0.00000000e+00\n",
      " 7.71869230e+00 5.74408388e+00 5.34642279e-01 4.77170715e+01\n",
      " 3.34166944e-01 3.70305347e+00 1.45419526e+00 4.40864706e+00\n",
      " 3.11145842e-01 2.02716446e+00 6.24499655e+00 3.63060760e+00\n",
      " 4.89010572e+00 5.30825472e+00 0.00000000e+00 0.00000000e+00\n",
      " 0.00000000e+00 0.00000000e+00 6.99148774e-01 3.59545994e+00\n",
      " 2.32286835e+00 6.41752332e-02 2.32629948e+01 0.00000000e+00\n",
      " 0.00000000e+00 0.00000000e+00 7.19145715e-01 6.42653131e+00\n",
      " 7.38644123e+00 2.99930120e+00 0.00000000e+00 2.22018194e+00\n",
      " 0.00000000e+00 3.60304451e+00 4.79517269e+00 4.37888527e+00\n",
      " 1.41401577e+00 2.91510466e-02 0.00000000e+00 0.00000000e+00\n",
      " 9.29770279e+00 2.88600421e+00 2.08119297e+00 7.05447531e+00\n",
      " 2.44592977e+00 1.60473423e+01 0.00000000e+00 4.78767548e+01\n",
      " 3.91790247e+00 7.56785393e-01 6.55911207e-01 0.00000000e+00\n",
      " 1.21547520e+00 1.07425690e+01 2.81935287e+00 2.64496893e-01\n",
      " 8.37996483e-01 3.13641310e-01 1.82612693e+00 9.70314324e-01\n",
      " 2.57694817e+00 0.00000000e+00 1.73694646e+00 3.58819914e+00\n",
      " 8.25613022e-01 4.00507310e-03 5.52243471e+00 0.00000000e+00\n",
      " 9.03474140e+00 0.00000000e+00 2.83733577e-01 5.00799716e-01\n",
      " 3.63483936e-01 0.00000000e+00 0.00000000e+00 1.49752915e+00\n",
      " 1.94814789e+00 9.99167824e+00 7.11315451e-03 4.55636406e+00\n",
      " 4.25313950e+00 0.00000000e+00 0.00000000e+00 3.74263749e-02\n",
      " 4.68193322e-01 3.73806429e+00 9.77630794e-01 2.76031160e+00\n",
      " 0.00000000e+00 3.31253052e-01 9.47063804e-01 9.45071653e-02\n",
      " 3.30605924e-01 4.19666100e+00 1.16773367e+01 0.00000000e+00\n",
      " 2.52554119e-01 2.79400498e-01 1.15952671e+00 2.57049732e+01\n",
      " 5.81707287e+00 8.40771294e+00 3.32350969e+00 2.35486835e-01\n",
      " 3.31179313e-02 2.39916235e-01 1.23522246e+00 0.00000000e+00\n",
      " 1.26691115e+00 1.37528098e+00 1.49427444e-01 0.00000000e+00\n",
      " 4.87687187e+01 1.79536209e-01 6.08398259e-01 4.83990572e-02\n",
      " 5.15388441e+00 1.37935262e-02 1.48476219e+00 3.49157310e+00\n",
      " 7.40400772e+01 4.77426109e+01 1.94344540e+01 0.00000000e+00\n",
      " 5.87396100e-02 1.30539107e+00 5.01426831e-02 1.30980149e-01\n",
      " 2.65120735e+01 1.25670791e+00 2.40743303e+00 2.59569812e+00\n",
      " 3.71042180e+00 0.00000000e+00 0.00000000e+00 1.29477191e+00\n",
      " 1.58742630e+00 2.53860998e+00 2.55625153e+00 4.35997456e-01\n",
      " 3.63726273e+01 1.95111322e+00 1.68765068e+01 1.09101437e-01\n",
      " 8.68716717e-01 1.37161481e+00 6.04518938e+00 8.76785278e+00\n",
      " 0.00000000e+00 1.51994097e+00 7.91870892e-01 1.12624159e+01\n",
      " 1.40216398e+00 3.87439966e-01 0.00000000e+00 4.06941921e-01\n",
      " 6.02759480e-01 1.32607508e+01 6.74805790e-03 0.00000000e+00\n",
      " 4.33185101e+00 5.36398709e-01 2.28760982e+00 0.00000000e+00\n",
      " 0.00000000e+00 5.04371524e-01 3.75190849e+01 1.26372564e+00\n",
      " 3.96989131e+00 0.00000000e+00 5.86896539e-01 1.23326309e-01\n",
      " 4.17381907e+00 0.00000000e+00 8.20786729e-02 1.41853738e+00\n",
      " 2.43559718e+00 2.83694893e-01 2.50299954e+00 3.26254463e+01\n",
      " 0.00000000e+00 2.07944374e+01 5.94134748e-01 3.41013134e-01\n",
      " 0.00000000e+00 2.70308328e+00 0.00000000e+00 1.15011132e+00\n",
      " 6.47990331e-02 3.38025284e+00 3.03903759e-01 6.32346268e+01], shape=(1000,), dtype=float32)\n"
     ]
    }
   ],
   "source": [
    "samples = np.array(np.random.rand(1000,2),dtype=NP_DTYPE)\n",
    "x = bijector.inverse(samples)\n",
    "X = bijector.pdf(x)\n",
    "dsig = dsigma(x)\n",
    "print(tf.reduce_prod(X,axis=-1), '\\n', dsig)"
   ]
  },
  {
   "cell_type": "code",
   "execution_count": 130,
   "metadata": {},
   "outputs": [
    {
     "data": {
      "image/png": "[encoded data removed]",
      "text/plain": [
       "<Figure size 432x288 with 1 Axes>"
      ]
     },
     "metadata": {
      "needs_background": "light"
     },
     "output_type": "display_data"
    }
   ],
   "source": [
    "plt.hist2d(x[:,0],x[:,1],weights=dsig)\n",
    "plt.show()"
   ]
  },
  {
   "cell_type": "code",
   "execution_count": 166,
   "metadata": {},
   "outputs": [
    {
     "data": {
      "image/png": "[encoded data removed]",
      "text/plain": [
       "<Figure size 432x288 with 1 Axes>"
      ]
     },
     "metadata": {
      "needs_background": "light"
     },
     "output_type": "display_data"
    }
   ],
   "source": [
    "plt.hist2d(x[:,0],x[:,1],weights=tf.reduce_prod(X,axis=-1)*tf.exp(bijector.forward_log_det_jacobian(x,event_ndims=1)))\n",
    "plt.show()"
   ]
  },
  {
   "cell_type": "code",
   "execution_count": 167,
   "metadata": {},
   "outputs": [
    {
     "name": "stdout",
     "output_type": "stream",
     "text": [
      "tf.Tensor(2.2859654, shape=(), dtype=float32)\n"
     ]
    }
   ],
   "source": [
    "loss = -tf.reduce_mean(dsig*tf.log(tf.reduce_prod(X,axis=-1)))\n",
    "print(loss)"
   ]
  },
  {
   "cell_type": "code",
   "execution_count": 168,
   "metadata": {},
   "outputs": [],
   "source": [
    "def loss_fn(x):\n",
    "    x = bijector.inverse(x)\n",
    "    q = tf.reduce_prod(bijector.pdf(x),axis=-1)\n",
    "    p = dsigma(x)\n",
    "    return -tf.reduce_mean(p*(tf.log(q)+bijector.forward_log_det_jacobian(x,event_ndims=1)))"
   ]
  },
  {
   "cell_type": "code",
   "execution_count": 169,
   "metadata": {},
   "outputs": [],
   "source": [
    "def grad(x):\n",
    "    with tf.GradientTape() as tape:\n",
    "        loss_value = loss_fn(x)\n",
    "    return loss_value, tape.gradient(loss_value, bijector.trainable_variables)"
   ]
  },
  {
   "cell_type": "code",
   "execution_count": 170,
   "metadata": {},
   "outputs": [
    {
     "name": "stdout",
     "output_type": "stream",
     "text": [
      "tf.Tensor(2.3752754, shape=(), dtype=float32) [None, None, None, None, None, None]\n"
     ]
    }
   ],
   "source": [
    "optimizer = tf.train.AdamOptimizer(1e-4)\n",
    "global_step = tf.Variable(0)\n",
    "\n",
    "loss_value, grads = grad(samples)\n",
    "\n",
    "print(loss_value, grads)\n"
   ]
  },
  {
   "cell_type": "code",
   "execution_count": null,
   "metadata": {},
   "outputs": [],
   "source": []
  }
 ],
 "metadata": {
  "kernelspec": {
   "display_name": "Python 3",
   "language": "python",
   "name": "python3"
  },
  "language_info": {
   "codemirror_mode": {
    "name": "ipython",
    "version": 3
   },
   "file_extension": ".py",
   "mimetype": "text/x-python",
   "name": "python",
   "nbconvert_exporter": "python",
   "pygments_lexer": "ipython3",
   "version": "3.6.8"
  }
 },
 "nbformat": 4,
 "nbformat_minor": 2
}
