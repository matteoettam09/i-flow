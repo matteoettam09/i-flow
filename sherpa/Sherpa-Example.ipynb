{
 "cells": [
  {
   "cell_type": "markdown",
   "metadata": {},
   "source": [
    "<h1>Introduction to Sherpa</h1>\n",
    "<h3>An MCnet tutorial for HEP summer schools</h3>\n",
    "<h2>Introduction</h2>\n",
    "Sherpa is a complete Monte-Carlo event generator for particle production at lepton-lepton, lepton-hadron,\n",
    "and hadron-hadron colliders [1]. The simulation of higher-order perturbative QCD effects, including NLO\n",
    "corrections to hard processes and resummation as encoded in the parton shower, is emphasized in Sherpa.\n",
    "QED radiation, underlying events, hadronization and hadron decays can also be simulated. Alternatively,\n",
    "Sherpa can be used for pure parton-level NLO QCD calculations with massless or massive partons.\n",
    "Many reactions at the LHC suffer from large higher-order QCD corrections. The correct simulation of\n",
    "Bremsstrahlung in these processes is essential. It can be tackled either in the parton-shower approach, or\n",
    "using fixed-order calculations. Sherpa combines both these methods using a technique known as Matrix\n",
    "Element + Parton Shower merging (ME+PS). Details are described in Ref. [2] and have been discussed in\n",
    "the lectures. This tutorial will show you how to use the method in Sherpa.\n",
    "Sherpa is installed on the virtual machine in /opt/hep, and its documentation is found online [3]. Example\n",
    "setups are located in /opt/hep/share/SHERPA-MC/Examples."
   ]
  },
  {
   "cell_type": "markdown",
   "metadata": {},
   "source": [
    "<h2>The Input File</h2>\n",
    "Sherpa is steered using input files, which consist of several sections. A comprehensive list of all input\n",
    "parameters for Sherpa is given in the <a target=\"new\" href=\"https://sherpa.hepforge.org/doc/SHERPA-MC-2.2.7.html\">Sherpa manual</a>. For the purpose of this tutorial, we will focus on\n",
    "the most relevant ones. Have a look at the input card below. This will typically reside in a file called Run.dat. Observe the section which is delimited by the tags (run){ and }(run). We will call this section the (run) section in\n",
    "the following. You will find the specification of the collider, i.e. its beam type and center-of-mass energy,\n",
    "as well as a couple of other parameters, which will be explained later.\n",
    "The (processes) section specifies, which reactions are going to be simulated. Particles are identified by\n",
    "their PDG codes, i.e. 1 stands for a down-quark, -1 stands for an anti-down, 2 for an up-quark, etc. The\n",
    "special code 93 represents a “container”, which comprises all light quarks, b-quarks, and the gluon. It is also\n",
    "called the “jet” container."
   ]
  },
  {
   "cell_type": "code",
   "execution_count": 1,
   "metadata": {},
   "outputs": [
    {
     "name": "stdout",
     "output_type": "stream",
     "text": [
      "Overwriting Run.dat\n"
     ]
    }
   ],
   "source": [
    "%%writefile Run.dat\n",
    "(run){\n",
    "  EVENTS 0; GENERATE_RESULT_DIRECTORY -1;\n",
    "  BEAM_1 11 45.6; BEAM_2 -11 45.6;\n",
    "  SCALES VAR{Abs2(p[0]+p[1])};\n",
    "}(run);\n",
    "(processes){\n",
    "  Process 11 -11 -> 1 -1 21 21;\n",
    "  Order (*,2);\n",
    "  End process;\n",
    "}(processes);"
   ]
  },
  {
   "cell_type": "code",
   "execution_count": 2,
   "metadata": {},
   "outputs": [],
   "source": [
    "from mpi4py import MPI\n",
    "import sys, os\n",
    "sys.path.append('/home/stefan/hep/sherpa/rel-2-2-7/lib/python2.7/site-packages')\n",
    "argv=['Sherpa','SHERPA_LDADD=ModelMain ToolsOrg ToolsPhys ToolsMath PDF']\n",
    "import Sherpa\n",
    "\n",
    "Generator=Sherpa.Sherpa()\n",
    "Generator.InitializeTheRun(len(argv),argv)\n",
    "Process=Sherpa.MEProcess(Generator)\n",
    "Process.AddInFlav(11);\n",
    "Process.AddInFlav(-11);\n",
    "Process.AddOutFlav(1);\n",
    "Process.AddOutFlav(-1);\n",
    "Process.AddOutFlav(21);\n",
    "Process.AddOutFlav(21);\n",
    "Process.Initialize();"
   ]
  },
  {
   "cell_type": "code",
   "execution_count": 3,
   "metadata": {},
   "outputs": [
    {
     "name": "stdout",
     "output_type": "stream",
     "text": [
      "\n",
      "Squared ME:  0.00160214442921\n"
     ]
    }
   ],
   "source": [
    "Process.SetMomentum(0, 45.6,0.,0.,45.6)\n",
    "Process.SetMomentum(1, 45.6,0.,0.,-45.6)\n",
    "Process.SetMomentum(2, 45.6/2.,0.,45.6,0.)\n",
    "Process.SetMomentum(3, 45.6/2.,0.,-45.6,0.)\n",
    "Process.SetMomentum(4, 45.6/2.,45.6,0.,0.)\n",
    "Process.SetMomentum(5, 45.6/2.,-45.6,0.,0.)\n",
    "print '\\nSquared ME: ', Process.CSMatrixElement()"
   ]
  },
  {
   "cell_type": "code",
   "execution_count": null,
   "metadata": {},
   "outputs": [],
   "source": []
  },
  {
   "cell_type": "code",
   "execution_count": null,
   "metadata": {},
   "outputs": [],
   "source": []
  }
 ],
 "metadata": {
  "kernelspec": {
   "display_name": "Python 2",
   "language": "python",
   "name": "python2"
  },
  "language_info": {
   "codemirror_mode": {
    "name": "ipython",
    "version": 2
   },
   "file_extension": ".py",
   "mimetype": "text/x-python",
   "name": "python",
   "nbconvert_exporter": "python",
   "pygments_lexer": "ipython2",
   "version": "2.7.12"
  }
 },
 "nbformat": 4,
 "nbformat_minor": 2
}
