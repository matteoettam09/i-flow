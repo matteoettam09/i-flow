{
 "cells": [
  {
   "cell_type": "code",
   "execution_count": 2,
   "metadata": {},
   "outputs": [
    {
     "name": "stderr",
     "output_type": "stream",
     "text": [
      "/home/claudius/anaconda2/lib/python2.7/site-packages/h5py/__init__.py:36: FutureWarning: Conversion of the second argument of issubdtype from `float` to `np.floating` is deprecated. In future, it will be treated as `np.float64 == np.dtype(float).type`.\n",
      "  from ._conv import register_converters as _register_converters\n"
     ]
    }
   ],
   "source": [
    "# this is a first test of the Rational Quadratic Spline\n",
    "# see https://arxiv.org/pdf/1906.04032.pdf\n",
    "# code taken from https://github.com/tensorflow/probability/blob/master/tensorflow_probability/python/bijectors/rational_quadratic_spline.py#L314\n",
    "# IMPORTANT: needs nighly-build of tensorflow_probability (pip install tfp-nightly)\n",
    "\n",
    "\n",
    "import numpy as np\n",
    "from tensorflow.keras import layers, models\n",
    "import tensorflow as tf\n",
    "import tensorflow_probability as tfp\n",
    "tfb = tfp.bijectors\n",
    "import matplotlib.pyplot as plt\n",
    "\n",
    "# to do:\n",
    "# plotting the splines of a given slice\n",
    "# test trivial case (slope=1, width= 1/bins, height growing linearly)                                    works\n",
    "# test inverse(forward(x)) = x                                                                           works \n",
    "# test forward_log_det_jacobian(x) = - test.inverse_log_det_jacobian(forward(x))                         works\n",
    "# connect to NN\n",
    "# create chain\n",
    "# test inverse(forward(x))==x again\n",
    "# get it to train in test cases\n",
    "\n",
    "\n",
    "# diff to previous implementation of the piecewise: \n",
    "# rational quadratic spline istead of linear/quadratic function\n",
    "# learn cdf instead of pdf: input values for heights are understood as additions in CDF, not positions in PDF. This might help since we dont have to normalize the pdf to 1 \n",
    "# RQS takes objects of shape [something,nbins] but not [nbatch,ndims,nbins]: If we train one dimension based on D-1 others, this should be fine\n",
    "# bijector is given to realNVP subclass, instead of bijector subclass"
   ]
  },
  {
   "cell_type": "code",
   "execution_count": 67,
   "metadata": {},
   "outputs": [],
   "source": [
    "def def_bin_positions(x):\n",
    "    x = tf.reshape(x, [-1, nbins])\n",
    "    return tf.math.softmax(x, axis=-1) * (2 - nbins * 1e-2) + 1e-2\n",
    "def def_slopes(x):\n",
    "    x = tf.reshape(x, [-1, nbins - 1])\n",
    "    return tf.math.softplus(x) + 1e-2"
   ]
  },
  {
   "cell_type": "code",
   "execution_count": 84,
   "metadata": {},
   "outputs": [],
   "source": [
    "# not really needed, only if we need the pdf (dist.prob should work without it) \n",
    "# or need a plotting routine for visualization\n",
    "class RQS(tfb.RationalQuadraticSpline):\n",
    "      \n",
    "    def pdf(self, x):\n",
    "        \"\"\"Compute the pdf based on the forward derivative (Appendix A.2).\"\"\"\n",
    "        d = self._compute_shared(x=x)\n",
    "        relx = (x - d.x_k) / d.w_k\n",
    "        relx = tf.where(d.out_of_bounds, tf.constant(.5, x.dtype), relx)\n",
    "        ret =(\n",
    "            (d.s_k**2) *\n",
    "            (d.d_kp1 * relx**2 + 2 * d.s_k * relx * (1 - relx) +  # newln\n",
    "                        d.d_k * (1 - relx)**2) /\n",
    "            ((d.d_kp1 + d.d_k - 2 * d.s_k) * relx *\n",
    "                        (1 - relx) + d.s_k)**2)\n",
    "        return tf.where(d.out_of_bounds, tf.ones([], dtype=x.dtype), ret)\n",
    "\n",
    "# work in progress (not done yet)\n",
    "    def plot(self, batch, dim):\n",
    "        pos = (batch*ndims) + dim\n",
    "        num_pts=21\n",
    "        wsum = np.cumsum(self.bin_widths[pos])\n",
    "        x_pts = np.array([])\n",
    "        for i in range(len(wsum)):\n",
    "            if i == 0:\n",
    "                x_temp = np.linspace(0.,wsum[i],num_pts)\n",
    "            else:\n",
    "                x_temp = np.linspace(wsum[i-1],wsum[i],num_pts)\n",
    "            x_pts = np.append(x_pts,x_temp)\n",
    "        "
   ]
  },
  {
   "cell_type": "code",
   "execution_count": 75,
   "metadata": {},
   "outputs": [],
   "source": [
    "# testing random inputs\n",
    "nbins = 10\n",
    "ndims = 3\n",
    "nbatch = 5\n",
    "\n",
    "# output of NN:\n",
    "wdths =10* (np.random.rand(nbatch, ndims * nbins) -0.5)\n",
    "hgths = 10* (np.random.rand(nbatch, ndims * nbins)-0.5)\n",
    "slopes = 10* (np.random.rand(nbatch, ndims * (nbins-1))-0.5)\n",
    "\n",
    "# to be transformed:\n",
    "x = np.random.rand(nbatch*ndims)\n",
    "\n",
    "#wdths = np.cumsum(def_bin_positions(wdths).numpy(),axis=-1)\n",
    "#hgths = np.cumsum(def_bin_positions(hgths).numpy(),axis=-1)\n",
    "\n",
    "wdths = def_bin_positions(wdths).numpy()\n",
    "hgths = def_bin_positions(hgths).numpy()\n",
    "slopes = def_slopes(slopes).numpy()"
   ]
  },
  {
   "cell_type": "code",
   "execution_count": 59,
   "metadata": {},
   "outputs": [],
   "source": [
    "# testing the trivial input (PDF = const.), so spline gives identity\n",
    "nbins = 10\n",
    "ndims = 3\n",
    "nbatch = 5\n",
    "wdths = 2./nbins * np.ones((nbatch,ndims,nbins))\n",
    "hgths = 2./nbins * np.ones((nbatch,ndims,nbins))\n",
    "slopes = np.ones((nbatch,ndims,nbins-1))\n",
    "x = np.random.rand(nbatch,ndims)"
   ]
  },
  {
   "cell_type": "code",
   "execution_count": 76,
   "metadata": {},
   "outputs": [
    {
     "name": "stdout",
     "output_type": "stream",
     "text": [
      "[[0.01062701 0.44698609 0.88807352 0.31895391 0.01262714 0.09540951\n",
      "  0.01553157 0.01038709 0.10523334 0.09617082]\n",
      " [0.10737736 0.13707638 0.08294339 0.01154945 0.01500154 0.032172\n",
      "  0.01093411 0.01365167 0.88501771 0.70427638]\n",
      " [0.04514664 0.01092627 0.01068276 0.01008854 0.61524203 0.0100493\n",
      "  0.50411169 0.77071532 0.01172272 0.01131472]\n",
      " [0.07803577 0.89690438 0.05633405 0.01774789 0.10382021 0.30957109\n",
      "  0.01119823 0.01149968 0.50115106 0.01373764]\n",
      " [0.69285221 0.03506699 0.01025391 0.03731003 0.6410812  0.01021585\n",
      "  0.0112968  0.10328866 0.34635089 0.11228345]\n",
      " [0.01207218 0.01559577 1.61096655 0.04576444 0.02198236 0.01147645\n",
      "  0.01480174 0.02082295 0.06493018 0.18158738]\n",
      " [0.02860643 0.78969818 0.16203459 0.86425763 0.01015273 0.01202997\n",
      "  0.02598383 0.0366721  0.05743783 0.01312672]\n",
      " [0.14120922 1.00626352 0.03326484 0.01035465 0.28526682 0.01059831\n",
      "  0.10052557 0.39078352 0.01141013 0.01032342]\n",
      " [0.06990034 0.01052934 0.01220096 0.25181935 0.01035256 0.24334946\n",
      "  0.01085924 0.45826065 0.58903834 0.34368976]\n",
      " [0.0104045  0.20085401 0.02356365 0.04138997 0.24982339 0.60548851\n",
      "  0.59758096 0.24587849 0.0148691  0.01014743]\n",
      " [0.01121913 0.03499411 0.01104891 0.04369755 0.95302028 0.01029903\n",
      "  0.36055773 0.55320097 0.01033351 0.01162878]\n",
      " [0.12338252 0.01199152 0.02036715 0.70545607 0.97553631 0.01019577\n",
      "  0.08728111 0.01059468 0.01031017 0.0448847 ]\n",
      " [0.0576343  1.36283123 0.05159805 0.01141301 0.01340708 0.02540663\n",
      "  0.01112156 0.17536861 0.21370173 0.07751779]\n",
      " [0.12403964 0.01214627 0.3102588  1.43507638 0.04874329 0.01260341\n",
      "  0.01888083 0.01158829 0.01464578 0.01201731]\n",
      " [0.01333427 0.43558998 0.0112124  0.01232188 0.0106088  0.4363931\n",
      "  0.01144342 0.01031145 1.04851274 0.01027196]]\n",
      "* * *\n",
      "[[0.01923628 0.06372206 0.14532209 0.02684363 0.72046823 0.84244664\n",
      "  0.01044749 0.01183988 0.14126613 0.01840757]\n",
      " [0.01119656 0.07583148 0.01146991 0.48503995 0.02017807 1.35200813\n",
      "  0.01064647 0.01097565 0.01246298 0.01019077]\n",
      " [0.0260519  0.10098313 0.01672812 0.01711909 0.64505821 0.01826331\n",
      "  0.7380381  0.01321555 0.03442427 0.39011832]\n",
      " [0.01140401 0.01576996 0.2468078  0.01871339 0.1884882  0.22434416\n",
      "  0.29000073 0.01681833 0.86595637 0.12169705]\n",
      " [0.05103448 0.01018405 0.20186926 0.01032519 0.52347746 0.02188586\n",
      "  0.5119784  0.6092559  0.03219937 0.02779002]\n",
      " [0.02692897 0.01050226 0.01044887 0.01010551 0.74784604 0.01090336\n",
      "  0.70712147 0.10168258 0.25795614 0.1165048 ]\n",
      " [0.04240353 0.01700514 0.18058888 0.01354221 1.43318715 0.10011099\n",
      "  0.08864679 0.06642846 0.01792441 0.04016243]\n",
      " [0.49200134 0.72252083 0.02671625 0.01536847 0.65328602 0.010164\n",
      "  0.01115827 0.0112636  0.01133221 0.046189  ]\n",
      " [0.03754805 0.0102565  0.01223866 0.02361795 1.79231151 0.03044724\n",
      "  0.01058167 0.05936584 0.01337028 0.01026229]\n",
      " [0.01085052 0.01039803 0.05756516 0.01096356 0.01820541 0.01376858\n",
      "  1.08964064 0.07785174 0.01851522 0.69224115]\n",
      " [0.01218087 0.04492021 0.2614645  0.11089717 0.03840765 1.4730395\n",
      "  0.02221792 0.01397205 0.01183233 0.01106781]\n",
      " [0.01429129 0.03204897 0.11744749 0.05694434 0.04248685 0.01011449\n",
      "  0.01528485 0.06985916 0.02049293 1.62102964]\n",
      " [0.57334332 0.04032438 0.02545927 0.01286165 0.01294061 0.01013679\n",
      "  0.01055668 0.01018854 0.43031229 0.87387646]\n",
      " [0.43232072 0.01452408 0.07576187 0.01506317 0.01039148 0.01192375\n",
      "  0.18673476 0.01249235 1.22544171 0.0153461 ]\n",
      " [0.03736646 0.01008415 0.59729838 0.3406763  0.76544831 0.01020304\n",
      "  0.01007814 0.20855396 0.01008408 0.01020719]]\n",
      "* * *\n",
      "[[0.11926929 0.09586718 2.9923554  2.55414592 1.05851767 1.16591008\n",
      "  1.95031254 0.10759329 0.01970922]\n",
      " [0.19485106 1.47546841 0.0253256  1.78137053 3.73515166 0.47227443\n",
      "  1.11864498 0.03978432 2.44934049]\n",
      " [4.09412367 2.69589973 0.89311016 0.0655099  0.01964099 0.86292602\n",
      "  1.80073087 2.96795406 4.85704288]\n",
      " [0.8752893  0.04077725 0.04470918 0.08230988 4.17276458 3.26097767\n",
      "  0.44701158 4.59269699 2.12673137]\n",
      " [3.87767103 0.88016612 0.9499827  0.61265793 3.06636592 0.89208132\n",
      "  0.1205314  0.06541051 3.07552414]\n",
      " [0.02010152 1.41054801 4.17677903 3.02303181 0.25095378 0.01815026\n",
      "  0.28467279 0.04030539 2.29402354]\n",
      " [0.09671949 2.07349684 0.5873829  4.90234679 4.3363324  1.51986504\n",
      "  1.76500523 4.38553576 2.84891595]\n",
      " [1.29102395 0.02387904 0.98829419 3.87942153 0.6436718  3.17322259\n",
      "  0.09979597 2.46797938 0.01957879]\n",
      " [0.0171566  2.41716437 1.78102117 3.38812783 0.32543218 0.35006578\n",
      "  0.05839532 3.99701017 3.65971693]\n",
      " [2.40051895 0.18640662 0.0308441  0.22198785 0.08956106 2.99298734\n",
      "  1.84085925 0.27492927 0.03256462]\n",
      " [4.11694374 0.33015711 0.02740068 0.04004629 0.06298285 4.56998098\n",
      "  4.40607806 0.72155389 0.10360848]\n",
      " [0.12870992 0.13593387 0.16612287 0.01879883 1.3556216  0.07579218\n",
      "  0.01915538 0.41127667 0.47512781]\n",
      " [1.07129985 3.69512929 0.02130722 0.1452884  3.12116889 4.74950896\n",
      "  0.11228952 3.99028658 0.03080876]\n",
      " [0.01876511 0.64331031 0.94147349 0.07277591 0.6243104  0.48094529\n",
      "  0.21024985 4.8743583  0.02124627]\n",
      " [0.01871455 0.01680661 4.82464974 4.772683   4.61622402 0.01699669\n",
      "  0.02904169 0.03550457 4.71759146]]\n"
     ]
    }
   ],
   "source": [
    "print(wdths)\n",
    "print(\"* * *\")\n",
    "print(hgths)\n",
    "print(\"* * *\")\n",
    "print(slopes)"
   ]
  },
  {
   "cell_type": "code",
   "execution_count": 85,
   "metadata": {},
   "outputs": [],
   "source": [
    "# range_min defines start of integration region. End is given by range_min + Sum (widths)\n",
    "# default is -1 to 1\n",
    "test=RQS(wdths,hgths,slopes,range_min=0.)"
   ]
  },
  {
   "cell_type": "code",
   "execution_count": 86,
   "metadata": {},
   "outputs": [
    {
     "name": "stdout",
     "output_type": "stream",
     "text": [
      "True\n",
      "True\n",
      "True\n"
     ]
    }
   ],
   "source": [
    "#print(x)\n",
    "#print(test.forward(x))\n",
    "#print(test.inverse(test.forward(x)))\n",
    "print(np.allclose(x,test.inverse(test.forward(x)).numpy()))\n",
    "print(np.allclose(test.forward_log_det_jacobian(x,event_ndims=0), - test.inverse_log_det_jacobian(test.forward(x),event_ndims=0)))\n",
    "print(np.allclose(tf.math.log(test.pdf(x)),test.forward_log_det_jacobian(x,event_ndims=0).numpy()))"
   ]
  },
  {
   "cell_type": "code",
   "execution_count": 87,
   "metadata": {},
   "outputs": [],
   "source": []
  },
  {
   "cell_type": "code",
   "execution_count": null,
   "metadata": {},
   "outputs": [],
   "source": []
  },
  {
   "cell_type": "code",
   "execution_count": null,
   "metadata": {},
   "outputs": [],
   "source": [
    "### Taken from github docstring:"
   ]
  },
  {
   "cell_type": "code",
   "execution_count": 94,
   "metadata": {},
   "outputs": [],
   "source": [
    "nsplits = 3\n",
    "class SplineParams(tf.Module):\n",
    "    def __init__(self, nbins=32):\n",
    "        self._nbins = nbins\n",
    "        self._built = False\n",
    "        self._bin_widths = None\n",
    "        self._bin_heights = None\n",
    "        self._knot_slopes = None\n",
    "    def _bin_positions(self, x):\n",
    "        x = tf.reshape(x, [-1, self._nbins])\n",
    "        return tf.math.softmax(x, axis=-1) * (2 - self._nbins * 1e-2) + 1e-2\n",
    "    def _slopes(self, x):\n",
    "        x = tf.reshape(x, [-1, self._nbins - 1])\n",
    "        return tf.math.softplus(x) + 1e-2\n",
    "    def __call__(self, x, nunits):\n",
    "        if not self._built:\n",
    "            self._bin_widths = tf.keras.layers.Dense(\n",
    "            nunits * self._nbins, activation=self._bin_positions, name='w')\n",
    "            self._bin_heights = tf.keras.layers.Dense(\n",
    "            nunits * self._nbins, activation=self._bin_positions, name='h')\n",
    "            self._knot_slopes = tf.keras.layers.Dense(\n",
    "            nunits * (self._nbins - 1), activation=self._slopes, name='s')\n",
    "            self._built = True\n",
    "        return tfb.RationalQuadraticSpline(\n",
    "              bin_widths=self._bin_widths(x),\n",
    "              bin_heights=self._bin_heights(x),\n",
    "              knot_slopes=self._knot_slopes(x))\n",
    "  \n",
    "xs = np.random.rand(1, 15).astype(np.float32)  # Keras won't Dense(.)(vec).\n",
    "splines = [SplineParams() for _ in range(nsplits)]\n",
    "def spline_flow():\n",
    "    stack = tfb.Identity()\n",
    "    for i in range(nsplits):\n",
    "        stack = tfb.RealNVP(5 * i, bijector_fn=splines[i])(stack)\n",
    "    return stack\n",
    "ys = spline_flow().forward(xs)\n",
    "ys_inv = spline_flow().inverse(ys)  # ys_inv ~= xs"
   ]
  },
  {
   "cell_type": "code",
   "execution_count": 95,
   "metadata": {},
   "outputs": [
    {
     "data": {
      "text/plain": [
       "array([[0.31561786, 0.02783527, 0.29327342, 0.17290546, 0.9759356 ,\n",
       "        0.64925086, 0.02561379, 0.7627006 , 0.4975027 , 0.26890928,\n",
       "        0.22438319, 0.565388  , 0.7774883 , 0.42874184, 0.7555837 ]],\n",
       "      dtype=float32)"
      ]
     },
     "execution_count": 95,
     "metadata": {},
     "output_type": "execute_result"
    }
   ],
   "source": [
    "xs"
   ]
  },
  {
   "cell_type": "code",
   "execution_count": 96,
   "metadata": {},
   "outputs": [
    {
     "data": {
      "text/plain": [
       "<tf.Tensor: id=65542, shape=(1, 15), dtype=float32, numpy=\n",
       "array([[0.3148033 , 0.02724843, 0.29501393, 0.17488578, 0.9741162 ,\n",
       "        0.6441201 , 0.04591431, 0.7533772 , 0.5150754 , 0.28693557,\n",
       "        0.1879066 , 0.535685  , 0.7786635 , 0.42972386, 0.7815804 ]],\n",
       "      dtype=float32)>"
      ]
     },
     "execution_count": 96,
     "metadata": {},
     "output_type": "execute_result"
    }
   ],
   "source": [
    "ys"
   ]
  },
  {
   "cell_type": "code",
   "execution_count": 97,
   "metadata": {},
   "outputs": [
    {
     "data": {
      "text/plain": [
       "<tf.Tensor: id=67804, shape=(1, 15), dtype=float32, numpy=\n",
       "array([[0.31561786, 0.02783527, 0.29327342, 0.17290546, 0.9759356 ,\n",
       "        0.64925086, 0.02561379, 0.7627006 , 0.49750274, 0.26890928,\n",
       "        0.2243832 , 0.56538796, 0.7774883 , 0.42874187, 0.7555837 ]],\n",
       "      dtype=float32)>"
      ]
     },
     "execution_count": 97,
     "metadata": {},
     "output_type": "execute_result"
    }
   ],
   "source": [
    "ys_inv"
   ]
  },
  {
   "cell_type": "code",
   "execution_count": null,
   "metadata": {},
   "outputs": [],
   "source": []
  }
 ],
 "metadata": {
  "kernelspec": {
   "display_name": "Python 2",
   "language": "python",
   "name": "python2"
  },
  "language_info": {
   "codemirror_mode": {
    "name": "ipython",
    "version": 2
   },
   "file_extension": ".py",
   "mimetype": "text/x-python",
   "name": "python",
   "nbconvert_exporter": "python",
   "pygments_lexer": "ipython2",
   "version": "2.7.14"
  }
 },
 "nbformat": 4,
 "nbformat_minor": 2
}
