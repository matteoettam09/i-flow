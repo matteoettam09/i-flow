{
 "cells": [
  {
   "cell_type": "markdown",
   "metadata": {},
   "source": [
    "# Testing how to implement Piecewise Layers"
   ]
  },
  {
   "cell_type": "markdown",
   "metadata": {},
   "source": [
    "## TODO:\n",
    "1. Figure out how to do batching with this code\n",
    "2. Ensure this is the most efficient\n",
    "3. Polish up the mess"
   ]
  },
  {
   "cell_type": "code",
   "execution_count": 1,
   "metadata": {},
   "outputs": [],
   "source": [
    "import numpy as np\n",
    "import tensorflow as tf"
   ]
  },
  {
   "cell_type": "code",
   "execution_count": 2,
   "metadata": {},
   "outputs": [],
   "source": [
    "# Use eager execution to make debugging easier (causes tensorflow to evaluate functions immediately)\n",
    "tf.enable_eager_execution()"
   ]
  },
  {
   "cell_type": "markdown",
   "metadata": {},
   "source": [
    "## Piecewise Linear"
   ]
  },
  {
   "cell_type": "code",
   "execution_count": 3,
   "metadata": {},
   "outputs": [
    {
     "data": {
      "text/plain": [
       "array([[0.     , 0.03125, 0.0625 , 0.09375, 0.125  , 0.15625, 0.1875 ,\n",
       "        0.21875, 0.25   , 0.28125, 0.3125 , 0.34375, 0.375  , 0.40625,\n",
       "        0.4375 , 0.46875, 0.5    , 0.53125, 0.5625 , 0.59375, 0.625  ,\n",
       "        0.65625, 0.6875 , 0.71875, 0.75   , 0.78125, 0.8125 , 0.84375,\n",
       "        0.875  , 0.90625, 0.9375 , 0.96875, 1.     ],\n",
       "       [0.     , 0.03125, 0.0625 , 0.09375, 0.125  , 0.15625, 0.1875 ,\n",
       "        0.21875, 0.25   , 0.28125, 0.3125 , 0.34375, 0.375  , 0.40625,\n",
       "        0.4375 , 0.46875, 0.5    , 0.53125, 0.5625 , 0.59375, 0.625  ,\n",
       "        0.65625, 0.6875 , 0.71875, 0.75   , 0.78125, 0.8125 , 0.84375,\n",
       "        0.875  , 0.90625, 0.9375 , 0.96875, 1.     ],\n",
       "       [0.     , 0.03125, 0.0625 , 0.09375, 0.125  , 0.15625, 0.1875 ,\n",
       "        0.21875, 0.25   , 0.28125, 0.3125 , 0.34375, 0.375  , 0.40625,\n",
       "        0.4375 , 0.46875, 0.5    , 0.53125, 0.5625 , 0.59375, 0.625  ,\n",
       "        0.65625, 0.6875 , 0.71875, 0.75   , 0.78125, 0.8125 , 0.84375,\n",
       "        0.875  , 0.90625, 0.9375 , 0.96875, 1.     ]])"
      ]
     },
     "execution_count": 3,
     "metadata": {},
     "output_type": "execute_result"
    }
   ],
   "source": [
    "# Create bin array with nbins, each with a width of 1.0/nbins. \n",
    "# Note: the bins array contains the bin edges including 0, which makes finding alpha easier later on\n",
    "nbins = 32\n",
    "width = 1.0/nbins\n",
    "bins = np.array([[x*width for x in range(nbins+1)] for i in range(3)])\n",
    "\n",
    "# Print bins for testing purposes\n",
    "bins"
   ]
  },
  {
   "cell_type": "code",
   "execution_count": 4,
   "metadata": {},
   "outputs": [
    {
     "data": {
      "text/plain": [
       "array([[0.        , 0.0478476 , 0.05587782, 0.01583139, 0.01568572,\n",
       "        0.02375241, 0.06753198, 0.01031194, 0.01673977, 0.0170834 ,\n",
       "        0.00764915, 0.04362138, 0.07064042, 0.00438733, 0.04242122,\n",
       "        0.01226465, 0.00863941, 0.04076193, 0.01310798, 0.03401279,\n",
       "        0.05850288, 0.00245296, 0.02893618, 0.0446203 , 0.02408887,\n",
       "        0.05106999, 0.01242378, 0.04034815, 0.05196614, 0.04011281,\n",
       "        0.03079363, 0.02469377, 0.04182225],\n",
       "       [0.        , 0.00669279, 0.02120551, 0.02494908, 0.0155497 ,\n",
       "        0.04635294, 0.00928684, 0.01846544, 0.01550253, 0.00110668,\n",
       "        0.03756745, 0.0496762 , 0.04298007, 0.00399215, 0.0157639 ,\n",
       "        0.02645966, 0.01929507, 0.05857586, 0.04750707, 0.06165386,\n",
       "        0.0608555 , 0.01399955, 0.04765035, 0.00156031, 0.05324194,\n",
       "        0.05877753, 0.02187782, 0.02073061, 0.05640611, 0.03095775,\n",
       "        0.0407378 , 0.03265758, 0.03796437],\n",
       "       [0.        , 0.03279353, 0.03303719, 0.04569255, 0.03213382,\n",
       "        0.04669561, 0.03302014, 0.04894449, 0.02073168, 0.01033368,\n",
       "        0.01825079, 0.0225877 , 0.03008182, 0.06816933, 0.01909505,\n",
       "        0.0483366 , 0.01041599, 0.00870251, 0.06870071, 0.00032921,\n",
       "        0.07206453, 0.02085371, 0.00063375, 0.02061212, 0.0236958 ,\n",
       "        0.01623335, 0.02628993, 0.04130021, 0.07001867, 0.06536314,\n",
       "        0.02971146, 0.01119458, 0.00397633]])"
      ]
     },
     "execution_count": 4,
     "metadata": {},
     "output_type": "execute_result"
    }
   ],
   "source": [
    "# randomly assign unnormalized values to piecewise PDF, here we will be using a total of 6 dimensions (|B|=3)\n",
    "Q = np.random.rand(3,nbins)\n",
    "\n",
    "# normalize the piecewise PDF such that the integral is 1\n",
    "total = np.sum(Q,axis=1)\n",
    "Q[0]=Q[0]/total[0]\n",
    "Q[1]=Q[1]/total[1]\n",
    "Q[2]=Q[2]/total[2]\n",
    "\n",
    "# Insert a 0 to the beginning to match the size to the bin array\n",
    "Q = np.insert(Q,0,0,axis=1)\n",
    "\n",
    "# Print out values of Q for testing purposes\n",
    "Q"
   ]
  },
  {
   "cell_type": "code",
   "execution_count": 5,
   "metadata": {},
   "outputs": [
    {
     "data": {
      "text/plain": [
       "array([[0.13004505, 0.56898751, 0.14241574]])"
      ]
     },
     "execution_count": 5,
     "metadata": {},
     "output_type": "execute_result"
    }
   ],
   "source": [
    "# Generate a single phase space point in xB\n",
    "xB = np.random.rand(1,3)\n",
    "\n",
    "# Print out xB for testing purposes\n",
    "xB"
   ]
  },
  {
   "cell_type": "code",
   "execution_count": 21,
   "metadata": {},
   "outputs": [
    {
     "data": {
      "text/plain": [
       "array([[ 5, 19,  5]], dtype=int32)"
      ]
     },
     "execution_count": 21,
     "metadata": {},
     "output_type": "execute_result"
    }
   ],
   "source": [
    "# searchsorted finds the location that each xB should be inserted into bins in order to keep the bins array sorted\n",
    "# The transpose is needed to make sure that each point is compared to the right dimension\n",
    "b=tf.searchsorted(bins,tf.transpose(xB),side='right')\n",
    "\n",
    "# The result returns a transpose of a bin location array, take the transpose and print for testing\n",
    "tf.transpose(b).numpy()"
   ]
  },
  {
   "cell_type": "code",
   "execution_count": 7,
   "metadata": {},
   "outputs": [
    {
     "data": {
      "text/plain": [
       "array([[0.02375241, 0.03401279, 0.02375241],\n",
       "       [0.04635294, 0.06165386, 0.04635294],\n",
       "       [0.04669561, 0.00032921, 0.04669561]])"
      ]
     },
     "execution_count": 7,
     "metadata": {},
     "output_type": "execute_result"
    }
   ],
   "source": [
    "# Test to ensure that the correct Q values are pulled out from the arrays\n",
    "# Note: that each dimension pulls out each bin, there may be a way around this, \n",
    "#       but the desired result is on the diagonal\n",
    "Q[:,b[:,0]]"
   ]
  },
  {
   "cell_type": "code",
   "execution_count": 20,
   "metadata": {
    "scrolled": true
   },
   "outputs": [
    {
     "data": {
      "text/plain": [
       "6.838235442790042e-05"
      ]
     },
     "execution_count": 20,
     "metadata": {},
     "output_type": "execute_result"
    }
   ],
   "source": [
    "# This calculates the PDF for the Piecewise Linear layer, \n",
    "# it takes the result from above and takes the product of the diagonal.\n",
    "# Again there may be a better way to do this\n",
    "tf.reduce_prod(tf.diag_part(Q[:,b[:,0]])).numpy()"
   ]
  },
  {
   "cell_type": "code",
   "execution_count": 14,
   "metadata": {},
   "outputs": [
    {
     "data": {
      "text/plain": [
       "array([[0.16144171, 0.20760045, 0.55730355]])"
      ]
     },
     "execution_count": 14,
     "metadata": {},
     "output_type": "execute_result"
    }
   ],
   "source": [
    "# Calculate the alpha value in each dimension. \n",
    "# Note: the -1 in the bins term, this is to use the left edge of the bin instead of the right edge\n",
    "alpha = (xB-tf.diag_part(bins[:,b[:,0]-1]))/width\n",
    "\n",
    "# Print out the values of alpha for testing\n",
    "alpha.numpy()"
   ]
  },
  {
   "cell_type": "code",
   "execution_count": 15,
   "metadata": {},
   "outputs": [
    {
     "data": {
      "text/plain": [
       "array([0.00383463, 0.01279937, 0.02602363])"
      ]
     },
     "execution_count": 15,
     "metadata": {},
     "output_type": "execute_result"
    }
   ],
   "source": [
    "# Calculates the first part of the coupling layer term (\\alpha Q_{ib}) in each dimension\n",
    "tf.diag_part(alpha*Q[:,b[:,0]]).numpy()"
   ]
  },
  {
   "cell_type": "code",
   "execution_count": 16,
   "metadata": {},
   "outputs": [
    {
     "data": {
      "text/plain": [
       "array([0.15899494, 0.52258279, 0.19035271])"
      ]
     },
     "execution_count": 16,
     "metadata": {},
     "output_type": "execute_result"
    }
   ],
   "source": [
    "# Calculates the second part of the coupling layer term (sum_{k=1}^{b-1} Q_{ik}) in each dimension\n",
    "# There may be a more efficient way of doing this.\n",
    "tf.diag_part(np.cumsum(Q,axis=1)[:,b[:,0]]).numpy()"
   ]
  },
  {
   "cell_type": "code",
   "execution_count": 19,
   "metadata": {},
   "outputs": [
    {
     "data": {
      "text/plain": [
       "array([0.16282957, 0.53538216, 0.21637634])"
      ]
     },
     "execution_count": 19,
     "metadata": {},
     "output_type": "execute_result"
    }
   ],
   "source": [
    "# Calculates the full coupling layer terms\n",
    "(tf.diag_part(alpha*Q[:,b[:,0]])+tf.diag_part(np.cumsum(Q,axis=1)[:,b[:,0]])).numpy()"
   ]
  }
 ],
 "metadata": {
  "kernelspec": {
   "display_name": "Python 3",
   "language": "python",
   "name": "python3"
  },
  "language_info": {
   "codemirror_mode": {
    "name": "ipython",
    "version": 3
   },
   "file_extension": ".py",
   "mimetype": "text/x-python",
   "name": "python",
   "nbconvert_exporter": "python",
   "pygments_lexer": "ipython3",
   "version": "3.6.8"
  }
 },
 "nbformat": 4,
 "nbformat_minor": 2
}
