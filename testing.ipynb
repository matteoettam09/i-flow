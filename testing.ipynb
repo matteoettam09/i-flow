{
 "cells": [
  {
   "cell_type": "markdown",
   "metadata": {},
   "source": [
    "# Testing how to implement Piecewise Layers"
   ]
  },
  {
   "cell_type": "markdown",
   "metadata": {},
   "source": [
    "## TODO:\n",
    "1. Figure out how to do batching with this code\n",
    "2. Ensure this is the most efficient\n",
    "3. Polish up the mess"
   ]
  },
  {
   "cell_type": "code",
   "execution_count": 1,
   "metadata": {},
   "outputs": [
    {
     "name": "stdout",
     "output_type": "stream",
     "text": [
      "Populating the interactive namespace from numpy and matplotlib\n"
     ]
    }
   ],
   "source": [
    "%pylab inline\n",
    "import numpy as np\n",
    "import tensorflow as tf"
   ]
  },
  {
   "cell_type": "code",
   "execution_count": 2,
   "metadata": {},
   "outputs": [],
   "source": [
    "# Use eager execution to make debugging easier (causes tensorflow to evaluate functions immediately)\n",
    "tf.enable_eager_execution()"
   ]
  },
  {
   "cell_type": "code",
   "execution_count": 50,
   "metadata": {},
   "outputs": [],
   "source": [
    "def one_hot_matrix(b,K):\n",
    "    return tf.one_hot(tf.squeeze(b),K,axis=1)"
   ]
  },
  {
   "cell_type": "markdown",
   "metadata": {},
   "source": [
    "## Piecewise Linear"
   ]
  },
  {
   "cell_type": "code",
   "execution_count": 3,
   "metadata": {},
   "outputs": [
    {
     "data": {
      "text/plain": [
       "array([[0. , 0.2, 0.4, 0.6, 0.8, 1. ],\n",
       "       [0. , 0.2, 0.4, 0.6, 0.8, 1. ],\n",
       "       [0. , 0.2, 0.4, 0.6, 0.8, 1. ]])"
      ]
     },
     "execution_count": 3,
     "metadata": {},
     "output_type": "execute_result"
    }
   ],
   "source": [
    "# Create bin array with nbins, each with a width of 1.0/nbins. \n",
    "# Note: the bins array contains the bin edges including 0, which makes finding alpha easier later on\n",
    "nbins = 5\n",
    "width = 1.0/nbins\n",
    "bins = np.array([[x*width for x in range(nbins+1)] for i in range(3)])\n",
    "\n",
    "# Print bins for testing purposes\n",
    "bins"
   ]
  },
  {
   "cell_type": "code",
   "execution_count": 13,
   "metadata": {},
   "outputs": [
    {
     "data": {
      "text/plain": [
       "array([[0.        , 0.21680817, 0.17064866, 0.26105784, 0.10922443,\n",
       "        0.2422609 ],\n",
       "       [0.        , 0.16621744, 0.20854217, 0.31735254, 0.14103344,\n",
       "        0.16685442],\n",
       "       [0.        , 0.21278925, 0.18665439, 0.20712098, 0.13012552,\n",
       "        0.26330986]])"
      ]
     },
     "execution_count": 13,
     "metadata": {},
     "output_type": "execute_result"
    }
   ],
   "source": [
    "# randomly assign unnormalized values to piecewise PDF, here we will be using a total of 6 dimensions (|B|=3)\n",
    "Q = np.random.rand(3,nbins)\n",
    "\n",
    "# normalize the piecewise PDF such that the integral is 1\n",
    "Q = tf.nn.softmax(Q)\n",
    "\n",
    "# Insert a 0 to the beginning to match the size to the bin array\n",
    "Q = np.insert(Q,0,0,axis=1)\n",
    "\n",
    "# Print out values of Q for testing purposes\n",
    "Q"
   ]
  },
  {
   "cell_type": "code",
   "execution_count": 12,
   "metadata": {},
   "outputs": [
    {
     "data": {
      "text/plain": [
       "array([0.28888006, 0.66944252, 0.31280239])"
      ]
     },
     "execution_count": 12,
     "metadata": {},
     "output_type": "execute_result"
    }
   ],
   "source": [
    "Q[np.arange(len(Q)),[2,3,1]]\n",
    "np.cumsum(Q,axis=1)[np.arange(len(Q)),[2,3,1]]"
   ]
  },
  {
   "cell_type": "code",
   "execution_count": 106,
   "metadata": {},
   "outputs": [
    {
     "data": {
      "text/plain": [
       "array([[0.47401404, 0.83638037, 0.32838019]])"
      ]
     },
     "execution_count": 106,
     "metadata": {},
     "output_type": "execute_result"
    }
   ],
   "source": [
    "# Generate a single phase space point in xB\n",
    "xB = np.random.rand(1,3)\n",
    "\n",
    "# Print out xB for testing purposes\n",
    "xB"
   ]
  },
  {
   "cell_type": "code",
   "execution_count": 77,
   "metadata": {},
   "outputs": [
    {
     "data": {
      "text/plain": [
       "array([[32, 29, 10]], dtype=int32)"
      ]
     },
     "execution_count": 77,
     "metadata": {},
     "output_type": "execute_result"
    }
   ],
   "source": [
    "# searchsorted finds the location that each xB should be inserted into bins in order to keep the bins array sorted\n",
    "# The transpose is needed to make sure that each point is compared to the right dimension\n",
    "b=tf.searchsorted(bins,tf.transpose(xB),side='right')\n",
    "\n",
    "# The result returns a transpose of a bin location array, take the transpose and print for testing\n",
    "tf.transpose(b).numpy()"
   ]
  },
  {
   "cell_type": "code",
   "execution_count": 78,
   "metadata": {},
   "outputs": [
    {
     "data": {
      "text/plain": [
       "<tf.Tensor: id=4185686, shape=(), dtype=float32, numpy=3.9705589e-07>"
      ]
     },
     "execution_count": 78,
     "metadata": {},
     "output_type": "execute_result"
    }
   ],
   "source": [
    "# Test to ensure that the correct Q values are pulled out from the arrays\n",
    "# Note: that each dimension pulls out each bin, there may be a way around this, \n",
    "#       but the desired result is on the diagonal\n",
    "mask = one_hot_matrix(b,len(bins[0]))\n",
    "tf.reduce_prod((Q*mask).numpy().ravel()[np.flatnonzero(Q*mask)])"
   ]
  },
  {
   "cell_type": "code",
   "execution_count": 79,
   "metadata": {},
   "outputs": [
    {
     "data": {
      "text/plain": [
       "<tf.Tensor: id=4185673, shape=(3, 33), dtype=float32, numpy=\n",
       "array([[0., 0., 0., 0., 0., 0., 0., 0., 0., 0., 0., 0., 0., 0., 0., 0.,\n",
       "        0., 0., 0., 0., 0., 0., 0., 0., 0., 0., 0., 0., 0., 0., 0., 0.,\n",
       "        1.],\n",
       "       [0., 0., 0., 0., 0., 0., 0., 0., 0., 0., 0., 0., 0., 0., 0., 0.,\n",
       "        0., 0., 0., 0., 0., 0., 0., 0., 0., 0., 0., 0., 0., 1., 0., 0.,\n",
       "        0.],\n",
       "       [0., 0., 0., 0., 0., 0., 0., 0., 0., 0., 1., 0., 0., 0., 0., 0.,\n",
       "        0., 0., 0., 0., 0., 0., 0., 0., 0., 0., 0., 0., 0., 0., 0., 0.,\n",
       "        0.]], dtype=float32)>"
      ]
     },
     "execution_count": 79,
     "metadata": {},
     "output_type": "execute_result"
    }
   ],
   "source": [
    "mask"
   ]
  },
  {
   "cell_type": "code",
   "execution_count": 80,
   "metadata": {
    "scrolled": true
   },
   "outputs": [
    {
     "data": {
      "text/plain": [
       "3.9705586096344466e-07"
      ]
     },
     "execution_count": 80,
     "metadata": {},
     "output_type": "execute_result"
    }
   ],
   "source": [
    "# This calculates the PDF for the Piecewise Linear layer, \n",
    "# it takes the result from above and takes the product of the diagonal.\n",
    "# Again there may be a better way to do this\n",
    "tf.reduce_prod(tf.diag_part(Q[:,b[:,0]])).numpy()"
   ]
  },
  {
   "cell_type": "code",
   "execution_count": 81,
   "metadata": {},
   "outputs": [
    {
     "data": {
      "text/plain": [
       "array([[0.08688591, 0.72081828, 0.80491096]])"
      ]
     },
     "execution_count": 81,
     "metadata": {},
     "output_type": "execute_result"
    }
   ],
   "source": [
    "# Calculate the alpha value in each dimension. \n",
    "# Note: the -1 in the bins term, this is to use the left edge of the bin instead of the right edge\n",
    "alpha = (xB-tf.diag_part(bins[:,b[:,0]-1]))/width\n",
    "\n",
    "# Print out the values of alpha for testing\n",
    "alpha.numpy()"
   ]
  },
  {
   "cell_type": "code",
   "execution_count": 91,
   "metadata": {},
   "outputs": [
    {
     "data": {
      "text/plain": [
       "array([0.00027781, 0.00165528, 0.04352697])"
      ]
     },
     "execution_count": 91,
     "metadata": {},
     "output_type": "execute_result"
    }
   ],
   "source": [
    "# Calculates the first part of the coupling layer term (\\alpha Q_{ib}) in each dimension\n",
    "tf.diag_part(alpha*Q[:,b[:,0]]).numpy()"
   ]
  },
  {
   "cell_type": "code",
   "execution_count": 89,
   "metadata": {},
   "outputs": [
    {
     "data": {
      "text/plain": [
       "array([0.9968026 , 0.82434687, 0.30808669])"
      ]
     },
     "execution_count": 89,
     "metadata": {},
     "output_type": "execute_result"
    }
   ],
   "source": [
    "# Calculates the second part of the coupling layer term (sum_{k=1}^{b-1} Q_{ik}) in each dimension\n",
    "# There may be a more efficient way of doing this.\n",
    "tf.diag_part(np.cumsum(Q,axis=1)[:,b[:,0]-1]).numpy()"
   ]
  },
  {
   "cell_type": "code",
   "execution_count": 93,
   "metadata": {},
   "outputs": [
    {
     "data": {
      "text/plain": [
       "array([0.99708041, 0.82600214, 0.35161366])"
      ]
     },
     "execution_count": 93,
     "metadata": {},
     "output_type": "execute_result"
    }
   ],
   "source": [
    "# Calculates the full coupling layer terms\n",
    "(tf.diag_part(alpha*Q[:,b[:,0]])+tf.diag_part(np.cumsum(Q,axis=1)[:,b[:,0]-1])).numpy()"
   ]
  },
  {
   "cell_type": "code",
   "execution_count": 144,
   "metadata": {},
   "outputs": [],
   "source": [
    "x=np.linspace(0,1,100,endpoint=False)\n",
    "a = np.zeros_like(x)\n",
    "tot = np.zeros_like(x)\n",
    "for i,_ in enumerate(x):\n",
    "    a[i] = Q[0,int(np.floor(5*x[i]+1))]\n",
    "    tot[i] = np.sum(Q[0,:int(np.floor(5*x[i]+1))])\n",
    "C=(5*x-np.floor(5*x))*a+tot"
   ]
  },
  {
   "cell_type": "code",
   "execution_count": 146,
   "metadata": {},
   "outputs": [
    {
     "data": {
      "image/png": "[encoded data removed]",
      "text/plain": [
       "<Figure size 432x288 with 1 Axes>"
      ]
     },
     "metadata": {
      "needs_background": "light"
     },
     "output_type": "display_data"
    }
   ],
   "source": [
    "plt.plot(bins[0],Q[0]/width,ls='steps')\n",
    "plt.plot(x,C)\n",
    "plt.show()"
   ]
  },
  {
   "cell_type": "markdown",
   "metadata": {},
   "source": [
    "## Layer Class"
   ]
  },
  {
   "cell_type": "code",
   "execution_count": null,
   "metadata": {},
   "outputs": [],
   "source": [
    "class"
   ]
  }
 ],
 "metadata": {
  "kernelspec": {
   "display_name": "Python 3",
   "language": "python",
   "name": "python3"
  },
  "language_info": {
   "codemirror_mode": {
    "name": "ipython",
    "version": 3
   },
   "file_extension": ".py",
   "mimetype": "text/x-python",
   "name": "python",
   "nbconvert_exporter": "python",
   "pygments_lexer": "ipython3",
   "version": "3.6.8"
  }
 },
 "nbformat": 4,
 "nbformat_minor": 2
}
