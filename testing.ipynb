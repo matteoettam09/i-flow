{
 "cells": [
  {
   "cell_type": "code",
   "execution_count": 2,
   "metadata": {},
   "outputs": [],
   "source": [
    "import numpy as np\n",
    "import tensorflow as tf"
   ]
  },
  {
   "cell_type": "code",
   "execution_count": 3,
   "metadata": {},
   "outputs": [],
   "source": [
    "tf.enable_eager_execution()"
   ]
  },
  {
   "cell_type": "code",
   "execution_count": 4,
   "metadata": {},
   "outputs": [],
   "source": [
    "nbins = 32\n",
    "width = 1.0/nbins\n",
    "bins = np.array([[x*width for x in range(nbins+1)] for i in range(3)])"
   ]
  },
  {
   "cell_type": "code",
   "execution_count": 5,
   "metadata": {},
   "outputs": [],
   "source": [
    "Q = np.random.rand(3,nbins)"
   ]
  },
  {
   "cell_type": "code",
   "execution_count": 6,
   "metadata": {},
   "outputs": [],
   "source": [
    "total = np.sum(Q,axis=1)"
   ]
  },
  {
   "cell_type": "code",
   "execution_count": 7,
   "metadata": {},
   "outputs": [],
   "source": [
    "Q[0]=Q[0]/total[0]\n",
    "Q[1]=Q[1]/total[1]\n",
    "Q[2]=Q[2]/total[2]"
   ]
  },
  {
   "cell_type": "code",
   "execution_count": 8,
   "metadata": {},
   "outputs": [],
   "source": [
    "Q = np.insert(Q,0,0,axis=1)"
   ]
  },
  {
   "cell_type": "code",
   "execution_count": 80,
   "metadata": {},
   "outputs": [
    {
     "data": {
      "text/plain": [
       "array([[0.        , 0.03930965, 0.00378948, 0.00826786, 0.0135643 ,\n",
       "        0.02725166, 0.05314366, 0.01577528, 0.06050703, 0.0373432 ,\n",
       "        0.029346  , 0.03142985, 0.02574737, 0.05562707, 0.05241919,\n",
       "        0.05938667, 0.04144002, 0.01641293, 0.03455514, 0.00311022,\n",
       "        0.043208  , 0.05835681, 0.00391468, 0.02628663, 0.03767071,\n",
       "        0.05577145, 0.01146794, 0.01066007, 0.05492879, 0.00302214,\n",
       "        0.0342261 , 0.02574026, 0.02631984],\n",
       "       [0.        , 0.01532583, 0.04751214, 0.01151858, 0.00856559,\n",
       "        0.01017678, 0.04276045, 0.0392748 , 0.04922023, 0.02108993,\n",
       "        0.052063  , 0.04882164, 0.05575331, 0.03392851, 0.00719492,\n",
       "        0.03220565, 0.00017041, 0.04842589, 0.0422421 , 0.03687799,\n",
       "        0.02392837, 0.01484274, 0.03791074, 0.02552276, 0.03289739,\n",
       "        0.02827579, 0.05745891, 0.02756339, 0.00537218, 0.01612325,\n",
       "        0.02008265, 0.05527385, 0.05162021],\n",
       "       [0.        , 0.03317188, 0.01489491, 0.02381651, 0.04929291,\n",
       "        0.01297677, 0.0111168 , 0.0354128 , 0.02278245, 0.06292389,\n",
       "        0.0259151 , 0.02066593, 0.01377925, 0.02477473, 0.04182755,\n",
       "        0.02293351, 0.00237401, 0.06066969, 0.03094704, 0.05631376,\n",
       "        0.03286164, 0.00255605, 0.02800709, 0.06008353, 0.05250373,\n",
       "        0.05829789, 0.02222635, 0.00063594, 0.05600314, 0.01473109,\n",
       "        0.04053587, 0.03668787, 0.0282803 ]])"
      ]
     },
     "execution_count": 80,
     "metadata": {},
     "output_type": "execute_result"
    }
   ],
   "source": [
    "Q"
   ]
  },
  {
   "cell_type": "code",
   "execution_count": 9,
   "metadata": {},
   "outputs": [],
   "source": [
    "xB = np.random.rand(1,3)"
   ]
  },
  {
   "cell_type": "code",
   "execution_count": 10,
   "metadata": {},
   "outputs": [
    {
     "data": {
      "text/plain": [
       "array([[0.0223716 , 0.28167491, 0.46267552]])"
      ]
     },
     "execution_count": 10,
     "metadata": {},
     "output_type": "execute_result"
    }
   ],
   "source": [
    "xB"
   ]
  },
  {
   "cell_type": "code",
   "execution_count": 11,
   "metadata": {},
   "outputs": [
    {
     "data": {
      "text/plain": [
       "array([[0.     , 0.03125, 0.0625 , 0.09375, 0.125  , 0.15625, 0.1875 ,\n",
       "        0.21875, 0.25   , 0.28125, 0.3125 , 0.34375, 0.375  , 0.40625,\n",
       "        0.4375 , 0.46875, 0.5    , 0.53125, 0.5625 , 0.59375, 0.625  ,\n",
       "        0.65625, 0.6875 , 0.71875, 0.75   , 0.78125, 0.8125 , 0.84375,\n",
       "        0.875  , 0.90625, 0.9375 , 0.96875, 1.     ],\n",
       "       [0.     , 0.03125, 0.0625 , 0.09375, 0.125  , 0.15625, 0.1875 ,\n",
       "        0.21875, 0.25   , 0.28125, 0.3125 , 0.34375, 0.375  , 0.40625,\n",
       "        0.4375 , 0.46875, 0.5    , 0.53125, 0.5625 , 0.59375, 0.625  ,\n",
       "        0.65625, 0.6875 , 0.71875, 0.75   , 0.78125, 0.8125 , 0.84375,\n",
       "        0.875  , 0.90625, 0.9375 , 0.96875, 1.     ],\n",
       "       [0.     , 0.03125, 0.0625 , 0.09375, 0.125  , 0.15625, 0.1875 ,\n",
       "        0.21875, 0.25   , 0.28125, 0.3125 , 0.34375, 0.375  , 0.40625,\n",
       "        0.4375 , 0.46875, 0.5    , 0.53125, 0.5625 , 0.59375, 0.625  ,\n",
       "        0.65625, 0.6875 , 0.71875, 0.75   , 0.78125, 0.8125 , 0.84375,\n",
       "        0.875  , 0.90625, 0.9375 , 0.96875, 1.     ]])"
      ]
     },
     "execution_count": 11,
     "metadata": {},
     "output_type": "execute_result"
    }
   ],
   "source": [
    "bins"
   ]
  },
  {
   "cell_type": "code",
   "execution_count": 18,
   "metadata": {},
   "outputs": [],
   "source": [
    "b=tf.searchsorted(bins,tf.transpose(xB),side='right')"
   ]
  },
  {
   "cell_type": "code",
   "execution_count": 19,
   "metadata": {
    "scrolled": true
   },
   "outputs": [
    {
     "data": {
      "text/plain": [
       "<tf.Tensor: id=106, shape=(1, 3), dtype=int32, numpy=array([[ 1, 10, 15]], dtype=int32)>"
      ]
     },
     "execution_count": 19,
     "metadata": {},
     "output_type": "execute_result"
    }
   ],
   "source": [
    "tf.transpose(b)"
   ]
  },
  {
   "cell_type": "code",
   "execution_count": 20,
   "metadata": {
    "scrolled": false
   },
   "outputs": [
    {
     "data": {
      "text/plain": [
       "array([[0.01420116, 0.00373426, 0.00795862]])"
      ]
     },
     "execution_count": 20,
     "metadata": {},
     "output_type": "execute_result"
    }
   ],
   "source": [
    "Q[:,tf.transpose(b)][0,:]"
   ]
  },
  {
   "cell_type": "code",
   "execution_count": 21,
   "metadata": {},
   "outputs": [
    {
     "data": {
      "text/plain": [
       "array([[0.01420116, 0.00373426, 0.00795862],\n",
       "       [0.00482652, 0.05512942, 0.02111121],\n",
       "       [0.03036283, 0.05347045, 0.03404066]])"
      ]
     },
     "execution_count": 21,
     "metadata": {},
     "output_type": "execute_result"
    }
   ],
   "source": [
    "Q[:,tf.transpose(b)][:,0]"
   ]
  },
  {
   "cell_type": "code",
   "execution_count": 22,
   "metadata": {
    "scrolled": true
   },
   "outputs": [
    {
     "data": {
      "text/plain": [
       "<tf.Tensor: id=123, shape=(), dtype=float64, numpy=2.6650502460893233e-05>"
      ]
     },
     "execution_count": 22,
     "metadata": {},
     "output_type": "execute_result"
    }
   ],
   "source": [
    "tf.reduce_prod(tf.diag_part(Q[:,tf.transpose(b)][:,0]))"
   ]
  },
  {
   "cell_type": "code",
   "execution_count": 24,
   "metadata": {},
   "outputs": [
    {
     "data": {
      "text/plain": [
       "<tf.Tensor: id=136, shape=(3,), dtype=float64, numpy=array([0.03125, 0.3125 , 0.46875])>"
      ]
     },
     "execution_count": 24,
     "metadata": {},
     "output_type": "execute_result"
    }
   ],
   "source": [
    "tf.diag_part(bins[:,b[:,0]])"
   ]
  },
  {
   "cell_type": "code",
   "execution_count": 25,
   "metadata": {},
   "outputs": [
    {
     "data": {
      "text/plain": [
       "<tf.Tensor: id=143, shape=(3,), dtype=int32, numpy=array([ 0,  9, 14], dtype=int32)>"
      ]
     },
     "execution_count": 25,
     "metadata": {},
     "output_type": "execute_result"
    }
   ],
   "source": [
    "b[:,0]-1"
   ]
  },
  {
   "cell_type": "code",
   "execution_count": 27,
   "metadata": {},
   "outputs": [],
   "source": [
    "alpha = (xB-tf.diag_part(bins[:,b[:,0]-1]))/width"
   ]
  },
  {
   "cell_type": "code",
   "execution_count": 50,
   "metadata": {},
   "outputs": [
    {
     "data": {
      "text/plain": [
       "<tf.Tensor: id=173, shape=(1, 3), dtype=float64, numpy=array([[0.71589135, 0.01359705, 0.80561679]])>"
      ]
     },
     "execution_count": 50,
     "metadata": {},
     "output_type": "execute_result"
    }
   ],
   "source": [
    "alpha"
   ]
  },
  {
   "cell_type": "code",
   "execution_count": 30,
   "metadata": {},
   "outputs": [
    {
     "data": {
      "text/plain": [
       "array([[0.01420116, 0.00373426, 0.00795862],\n",
       "       [0.00482652, 0.05512942, 0.02111121],\n",
       "       [0.03036283, 0.05347045, 0.03404066]])"
      ]
     },
     "execution_count": 30,
     "metadata": {},
     "output_type": "execute_result"
    }
   ],
   "source": [
    "Q[:,b[:,0]]"
   ]
  },
  {
   "cell_type": "code",
   "execution_count": 58,
   "metadata": {},
   "outputs": [
    {
     "data": {
      "text/plain": [
       "<tf.Tensor: id=320, shape=(3,), dtype=float64, numpy=array([0.01016649, 0.0007496 , 0.02742373])>"
      ]
     },
     "execution_count": 58,
     "metadata": {},
     "output_type": "execute_result"
    }
   ],
   "source": [
    "tf.diag_part(alpha*Q[:,b[:,0]])"
   ]
  },
  {
   "cell_type": "code",
   "execution_count": 66,
   "metadata": {},
   "outputs": [
    {
     "data": {
      "text/plain": [
       "<tf.Tensor: id=371, shape=(3,), dtype=float64, numpy=array([0.01420116, 0.38524313, 0.52350583])>"
      ]
     },
     "execution_count": 66,
     "metadata": {},
     "output_type": "execute_result"
    }
   ],
   "source": [
    "tf.diag_part(np.cumsum(Q,axis=1)[:,b[:,0]])"
   ]
  },
  {
   "cell_type": "code",
   "execution_count": 69,
   "metadata": {},
   "outputs": [
    {
     "data": {
      "text/plain": [
       "<tf.Tensor: id=408, shape=(3,), dtype=float64, numpy=array([0.02436766, 0.38599273, 0.55092956])>"
      ]
     },
     "execution_count": 69,
     "metadata": {},
     "output_type": "execute_result"
    }
   ],
   "source": [
    "tf.diag_part(alpha*Q[:,b[:,0]])+tf.diag_part(np.cumsum(Q,axis=1)[:,b[:,0]])"
   ]
  },
  {
   "cell_type": "code",
   "execution_count": null,
   "metadata": {},
   "outputs": [],
   "source": []
  }
 ],
 "metadata": {
  "kernelspec": {
   "display_name": "Python 3",
   "language": "python",
   "name": "python3"
  },
  "language_info": {
   "codemirror_mode": {
    "name": "ipython",
    "version": 3
   },
   "file_extension": ".py",
   "mimetype": "text/x-python",
   "name": "python",
   "nbconvert_exporter": "python",
   "pygments_lexer": "ipython3",
   "version": "3.6.8"
  }
 },
 "nbformat": 4,
 "nbformat_minor": 2
}
